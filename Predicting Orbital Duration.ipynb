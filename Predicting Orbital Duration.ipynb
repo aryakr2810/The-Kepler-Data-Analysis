{
  "nbformat": 4,
  "nbformat_minor": 0,
  "metadata": {
    "colab": {
      "provenance": []
    },
    "kernelspec": {
      "name": "python3",
      "display_name": "Python 3"
    },
    "language_info": {
      "name": "python"
    }
  },
  "cells": [
    {
      "cell_type": "code",
      "execution_count": 69,
      "metadata": {
        "id": "E8CqyxlWRxrl",
        "colab": {
          "base_uri": "https://localhost:8080/",
          "height": 273
        },
        "outputId": "ea426c0b-2698-41fd-eb11-ec908ddf6cb2"
      },
      "outputs": [
        {
          "output_type": "execute_result",
          "data": {
            "text/plain": [
              "      kepid kepoi_name    kepler_name koi_disposition koi_pdisposition  \\\n",
              "0  11446443  K00001.01     Kepler-1 b       CONFIRMED        CANDIDATE   \n",
              "1  10666592  K00002.01     Kepler-2 b       CONFIRMED        CANDIDATE   \n",
              "2  10748390  K00003.01     Kepler-3 b       CONFIRMED        CANDIDATE   \n",
              "3   3861595  K00004.01  Kepler-1658 b       CONFIRMED        CANDIDATE   \n",
              "4   8554498  K00005.01            NaN       CANDIDATE        CANDIDATE   \n",
              "\n",
              "   koi_score  koi_fpflag_nt  koi_fpflag_ss  koi_fpflag_co  koi_fpflag_ec  ...  \\\n",
              "0      0.811              0              0              0              0  ...   \n",
              "1      1.000              0              1              0              0  ...   \n",
              "2      0.913              0              0              0              0  ...   \n",
              "3      1.000              0              1              0              0  ...   \n",
              "4      1.000              0              0              0              0  ...   \n",
              "\n",
              "   koi_insol  koi_model_snr  koi_tce_plnt_num  koi_tce_delivname  koi_steff  \\\n",
              "0     761.46         4304.3                 1    q1_q17_dr25_tce     5820.0   \n",
              "1    4148.92         5945.9                 1    q1_q17_dr25_tce     6440.0   \n",
              "2      96.67          862.3                 1    q1_q17_dr25_tce     4778.0   \n",
              "3    4055.29          132.7                 1    q1_q17_dr25_tce     6244.0   \n",
              "4    1020.05          380.8                 1    q1_q17_dr25_tce     5937.0   \n",
              "\n",
              "   koi_slogg  koi_srad         ra        dec  koi_kepmag  \n",
              "0      4.457     0.964  286.80847  49.316399      11.338  \n",
              "1      4.019     1.952  292.24728  47.969521      10.463  \n",
              "2      4.591     0.763  297.70935  48.080853       9.174  \n",
              "3      3.657     2.992  294.35654  38.947380      11.432  \n",
              "4      4.012     1.787  289.73972  44.647419      11.665  \n",
              "\n",
              "[5 rows x 27 columns]"
            ],
            "text/html": [
              "\n",
              "  <div id=\"df-e256f972-675c-48b2-91ed-675ffd7796f9\" class=\"colab-df-container\">\n",
              "    <div>\n",
              "<style scoped>\n",
              "    .dataframe tbody tr th:only-of-type {\n",
              "        vertical-align: middle;\n",
              "    }\n",
              "\n",
              "    .dataframe tbody tr th {\n",
              "        vertical-align: top;\n",
              "    }\n",
              "\n",
              "    .dataframe thead th {\n",
              "        text-align: right;\n",
              "    }\n",
              "</style>\n",
              "<table border=\"1\" class=\"dataframe\">\n",
              "  <thead>\n",
              "    <tr style=\"text-align: right;\">\n",
              "      <th></th>\n",
              "      <th>kepid</th>\n",
              "      <th>kepoi_name</th>\n",
              "      <th>kepler_name</th>\n",
              "      <th>koi_disposition</th>\n",
              "      <th>koi_pdisposition</th>\n",
              "      <th>koi_score</th>\n",
              "      <th>koi_fpflag_nt</th>\n",
              "      <th>koi_fpflag_ss</th>\n",
              "      <th>koi_fpflag_co</th>\n",
              "      <th>koi_fpflag_ec</th>\n",
              "      <th>...</th>\n",
              "      <th>koi_insol</th>\n",
              "      <th>koi_model_snr</th>\n",
              "      <th>koi_tce_plnt_num</th>\n",
              "      <th>koi_tce_delivname</th>\n",
              "      <th>koi_steff</th>\n",
              "      <th>koi_slogg</th>\n",
              "      <th>koi_srad</th>\n",
              "      <th>ra</th>\n",
              "      <th>dec</th>\n",
              "      <th>koi_kepmag</th>\n",
              "    </tr>\n",
              "  </thead>\n",
              "  <tbody>\n",
              "    <tr>\n",
              "      <th>0</th>\n",
              "      <td>11446443</td>\n",
              "      <td>K00001.01</td>\n",
              "      <td>Kepler-1 b</td>\n",
              "      <td>CONFIRMED</td>\n",
              "      <td>CANDIDATE</td>\n",
              "      <td>0.811</td>\n",
              "      <td>0</td>\n",
              "      <td>0</td>\n",
              "      <td>0</td>\n",
              "      <td>0</td>\n",
              "      <td>...</td>\n",
              "      <td>761.46</td>\n",
              "      <td>4304.3</td>\n",
              "      <td>1</td>\n",
              "      <td>q1_q17_dr25_tce</td>\n",
              "      <td>5820.0</td>\n",
              "      <td>4.457</td>\n",
              "      <td>0.964</td>\n",
              "      <td>286.80847</td>\n",
              "      <td>49.316399</td>\n",
              "      <td>11.338</td>\n",
              "    </tr>\n",
              "    <tr>\n",
              "      <th>1</th>\n",
              "      <td>10666592</td>\n",
              "      <td>K00002.01</td>\n",
              "      <td>Kepler-2 b</td>\n",
              "      <td>CONFIRMED</td>\n",
              "      <td>CANDIDATE</td>\n",
              "      <td>1.000</td>\n",
              "      <td>0</td>\n",
              "      <td>1</td>\n",
              "      <td>0</td>\n",
              "      <td>0</td>\n",
              "      <td>...</td>\n",
              "      <td>4148.92</td>\n",
              "      <td>5945.9</td>\n",
              "      <td>1</td>\n",
              "      <td>q1_q17_dr25_tce</td>\n",
              "      <td>6440.0</td>\n",
              "      <td>4.019</td>\n",
              "      <td>1.952</td>\n",
              "      <td>292.24728</td>\n",
              "      <td>47.969521</td>\n",
              "      <td>10.463</td>\n",
              "    </tr>\n",
              "    <tr>\n",
              "      <th>2</th>\n",
              "      <td>10748390</td>\n",
              "      <td>K00003.01</td>\n",
              "      <td>Kepler-3 b</td>\n",
              "      <td>CONFIRMED</td>\n",
              "      <td>CANDIDATE</td>\n",
              "      <td>0.913</td>\n",
              "      <td>0</td>\n",
              "      <td>0</td>\n",
              "      <td>0</td>\n",
              "      <td>0</td>\n",
              "      <td>...</td>\n",
              "      <td>96.67</td>\n",
              "      <td>862.3</td>\n",
              "      <td>1</td>\n",
              "      <td>q1_q17_dr25_tce</td>\n",
              "      <td>4778.0</td>\n",
              "      <td>4.591</td>\n",
              "      <td>0.763</td>\n",
              "      <td>297.70935</td>\n",
              "      <td>48.080853</td>\n",
              "      <td>9.174</td>\n",
              "    </tr>\n",
              "    <tr>\n",
              "      <th>3</th>\n",
              "      <td>3861595</td>\n",
              "      <td>K00004.01</td>\n",
              "      <td>Kepler-1658 b</td>\n",
              "      <td>CONFIRMED</td>\n",
              "      <td>CANDIDATE</td>\n",
              "      <td>1.000</td>\n",
              "      <td>0</td>\n",
              "      <td>1</td>\n",
              "      <td>0</td>\n",
              "      <td>0</td>\n",
              "      <td>...</td>\n",
              "      <td>4055.29</td>\n",
              "      <td>132.7</td>\n",
              "      <td>1</td>\n",
              "      <td>q1_q17_dr25_tce</td>\n",
              "      <td>6244.0</td>\n",
              "      <td>3.657</td>\n",
              "      <td>2.992</td>\n",
              "      <td>294.35654</td>\n",
              "      <td>38.947380</td>\n",
              "      <td>11.432</td>\n",
              "    </tr>\n",
              "    <tr>\n",
              "      <th>4</th>\n",
              "      <td>8554498</td>\n",
              "      <td>K00005.01</td>\n",
              "      <td>NaN</td>\n",
              "      <td>CANDIDATE</td>\n",
              "      <td>CANDIDATE</td>\n",
              "      <td>1.000</td>\n",
              "      <td>0</td>\n",
              "      <td>0</td>\n",
              "      <td>0</td>\n",
              "      <td>0</td>\n",
              "      <td>...</td>\n",
              "      <td>1020.05</td>\n",
              "      <td>380.8</td>\n",
              "      <td>1</td>\n",
              "      <td>q1_q17_dr25_tce</td>\n",
              "      <td>5937.0</td>\n",
              "      <td>4.012</td>\n",
              "      <td>1.787</td>\n",
              "      <td>289.73972</td>\n",
              "      <td>44.647419</td>\n",
              "      <td>11.665</td>\n",
              "    </tr>\n",
              "  </tbody>\n",
              "</table>\n",
              "<p>5 rows × 27 columns</p>\n",
              "</div>\n",
              "    <div class=\"colab-df-buttons\">\n",
              "\n",
              "  <div class=\"colab-df-container\">\n",
              "    <button class=\"colab-df-convert\" onclick=\"convertToInteractive('df-e256f972-675c-48b2-91ed-675ffd7796f9')\"\n",
              "            title=\"Convert this dataframe to an interactive table.\"\n",
              "            style=\"display:none;\">\n",
              "\n",
              "  <svg xmlns=\"http://www.w3.org/2000/svg\" height=\"24px\" viewBox=\"0 -960 960 960\">\n",
              "    <path d=\"M120-120v-720h720v720H120Zm60-500h600v-160H180v160Zm220 220h160v-160H400v160Zm0 220h160v-160H400v160ZM180-400h160v-160H180v160Zm440 0h160v-160H620v160ZM180-180h160v-160H180v160Zm440 0h160v-160H620v160Z\"/>\n",
              "  </svg>\n",
              "    </button>\n",
              "\n",
              "  <style>\n",
              "    .colab-df-container {\n",
              "      display:flex;\n",
              "      gap: 12px;\n",
              "    }\n",
              "\n",
              "    .colab-df-convert {\n",
              "      background-color: #E8F0FE;\n",
              "      border: none;\n",
              "      border-radius: 50%;\n",
              "      cursor: pointer;\n",
              "      display: none;\n",
              "      fill: #1967D2;\n",
              "      height: 32px;\n",
              "      padding: 0 0 0 0;\n",
              "      width: 32px;\n",
              "    }\n",
              "\n",
              "    .colab-df-convert:hover {\n",
              "      background-color: #E2EBFA;\n",
              "      box-shadow: 0px 1px 2px rgba(60, 64, 67, 0.3), 0px 1px 3px 1px rgba(60, 64, 67, 0.15);\n",
              "      fill: #174EA6;\n",
              "    }\n",
              "\n",
              "    .colab-df-buttons div {\n",
              "      margin-bottom: 4px;\n",
              "    }\n",
              "\n",
              "    [theme=dark] .colab-df-convert {\n",
              "      background-color: #3B4455;\n",
              "      fill: #D2E3FC;\n",
              "    }\n",
              "\n",
              "    [theme=dark] .colab-df-convert:hover {\n",
              "      background-color: #434B5C;\n",
              "      box-shadow: 0px 1px 3px 1px rgba(0, 0, 0, 0.15);\n",
              "      filter: drop-shadow(0px 1px 2px rgba(0, 0, 0, 0.3));\n",
              "      fill: #FFFFFF;\n",
              "    }\n",
              "  </style>\n",
              "\n",
              "    <script>\n",
              "      const buttonEl =\n",
              "        document.querySelector('#df-e256f972-675c-48b2-91ed-675ffd7796f9 button.colab-df-convert');\n",
              "      buttonEl.style.display =\n",
              "        google.colab.kernel.accessAllowed ? 'block' : 'none';\n",
              "\n",
              "      async function convertToInteractive(key) {\n",
              "        const element = document.querySelector('#df-e256f972-675c-48b2-91ed-675ffd7796f9');\n",
              "        const dataTable =\n",
              "          await google.colab.kernel.invokeFunction('convertToInteractive',\n",
              "                                                    [key], {});\n",
              "        if (!dataTable) return;\n",
              "\n",
              "        const docLinkHtml = 'Like what you see? Visit the ' +\n",
              "          '<a target=\"_blank\" href=https://colab.research.google.com/notebooks/data_table.ipynb>data table notebook</a>'\n",
              "          + ' to learn more about interactive tables.';\n",
              "        element.innerHTML = '';\n",
              "        dataTable['output_type'] = 'display_data';\n",
              "        await google.colab.output.renderOutput(dataTable, element);\n",
              "        const docLink = document.createElement('div');\n",
              "        docLink.innerHTML = docLinkHtml;\n",
              "        element.appendChild(docLink);\n",
              "      }\n",
              "    </script>\n",
              "  </div>\n",
              "\n",
              "\n",
              "<div id=\"df-1dd0188a-1952-4b0b-af86-fee9d1f4dc83\">\n",
              "  <button class=\"colab-df-quickchart\" onclick=\"quickchart('df-1dd0188a-1952-4b0b-af86-fee9d1f4dc83')\"\n",
              "            title=\"Suggest charts\"\n",
              "            style=\"display:none;\">\n",
              "\n",
              "<svg xmlns=\"http://www.w3.org/2000/svg\" height=\"24px\"viewBox=\"0 0 24 24\"\n",
              "     width=\"24px\">\n",
              "    <g>\n",
              "        <path d=\"M19 3H5c-1.1 0-2 .9-2 2v14c0 1.1.9 2 2 2h14c1.1 0 2-.9 2-2V5c0-1.1-.9-2-2-2zM9 17H7v-7h2v7zm4 0h-2V7h2v10zm4 0h-2v-4h2v4z\"/>\n",
              "    </g>\n",
              "</svg>\n",
              "  </button>\n",
              "\n",
              "<style>\n",
              "  .colab-df-quickchart {\n",
              "      --bg-color: #E8F0FE;\n",
              "      --fill-color: #1967D2;\n",
              "      --hover-bg-color: #E2EBFA;\n",
              "      --hover-fill-color: #174EA6;\n",
              "      --disabled-fill-color: #AAA;\n",
              "      --disabled-bg-color: #DDD;\n",
              "  }\n",
              "\n",
              "  [theme=dark] .colab-df-quickchart {\n",
              "      --bg-color: #3B4455;\n",
              "      --fill-color: #D2E3FC;\n",
              "      --hover-bg-color: #434B5C;\n",
              "      --hover-fill-color: #FFFFFF;\n",
              "      --disabled-bg-color: #3B4455;\n",
              "      --disabled-fill-color: #666;\n",
              "  }\n",
              "\n",
              "  .colab-df-quickchart {\n",
              "    background-color: var(--bg-color);\n",
              "    border: none;\n",
              "    border-radius: 50%;\n",
              "    cursor: pointer;\n",
              "    display: none;\n",
              "    fill: var(--fill-color);\n",
              "    height: 32px;\n",
              "    padding: 0;\n",
              "    width: 32px;\n",
              "  }\n",
              "\n",
              "  .colab-df-quickchart:hover {\n",
              "    background-color: var(--hover-bg-color);\n",
              "    box-shadow: 0 1px 2px rgba(60, 64, 67, 0.3), 0 1px 3px 1px rgba(60, 64, 67, 0.15);\n",
              "    fill: var(--button-hover-fill-color);\n",
              "  }\n",
              "\n",
              "  .colab-df-quickchart-complete:disabled,\n",
              "  .colab-df-quickchart-complete:disabled:hover {\n",
              "    background-color: var(--disabled-bg-color);\n",
              "    fill: var(--disabled-fill-color);\n",
              "    box-shadow: none;\n",
              "  }\n",
              "\n",
              "  .colab-df-spinner {\n",
              "    border: 2px solid var(--fill-color);\n",
              "    border-color: transparent;\n",
              "    border-bottom-color: var(--fill-color);\n",
              "    animation:\n",
              "      spin 1s steps(1) infinite;\n",
              "  }\n",
              "\n",
              "  @keyframes spin {\n",
              "    0% {\n",
              "      border-color: transparent;\n",
              "      border-bottom-color: var(--fill-color);\n",
              "      border-left-color: var(--fill-color);\n",
              "    }\n",
              "    20% {\n",
              "      border-color: transparent;\n",
              "      border-left-color: var(--fill-color);\n",
              "      border-top-color: var(--fill-color);\n",
              "    }\n",
              "    30% {\n",
              "      border-color: transparent;\n",
              "      border-left-color: var(--fill-color);\n",
              "      border-top-color: var(--fill-color);\n",
              "      border-right-color: var(--fill-color);\n",
              "    }\n",
              "    40% {\n",
              "      border-color: transparent;\n",
              "      border-right-color: var(--fill-color);\n",
              "      border-top-color: var(--fill-color);\n",
              "    }\n",
              "    60% {\n",
              "      border-color: transparent;\n",
              "      border-right-color: var(--fill-color);\n",
              "    }\n",
              "    80% {\n",
              "      border-color: transparent;\n",
              "      border-right-color: var(--fill-color);\n",
              "      border-bottom-color: var(--fill-color);\n",
              "    }\n",
              "    90% {\n",
              "      border-color: transparent;\n",
              "      border-bottom-color: var(--fill-color);\n",
              "    }\n",
              "  }\n",
              "</style>\n",
              "\n",
              "  <script>\n",
              "    async function quickchart(key) {\n",
              "      const quickchartButtonEl =\n",
              "        document.querySelector('#' + key + ' button');\n",
              "      quickchartButtonEl.disabled = true;  // To prevent multiple clicks.\n",
              "      quickchartButtonEl.classList.add('colab-df-spinner');\n",
              "      try {\n",
              "        const charts = await google.colab.kernel.invokeFunction(\n",
              "            'suggestCharts', [key], {});\n",
              "      } catch (error) {\n",
              "        console.error('Error during call to suggestCharts:', error);\n",
              "      }\n",
              "      quickchartButtonEl.classList.remove('colab-df-spinner');\n",
              "      quickchartButtonEl.classList.add('colab-df-quickchart-complete');\n",
              "    }\n",
              "    (() => {\n",
              "      let quickchartButtonEl =\n",
              "        document.querySelector('#df-1dd0188a-1952-4b0b-af86-fee9d1f4dc83 button');\n",
              "      quickchartButtonEl.style.display =\n",
              "        google.colab.kernel.accessAllowed ? 'block' : 'none';\n",
              "    })();\n",
              "  </script>\n",
              "</div>\n",
              "\n",
              "    </div>\n",
              "  </div>\n"
            ],
            "application/vnd.google.colaboratory.intrinsic+json": {
              "type": "dataframe",
              "variable_name": "data"
            }
          },
          "metadata": {},
          "execution_count": 69
        }
      ],
      "source": [
        "import pandas as pd\n",
        "data = pd.read_csv(\"TheKeplerTable.csv\")\n",
        "data.head()"
      ]
    },
    {
      "cell_type": "code",
      "source": [
        "data.shape"
      ],
      "metadata": {
        "colab": {
          "base_uri": "https://localhost:8080/"
        },
        "id": "vavOKpe9cgpF",
        "outputId": "3ac295f6-9b88-456a-bd29-787701a21f3d"
      },
      "execution_count": 70,
      "outputs": [
        {
          "output_type": "execute_result",
          "data": {
            "text/plain": [
              "(8054, 27)"
            ]
          },
          "metadata": {},
          "execution_count": 70
        }
      ]
    },
    {
      "cell_type": "markdown",
      "source": [
        "### Cleaning"
      ],
      "metadata": {
        "id": "nHObJF4NsBC8"
      }
    },
    {
      "cell_type": "code",
      "source": [
        "data.isnull().sum()"
      ],
      "metadata": {
        "colab": {
          "base_uri": "https://localhost:8080/",
          "height": 931
        },
        "id": "vQDTzE7Yck63",
        "outputId": "72c19a54-7aad-46d5-a7b2-791e0714f26d"
      },
      "execution_count": 71,
      "outputs": [
        {
          "output_type": "execute_result",
          "data": {
            "text/plain": [
              "kepid                   0\n",
              "kepoi_name              0\n",
              "kepler_name          5326\n",
              "koi_disposition         0\n",
              "koi_pdisposition        0\n",
              "koi_score               0\n",
              "koi_fpflag_nt           0\n",
              "koi_fpflag_ss           0\n",
              "koi_fpflag_co           0\n",
              "koi_fpflag_ec           0\n",
              "koi_period              0\n",
              "koi_time0bk             0\n",
              "koi_impact             59\n",
              "koi_duration            0\n",
              "koi_depth              59\n",
              "koi_prad               59\n",
              "koi_teq                59\n",
              "koi_insol              59\n",
              "koi_model_snr          59\n",
              "koi_tce_plnt_num        0\n",
              "koi_tce_delivname       0\n",
              "koi_steff              59\n",
              "koi_slogg              59\n",
              "koi_srad               59\n",
              "ra                      0\n",
              "dec                     0\n",
              "koi_kepmag              1\n",
              "dtype: int64"
            ],
            "text/html": [
              "<div>\n",
              "<style scoped>\n",
              "    .dataframe tbody tr th:only-of-type {\n",
              "        vertical-align: middle;\n",
              "    }\n",
              "\n",
              "    .dataframe tbody tr th {\n",
              "        vertical-align: top;\n",
              "    }\n",
              "\n",
              "    .dataframe thead th {\n",
              "        text-align: right;\n",
              "    }\n",
              "</style>\n",
              "<table border=\"1\" class=\"dataframe\">\n",
              "  <thead>\n",
              "    <tr style=\"text-align: right;\">\n",
              "      <th></th>\n",
              "      <th>0</th>\n",
              "    </tr>\n",
              "  </thead>\n",
              "  <tbody>\n",
              "    <tr>\n",
              "      <th>kepid</th>\n",
              "      <td>0</td>\n",
              "    </tr>\n",
              "    <tr>\n",
              "      <th>kepoi_name</th>\n",
              "      <td>0</td>\n",
              "    </tr>\n",
              "    <tr>\n",
              "      <th>kepler_name</th>\n",
              "      <td>5326</td>\n",
              "    </tr>\n",
              "    <tr>\n",
              "      <th>koi_disposition</th>\n",
              "      <td>0</td>\n",
              "    </tr>\n",
              "    <tr>\n",
              "      <th>koi_pdisposition</th>\n",
              "      <td>0</td>\n",
              "    </tr>\n",
              "    <tr>\n",
              "      <th>koi_score</th>\n",
              "      <td>0</td>\n",
              "    </tr>\n",
              "    <tr>\n",
              "      <th>koi_fpflag_nt</th>\n",
              "      <td>0</td>\n",
              "    </tr>\n",
              "    <tr>\n",
              "      <th>koi_fpflag_ss</th>\n",
              "      <td>0</td>\n",
              "    </tr>\n",
              "    <tr>\n",
              "      <th>koi_fpflag_co</th>\n",
              "      <td>0</td>\n",
              "    </tr>\n",
              "    <tr>\n",
              "      <th>koi_fpflag_ec</th>\n",
              "      <td>0</td>\n",
              "    </tr>\n",
              "    <tr>\n",
              "      <th>koi_period</th>\n",
              "      <td>0</td>\n",
              "    </tr>\n",
              "    <tr>\n",
              "      <th>koi_time0bk</th>\n",
              "      <td>0</td>\n",
              "    </tr>\n",
              "    <tr>\n",
              "      <th>koi_impact</th>\n",
              "      <td>59</td>\n",
              "    </tr>\n",
              "    <tr>\n",
              "      <th>koi_duration</th>\n",
              "      <td>0</td>\n",
              "    </tr>\n",
              "    <tr>\n",
              "      <th>koi_depth</th>\n",
              "      <td>59</td>\n",
              "    </tr>\n",
              "    <tr>\n",
              "      <th>koi_prad</th>\n",
              "      <td>59</td>\n",
              "    </tr>\n",
              "    <tr>\n",
              "      <th>koi_teq</th>\n",
              "      <td>59</td>\n",
              "    </tr>\n",
              "    <tr>\n",
              "      <th>koi_insol</th>\n",
              "      <td>59</td>\n",
              "    </tr>\n",
              "    <tr>\n",
              "      <th>koi_model_snr</th>\n",
              "      <td>59</td>\n",
              "    </tr>\n",
              "    <tr>\n",
              "      <th>koi_tce_plnt_num</th>\n",
              "      <td>0</td>\n",
              "    </tr>\n",
              "    <tr>\n",
              "      <th>koi_tce_delivname</th>\n",
              "      <td>0</td>\n",
              "    </tr>\n",
              "    <tr>\n",
              "      <th>koi_steff</th>\n",
              "      <td>59</td>\n",
              "    </tr>\n",
              "    <tr>\n",
              "      <th>koi_slogg</th>\n",
              "      <td>59</td>\n",
              "    </tr>\n",
              "    <tr>\n",
              "      <th>koi_srad</th>\n",
              "      <td>59</td>\n",
              "    </tr>\n",
              "    <tr>\n",
              "      <th>ra</th>\n",
              "      <td>0</td>\n",
              "    </tr>\n",
              "    <tr>\n",
              "      <th>dec</th>\n",
              "      <td>0</td>\n",
              "    </tr>\n",
              "    <tr>\n",
              "      <th>koi_kepmag</th>\n",
              "      <td>1</td>\n",
              "    </tr>\n",
              "  </tbody>\n",
              "</table>\n",
              "</div><br><label><b>dtype:</b> int64</label>"
            ]
          },
          "metadata": {},
          "execution_count": 71
        }
      ]
    },
    {
      "cell_type": "code",
      "source": [
        "data.dropna(inplace=True)"
      ],
      "metadata": {
        "id": "TyvOLKEgdQIB"
      },
      "execution_count": 72,
      "outputs": []
    },
    {
      "cell_type": "code",
      "source": [
        "data.isnull().sum()"
      ],
      "metadata": {
        "colab": {
          "base_uri": "https://localhost:8080/",
          "height": 931
        },
        "id": "Y5fW1tdPdTkR",
        "outputId": "73f484b0-b77d-468f-9f7d-61051ea78186"
      },
      "execution_count": 73,
      "outputs": [
        {
          "output_type": "execute_result",
          "data": {
            "text/plain": [
              "kepid                0\n",
              "kepoi_name           0\n",
              "kepler_name          0\n",
              "koi_disposition      0\n",
              "koi_pdisposition     0\n",
              "koi_score            0\n",
              "koi_fpflag_nt        0\n",
              "koi_fpflag_ss        0\n",
              "koi_fpflag_co        0\n",
              "koi_fpflag_ec        0\n",
              "koi_period           0\n",
              "koi_time0bk          0\n",
              "koi_impact           0\n",
              "koi_duration         0\n",
              "koi_depth            0\n",
              "koi_prad             0\n",
              "koi_teq              0\n",
              "koi_insol            0\n",
              "koi_model_snr        0\n",
              "koi_tce_plnt_num     0\n",
              "koi_tce_delivname    0\n",
              "koi_steff            0\n",
              "koi_slogg            0\n",
              "koi_srad             0\n",
              "ra                   0\n",
              "dec                  0\n",
              "koi_kepmag           0\n",
              "dtype: int64"
            ],
            "text/html": [
              "<div>\n",
              "<style scoped>\n",
              "    .dataframe tbody tr th:only-of-type {\n",
              "        vertical-align: middle;\n",
              "    }\n",
              "\n",
              "    .dataframe tbody tr th {\n",
              "        vertical-align: top;\n",
              "    }\n",
              "\n",
              "    .dataframe thead th {\n",
              "        text-align: right;\n",
              "    }\n",
              "</style>\n",
              "<table border=\"1\" class=\"dataframe\">\n",
              "  <thead>\n",
              "    <tr style=\"text-align: right;\">\n",
              "      <th></th>\n",
              "      <th>0</th>\n",
              "    </tr>\n",
              "  </thead>\n",
              "  <tbody>\n",
              "    <tr>\n",
              "      <th>kepid</th>\n",
              "      <td>0</td>\n",
              "    </tr>\n",
              "    <tr>\n",
              "      <th>kepoi_name</th>\n",
              "      <td>0</td>\n",
              "    </tr>\n",
              "    <tr>\n",
              "      <th>kepler_name</th>\n",
              "      <td>0</td>\n",
              "    </tr>\n",
              "    <tr>\n",
              "      <th>koi_disposition</th>\n",
              "      <td>0</td>\n",
              "    </tr>\n",
              "    <tr>\n",
              "      <th>koi_pdisposition</th>\n",
              "      <td>0</td>\n",
              "    </tr>\n",
              "    <tr>\n",
              "      <th>koi_score</th>\n",
              "      <td>0</td>\n",
              "    </tr>\n",
              "    <tr>\n",
              "      <th>koi_fpflag_nt</th>\n",
              "      <td>0</td>\n",
              "    </tr>\n",
              "    <tr>\n",
              "      <th>koi_fpflag_ss</th>\n",
              "      <td>0</td>\n",
              "    </tr>\n",
              "    <tr>\n",
              "      <th>koi_fpflag_co</th>\n",
              "      <td>0</td>\n",
              "    </tr>\n",
              "    <tr>\n",
              "      <th>koi_fpflag_ec</th>\n",
              "      <td>0</td>\n",
              "    </tr>\n",
              "    <tr>\n",
              "      <th>koi_period</th>\n",
              "      <td>0</td>\n",
              "    </tr>\n",
              "    <tr>\n",
              "      <th>koi_time0bk</th>\n",
              "      <td>0</td>\n",
              "    </tr>\n",
              "    <tr>\n",
              "      <th>koi_impact</th>\n",
              "      <td>0</td>\n",
              "    </tr>\n",
              "    <tr>\n",
              "      <th>koi_duration</th>\n",
              "      <td>0</td>\n",
              "    </tr>\n",
              "    <tr>\n",
              "      <th>koi_depth</th>\n",
              "      <td>0</td>\n",
              "    </tr>\n",
              "    <tr>\n",
              "      <th>koi_prad</th>\n",
              "      <td>0</td>\n",
              "    </tr>\n",
              "    <tr>\n",
              "      <th>koi_teq</th>\n",
              "      <td>0</td>\n",
              "    </tr>\n",
              "    <tr>\n",
              "      <th>koi_insol</th>\n",
              "      <td>0</td>\n",
              "    </tr>\n",
              "    <tr>\n",
              "      <th>koi_model_snr</th>\n",
              "      <td>0</td>\n",
              "    </tr>\n",
              "    <tr>\n",
              "      <th>koi_tce_plnt_num</th>\n",
              "      <td>0</td>\n",
              "    </tr>\n",
              "    <tr>\n",
              "      <th>koi_tce_delivname</th>\n",
              "      <td>0</td>\n",
              "    </tr>\n",
              "    <tr>\n",
              "      <th>koi_steff</th>\n",
              "      <td>0</td>\n",
              "    </tr>\n",
              "    <tr>\n",
              "      <th>koi_slogg</th>\n",
              "      <td>0</td>\n",
              "    </tr>\n",
              "    <tr>\n",
              "      <th>koi_srad</th>\n",
              "      <td>0</td>\n",
              "    </tr>\n",
              "    <tr>\n",
              "      <th>ra</th>\n",
              "      <td>0</td>\n",
              "    </tr>\n",
              "    <tr>\n",
              "      <th>dec</th>\n",
              "      <td>0</td>\n",
              "    </tr>\n",
              "    <tr>\n",
              "      <th>koi_kepmag</th>\n",
              "      <td>0</td>\n",
              "    </tr>\n",
              "  </tbody>\n",
              "</table>\n",
              "</div><br><label><b>dtype:</b> int64</label>"
            ]
          },
          "metadata": {},
          "execution_count": 73
        }
      ]
    },
    {
      "cell_type": "code",
      "source": [
        "data.shape"
      ],
      "metadata": {
        "colab": {
          "base_uri": "https://localhost:8080/"
        },
        "id": "oPjMMKl4eAO9",
        "outputId": "ea44f451-c0d2-4c5a-cabd-a2f20b70a721"
      },
      "execution_count": 74,
      "outputs": [
        {
          "output_type": "execute_result",
          "data": {
            "text/plain": [
              "(2727, 27)"
            ]
          },
          "metadata": {},
          "execution_count": 74
        }
      ]
    },
    {
      "cell_type": "code",
      "source": [
        "data.to_csv(\"CleanedKeplerTable.csv\",index=False)"
      ],
      "metadata": {
        "id": "uMiPxdcEeFDR"
      },
      "execution_count": 75,
      "outputs": []
    },
    {
      "cell_type": "markdown",
      "source": [
        "### Creating a Baseline Model"
      ],
      "metadata": {
        "id": "ldp5it2TsHQY"
      }
    },
    {
      "cell_type": "code",
      "source": [
        "data.columns"
      ],
      "metadata": {
        "colab": {
          "base_uri": "https://localhost:8080/"
        },
        "id": "4k9Ep712gNx3",
        "outputId": "d54760d1-ec69-4629-f8df-8e85b613cb69"
      },
      "execution_count": 76,
      "outputs": [
        {
          "output_type": "execute_result",
          "data": {
            "text/plain": [
              "Index(['kepid', 'kepoi_name', 'kepler_name', 'koi_disposition',\n",
              "       'koi_pdisposition', 'koi_score', 'koi_fpflag_nt', 'koi_fpflag_ss',\n",
              "       'koi_fpflag_co', 'koi_fpflag_ec', 'koi_period', 'koi_time0bk',\n",
              "       'koi_impact', 'koi_duration', 'koi_depth', 'koi_prad', 'koi_teq',\n",
              "       'koi_insol', 'koi_model_snr', 'koi_tce_plnt_num', 'koi_tce_delivname',\n",
              "       'koi_steff', 'koi_slogg', 'koi_srad', 'ra', 'dec', 'koi_kepmag'],\n",
              "      dtype='object')"
            ]
          },
          "metadata": {},
          "execution_count": 76
        }
      ]
    },
    {
      "cell_type": "code",
      "source": [
        "features = data[['koi_score','koi_time0bk',\n",
        "                 'koi_impact', 'koi_duration', 'koi_depth', 'koi_prad', 'koi_teq',\n",
        "                 'koi_insol','koi_steff', 'koi_slogg', 'koi_srad', 'ra', 'dec', 'koi_kepmag']]"
      ],
      "metadata": {
        "id": "JZMttlougU-h"
      },
      "execution_count": 77,
      "outputs": []
    },
    {
      "cell_type": "code",
      "source": [
        "target = data[['koi_period']]"
      ],
      "metadata": {
        "id": "H7KczpZghxPf"
      },
      "execution_count": 78,
      "outputs": []
    },
    {
      "cell_type": "code",
      "source": [
        "features.info()"
      ],
      "metadata": {
        "colab": {
          "base_uri": "https://localhost:8080/"
        },
        "id": "gEIyK0q8k8_J",
        "outputId": "40335c2d-ff0c-45a5-b30c-4e96e5719ece"
      },
      "execution_count": 79,
      "outputs": [
        {
          "output_type": "stream",
          "name": "stdout",
          "text": [
            "<class 'pandas.core.frame.DataFrame'>\n",
            "Index: 2727 entries, 0 to 7670\n",
            "Data columns (total 14 columns):\n",
            " #   Column        Non-Null Count  Dtype  \n",
            "---  ------        --------------  -----  \n",
            " 0   koi_score     2727 non-null   float64\n",
            " 1   koi_time0bk   2727 non-null   float64\n",
            " 2   koi_impact    2727 non-null   float64\n",
            " 3   koi_duration  2727 non-null   float64\n",
            " 4   koi_depth     2727 non-null   float64\n",
            " 5   koi_prad      2727 non-null   float64\n",
            " 6   koi_teq       2727 non-null   float64\n",
            " 7   koi_insol     2727 non-null   float64\n",
            " 8   koi_steff     2727 non-null   float64\n",
            " 9   koi_slogg     2727 non-null   float64\n",
            " 10  koi_srad      2727 non-null   float64\n",
            " 11  ra            2727 non-null   float64\n",
            " 12  dec           2727 non-null   float64\n",
            " 13  koi_kepmag    2727 non-null   float64\n",
            "dtypes: float64(14)\n",
            "memory usage: 319.6 KB\n"
          ]
        }
      ]
    },
    {
      "cell_type": "code",
      "source": [
        "target.info()"
      ],
      "metadata": {
        "colab": {
          "base_uri": "https://localhost:8080/"
        },
        "id": "hrrLuhJ3lCfX",
        "outputId": "b6e500a8-65a0-4bfb-b6ec-edeb2f17d1dd"
      },
      "execution_count": 80,
      "outputs": [
        {
          "output_type": "stream",
          "name": "stdout",
          "text": [
            "<class 'pandas.core.frame.DataFrame'>\n",
            "Index: 2727 entries, 0 to 7670\n",
            "Data columns (total 1 columns):\n",
            " #   Column      Non-Null Count  Dtype  \n",
            "---  ------      --------------  -----  \n",
            " 0   koi_period  2727 non-null   float64\n",
            "dtypes: float64(1)\n",
            "memory usage: 42.6 KB\n"
          ]
        }
      ]
    },
    {
      "cell_type": "code",
      "source": [
        "# Baseline Model\n",
        "from sklearn.ensemble import RandomForestRegressor\n",
        "\n",
        "model = RandomForestRegressor(n_estimators = 300, oob_score=True)\n",
        "model.fit(features,target)\n",
        "oob_score = model.oob_score_\n",
        "print(\"Baseline Model OOB Score:\",oob_score)"
      ],
      "metadata": {
        "colab": {
          "base_uri": "https://localhost:8080/"
        },
        "id": "gRdTdbjIfX4d",
        "outputId": "4820cb69-1765-4a97-f5ec-1bfb4ce367b9"
      },
      "execution_count": 81,
      "outputs": [
        {
          "output_type": "stream",
          "name": "stderr",
          "text": [
            "/usr/local/lib/python3.10/dist-packages/sklearn/base.py:1152: DataConversionWarning: A column-vector y was passed when a 1d array was expected. Please change the shape of y to (n_samples,), for example using ravel().\n",
            "  return fit_method(estimator, *args, **kwargs)\n"
          ]
        },
        {
          "output_type": "stream",
          "name": "stdout",
          "text": [
            "Baseline Model OOB Score: 0.8664948380353947\n"
          ]
        }
      ]
    },
    {
      "cell_type": "code",
      "source": [
        "!pip install rfpimp"
      ],
      "metadata": {
        "colab": {
          "base_uri": "https://localhost:8080/"
        },
        "id": "1Y64lCMCnnNW",
        "outputId": "10e55ddb-0639-453f-c240-54e2e5fe46de"
      },
      "execution_count": 82,
      "outputs": [
        {
          "output_type": "stream",
          "name": "stdout",
          "text": [
            "Requirement already satisfied: rfpimp in /usr/local/lib/python3.10/dist-packages (1.3.7)\n",
            "Requirement already satisfied: numpy in /usr/local/lib/python3.10/dist-packages (from rfpimp) (1.26.4)\n",
            "Requirement already satisfied: pandas in /usr/local/lib/python3.10/dist-packages (from rfpimp) (2.1.4)\n",
            "Requirement already satisfied: scikit-learn in /usr/local/lib/python3.10/dist-packages (from rfpimp) (1.3.2)\n",
            "Requirement already satisfied: matplotlib in /usr/local/lib/python3.10/dist-packages (from rfpimp) (3.7.1)\n",
            "Requirement already satisfied: contourpy>=1.0.1 in /usr/local/lib/python3.10/dist-packages (from matplotlib->rfpimp) (1.2.1)\n",
            "Requirement already satisfied: cycler>=0.10 in /usr/local/lib/python3.10/dist-packages (from matplotlib->rfpimp) (0.12.1)\n",
            "Requirement already satisfied: fonttools>=4.22.0 in /usr/local/lib/python3.10/dist-packages (from matplotlib->rfpimp) (4.53.1)\n",
            "Requirement already satisfied: kiwisolver>=1.0.1 in /usr/local/lib/python3.10/dist-packages (from matplotlib->rfpimp) (1.4.5)\n",
            "Requirement already satisfied: packaging>=20.0 in /usr/local/lib/python3.10/dist-packages (from matplotlib->rfpimp) (24.1)\n",
            "Requirement already satisfied: pillow>=6.2.0 in /usr/local/lib/python3.10/dist-packages (from matplotlib->rfpimp) (9.4.0)\n",
            "Requirement already satisfied: pyparsing>=2.3.1 in /usr/local/lib/python3.10/dist-packages (from matplotlib->rfpimp) (3.1.2)\n",
            "Requirement already satisfied: python-dateutil>=2.7 in /usr/local/lib/python3.10/dist-packages (from matplotlib->rfpimp) (2.8.2)\n",
            "Requirement already satisfied: pytz>=2020.1 in /usr/local/lib/python3.10/dist-packages (from pandas->rfpimp) (2024.1)\n",
            "Requirement already satisfied: tzdata>=2022.1 in /usr/local/lib/python3.10/dist-packages (from pandas->rfpimp) (2024.1)\n",
            "Requirement already satisfied: scipy>=1.5.0 in /usr/local/lib/python3.10/dist-packages (from scikit-learn->rfpimp) (1.13.1)\n",
            "Requirement already satisfied: joblib>=1.1.1 in /usr/local/lib/python3.10/dist-packages (from scikit-learn->rfpimp) (1.4.2)\n",
            "Requirement already satisfied: threadpoolctl>=2.0.0 in /usr/local/lib/python3.10/dist-packages (from scikit-learn->rfpimp) (3.5.0)\n",
            "Requirement already satisfied: six>=1.5 in /usr/local/lib/python3.10/dist-packages (from python-dateutil>=2.7->matplotlib->rfpimp) (1.16.0)\n"
          ]
        }
      ]
    },
    {
      "cell_type": "markdown",
      "source": [
        "### Feature Importances of the Baseline Model"
      ],
      "metadata": {
        "id": "JZg3lcj3sWiE"
      }
    },
    {
      "cell_type": "code",
      "source": [
        "from rfpimp import importances, plot_importances\n",
        "\n",
        "imp = importances(model, features, target)\n",
        "print(imp)\n",
        "plot_importances(imp)"
      ],
      "metadata": {
        "colab": {
          "base_uri": "https://localhost:8080/",
          "height": 567
        },
        "id": "hQwTCZUxnTDr",
        "outputId": "e3ba56c7-a124-455d-9149-a8e73831388c"
      },
      "execution_count": 83,
      "outputs": [
        {
          "output_type": "stream",
          "name": "stdout",
          "text": [
            "              Importance\n",
            "Feature                 \n",
            "koi_insol       0.936442\n",
            "koi_duration    0.231447\n",
            "koi_teq         0.121923\n",
            "koi_srad        0.119374\n",
            "koi_steff       0.039036\n",
            "koi_depth       0.019625\n",
            "koi_score       0.012065\n",
            "koi_slogg       0.011381\n",
            "koi_time0bk     0.011348\n",
            "koi_impact      0.003255\n",
            "koi_prad        0.002807\n",
            "ra              0.001735\n",
            "dec             0.001672\n",
            "koi_kepmag      0.001342\n"
          ]
        },
        {
          "output_type": "execute_result",
          "data": {
            "text/plain": [
              "<rfpimp.PimpViz at 0x7a291b4a1c90>"
            ],
            "image/svg+xml": "<?xml version=\"1.0\" encoding=\"utf-8\" standalone=\"no\"?>\n<!DOCTYPE svg PUBLIC \"-//W3C//DTD SVG 1.1//EN\"\n  \"http://www.w3.org/Graphics/SVG/1.1/DTD/svg11.dtd\">\n<svg xmlns:xlink=\"http://www.w3.org/1999/xlink\" width=\"266.2175pt\" height=\"201.198125pt\" viewBox=\"0 0 266.2175 201.198125\" xmlns=\"http://www.w3.org/2000/svg\" version=\"1.1\">\n <metadata>\n  <rdf:RDF xmlns:dc=\"http://purl.org/dc/elements/1.1/\" xmlns:cc=\"http://creativecommons.org/ns#\" xmlns:rdf=\"http://www.w3.org/1999/02/22-rdf-syntax-ns#\">\n   <cc:Work>\n    <dc:type rdf:resource=\"http://purl.org/dc/dcmitype/StillImage\"/>\n    <dc:date>2024-08-13T03:26:24.924684</dc:date>\n    <dc:format>image/svg+xml</dc:format>\n    <dc:creator>\n     <cc:Agent>\n      <dc:title>Matplotlib v3.7.1, https://matplotlib.org/</dc:title>\n     </cc:Agent>\n    </dc:creator>\n   </cc:Work>\n  </rdf:RDF>\n </metadata>\n <defs>\n  <style type=\"text/css\">*{stroke-linejoin: round; stroke-linecap: butt}</style>\n </defs>\n <g id=\"figure_1\">\n  <g id=\"patch_1\">\n   <path d=\"M 0 201.198125 \nL 266.2175 201.198125 \nL 266.2175 0 \nL 0 0 \nz\n\" style=\"fill: #ffffff\"/>\n  </g>\n  <g id=\"axes_1\">\n   <g id=\"patch_2\">\n    <path d=\"M 68.404687 184.52 \nL 255.084687 184.52 \nL 255.084687 0 \nL 68.404687 0 \nz\n\" style=\"fill: #ffffff\"/>\n   </g>\n   <g id=\"patch_3\">\n    <path d=\"M 68.801692 1.190452 \nL 254.687683 1.190452 \nL 254.687683 13.094968 \nL 68.801692 13.094968 \nz\n\" clip-path=\"url(#pfc99061847)\" style=\"fill: #d9e6f5; stroke: #444443; stroke-width: 0.5; stroke-linejoin: miter\"/>\n   </g>\n   <g id=\"patch_4\">\n    <path d=\"M 68.801692 14.285419 \nL 114.744406 14.285419 \nL 114.744406 26.189935 \nL 68.801692 26.189935 \nz\n\" clip-path=\"url(#pfc99061847)\" style=\"fill: #d9e6f5; stroke: #444443; stroke-width: 0.5; stroke-linejoin: miter\"/>\n   </g>\n   <g id=\"patch_5\">\n    <path d=\"M 68.801692 27.380387 \nL 93.00379 27.380387 \nL 93.00379 39.284903 \nL 68.801692 39.284903 \nz\n\" clip-path=\"url(#pfc99061847)\" style=\"fill: #d9e6f5; stroke: #444443; stroke-width: 0.5; stroke-linejoin: miter\"/>\n   </g>\n   <g id=\"patch_6\">\n    <path d=\"M 68.801692 40.475355 \nL 92.497627 40.475355 \nL 92.497627 52.379871 \nL 68.801692 52.379871 \nz\n\" clip-path=\"url(#pfc99061847)\" style=\"fill: #d9e6f5; stroke: #444443; stroke-width: 0.5; stroke-linejoin: miter\"/>\n   </g>\n   <g id=\"patch_7\">\n    <path d=\"M 68.801692 53.570323 \nL 76.550408 53.570323 \nL 76.550408 65.474839 \nL 68.801692 65.474839 \nz\n\" clip-path=\"url(#pfc99061847)\" style=\"fill: #d9e6f5; stroke: #444443; stroke-width: 0.5; stroke-linejoin: miter\"/>\n   </g>\n   <g id=\"patch_8\">\n    <path d=\"M 68.801692 66.66529 \nL 72.697227 66.66529 \nL 72.697227 78.569806 \nL 68.801692 78.569806 \nz\n\" clip-path=\"url(#pfc99061847)\" style=\"fill: #d9e6f5; stroke: #444443; stroke-width: 0.5; stroke-linejoin: miter\"/>\n   </g>\n   <g id=\"patch_9\">\n    <path d=\"M 68.801692 79.760258 \nL 71.196652 79.760258 \nL 71.196652 91.664774 \nL 68.801692 91.664774 \nz\n\" clip-path=\"url(#pfc99061847)\" style=\"fill: #d9e6f5; stroke: #444443; stroke-width: 0.5; stroke-linejoin: miter\"/>\n   </g>\n   <g id=\"patch_10\">\n    <path d=\"M 68.801692 92.855226 \nL 71.060927 92.855226 \nL 71.060927 104.759742 \nL 68.801692 104.759742 \nz\n\" clip-path=\"url(#pfc99061847)\" style=\"fill: #d9e6f5; stroke: #444443; stroke-width: 0.5; stroke-linejoin: miter\"/>\n   </g>\n   <g id=\"patch_11\">\n    <path d=\"M 68.801692 105.950194 \nL 71.054308 105.950194 \nL 71.054308 117.85471 \nL 68.801692 117.85471 \nz\n\" clip-path=\"url(#pfc99061847)\" style=\"fill: #d9e6f5; stroke: #444443; stroke-width: 0.5; stroke-linejoin: miter\"/>\n   </g>\n   <g id=\"patch_12\">\n    <path d=\"M 68.801692 119.045161 \nL 69.447763 119.045161 \nL 69.447763 130.949677 \nL 68.801692 130.949677 \nz\n\" clip-path=\"url(#pfc99061847)\" style=\"fill: #d9e6f5; stroke: #444443; stroke-width: 0.5; stroke-linejoin: miter\"/>\n   </g>\n   <g id=\"patch_13\">\n    <path d=\"M 68.801692 132.140129 \nL 69.358974 132.140129 \nL 69.358974 144.044645 \nL 68.801692 144.044645 \nz\n\" clip-path=\"url(#pfc99061847)\" style=\"fill: #d9e6f5; stroke: #444443; stroke-width: 0.5; stroke-linejoin: miter\"/>\n   </g>\n   <g id=\"patch_14\">\n    <path d=\"M 68.801692 145.235097 \nL 69.146072 145.235097 \nL 69.146072 157.139613 \nL 68.801692 157.139613 \nz\n\" clip-path=\"url(#pfc99061847)\" style=\"fill: #d9e6f5; stroke: #444443; stroke-width: 0.5; stroke-linejoin: miter\"/>\n   </g>\n   <g id=\"patch_15\">\n    <path d=\"M 68.801692 158.330065 \nL 69.133597 158.330065 \nL 69.133597 170.234581 \nL 68.801692 170.234581 \nz\n\" clip-path=\"url(#pfc99061847)\" style=\"fill: #d9e6f5; stroke: #444443; stroke-width: 0.5; stroke-linejoin: miter\"/>\n   </g>\n   <g id=\"patch_16\">\n    <path d=\"M 68.801692 171.425032 \nL 69.068034 171.425032 \nL 69.068034 183.329548 \nL 68.801692 183.329548 \nz\n\" clip-path=\"url(#pfc99061847)\" style=\"fill: #d9e6f5; stroke: #444443; stroke-width: 0.5; stroke-linejoin: miter\"/>\n   </g>\n   <g id=\"matplotlib.axis_1\">\n    <g id=\"xtick_1\">\n     <g id=\"line2d_1\">\n      <defs>\n       <path id=\"m926980562d\" d=\"M 0 0 \nL 0 3.5 \n\" style=\"stroke: #000000; stroke-width: 0.8\"/>\n      </defs>\n      <g>\n       <use xlink:href=\"#m926980562d\" x=\"68.801692\" y=\"184.52\" style=\"stroke: #000000; stroke-width: 0.8\"/>\n      </g>\n     </g>\n     <g id=\"text_1\">\n      <!-- 0.00 -->\n      <g style=\"fill: #444443\" transform=\"translate(57.66888 199.118438) scale(0.1 -0.1)\">\n       <defs>\n        <path id=\"DejaVuSans-30\" d=\"M 2034 4250 \nQ 1547 4250 1301 3770 \nQ 1056 3291 1056 2328 \nQ 1056 1369 1301 889 \nQ 1547 409 2034 409 \nQ 2525 409 2770 889 \nQ 3016 1369 3016 2328 \nQ 3016 3291 2770 3770 \nQ 2525 4250 2034 4250 \nz\nM 2034 4750 \nQ 2819 4750 3233 4129 \nQ 3647 3509 3647 2328 \nQ 3647 1150 3233 529 \nQ 2819 -91 2034 -91 \nQ 1250 -91 836 529 \nQ 422 1150 422 2328 \nQ 422 3509 836 4129 \nQ 1250 4750 2034 4750 \nz\n\" transform=\"scale(0.015625)\"/>\n        <path id=\"DejaVuSans-2e\" d=\"M 684 794 \nL 1344 794 \nL 1344 0 \nL 684 0 \nL 684 794 \nz\n\" transform=\"scale(0.015625)\"/>\n       </defs>\n       <use xlink:href=\"#DejaVuSans-30\"/>\n       <use xlink:href=\"#DejaVuSans-2e\" x=\"63.623047\"/>\n       <use xlink:href=\"#DejaVuSans-30\" x=\"95.410156\"/>\n       <use xlink:href=\"#DejaVuSans-30\" x=\"159.033203\"/>\n      </g>\n     </g>\n    </g>\n    <g id=\"xtick_2\">\n     <g id=\"line2d_2\">\n      <g>\n       <use xlink:href=\"#m926980562d\" x=\"255.084687\" y=\"184.52\" style=\"stroke: #000000; stroke-width: 0.8\"/>\n      </g>\n     </g>\n     <g id=\"text_2\">\n      <!-- 0.94 -->\n      <g style=\"fill: #444443\" transform=\"translate(243.951875 199.118438) scale(0.1 -0.1)\">\n       <defs>\n        <path id=\"DejaVuSans-39\" d=\"M 703 97 \nL 703 672 \nQ 941 559 1184 500 \nQ 1428 441 1663 441 \nQ 2288 441 2617 861 \nQ 2947 1281 2994 2138 \nQ 2813 1869 2534 1725 \nQ 2256 1581 1919 1581 \nQ 1219 1581 811 2004 \nQ 403 2428 403 3163 \nQ 403 3881 828 4315 \nQ 1253 4750 1959 4750 \nQ 2769 4750 3195 4129 \nQ 3622 3509 3622 2328 \nQ 3622 1225 3098 567 \nQ 2575 -91 1691 -91 \nQ 1453 -91 1209 -44 \nQ 966 3 703 97 \nz\nM 1959 2075 \nQ 2384 2075 2632 2365 \nQ 2881 2656 2881 3163 \nQ 2881 3666 2632 3958 \nQ 2384 4250 1959 4250 \nQ 1534 4250 1286 3958 \nQ 1038 3666 1038 3163 \nQ 1038 2656 1286 2365 \nQ 1534 2075 1959 2075 \nz\n\" transform=\"scale(0.015625)\"/>\n        <path id=\"DejaVuSans-34\" d=\"M 2419 4116 \nL 825 1625 \nL 2419 1625 \nL 2419 4116 \nz\nM 2253 4666 \nL 3047 4666 \nL 3047 1625 \nL 3713 1625 \nL 3713 1100 \nL 3047 1100 \nL 3047 0 \nL 2419 0 \nL 2419 1100 \nL 313 1100 \nL 313 1709 \nL 2253 4666 \nz\n\" transform=\"scale(0.015625)\"/>\n       </defs>\n       <use xlink:href=\"#DejaVuSans-30\"/>\n       <use xlink:href=\"#DejaVuSans-2e\" x=\"63.623047\"/>\n       <use xlink:href=\"#DejaVuSans-39\" x=\"95.410156\"/>\n       <use xlink:href=\"#DejaVuSans-34\" x=\"159.033203\"/>\n      </g>\n     </g>\n    </g>\n   </g>\n   <g id=\"matplotlib.axis_2\">\n    <g id=\"ytick_1\">\n     <g id=\"line2d_3\">\n      <defs>\n       <path id=\"m458393ab0d\" d=\"M 0 0 \nL -3.5 0 \n\" style=\"stroke: #000000; stroke-width: 0.8\"/>\n      </defs>\n      <g>\n       <use xlink:href=\"#m458393ab0d\" x=\"68.404687\" y=\"7.14271\" style=\"stroke: #000000; stroke-width: 0.8\"/>\n      </g>\n     </g>\n     <g id=\"text_3\">\n      <!-- koi_insol -->\n      <g style=\"fill: #444443\" transform=\"translate(18.857812 10.941928) scale(0.1 -0.1)\">\n       <defs>\n        <path id=\"DejaVuSans-6b\" d=\"M 581 4863 \nL 1159 4863 \nL 1159 1991 \nL 2875 3500 \nL 3609 3500 \nL 1753 1863 \nL 3688 0 \nL 2938 0 \nL 1159 1709 \nL 1159 0 \nL 581 0 \nL 581 4863 \nz\n\" transform=\"scale(0.015625)\"/>\n        <path id=\"DejaVuSans-6f\" d=\"M 1959 3097 \nQ 1497 3097 1228 2736 \nQ 959 2375 959 1747 \nQ 959 1119 1226 758 \nQ 1494 397 1959 397 \nQ 2419 397 2687 759 \nQ 2956 1122 2956 1747 \nQ 2956 2369 2687 2733 \nQ 2419 3097 1959 3097 \nz\nM 1959 3584 \nQ 2709 3584 3137 3096 \nQ 3566 2609 3566 1747 \nQ 3566 888 3137 398 \nQ 2709 -91 1959 -91 \nQ 1206 -91 779 398 \nQ 353 888 353 1747 \nQ 353 2609 779 3096 \nQ 1206 3584 1959 3584 \nz\n\" transform=\"scale(0.015625)\"/>\n        <path id=\"DejaVuSans-69\" d=\"M 603 3500 \nL 1178 3500 \nL 1178 0 \nL 603 0 \nL 603 3500 \nz\nM 603 4863 \nL 1178 4863 \nL 1178 4134 \nL 603 4134 \nL 603 4863 \nz\n\" transform=\"scale(0.015625)\"/>\n        <path id=\"DejaVuSans-5f\" d=\"M 3263 -1063 \nL 3263 -1509 \nL -63 -1509 \nL -63 -1063 \nL 3263 -1063 \nz\n\" transform=\"scale(0.015625)\"/>\n        <path id=\"DejaVuSans-6e\" d=\"M 3513 2113 \nL 3513 0 \nL 2938 0 \nL 2938 2094 \nQ 2938 2591 2744 2837 \nQ 2550 3084 2163 3084 \nQ 1697 3084 1428 2787 \nQ 1159 2491 1159 1978 \nL 1159 0 \nL 581 0 \nL 581 3500 \nL 1159 3500 \nL 1159 2956 \nQ 1366 3272 1645 3428 \nQ 1925 3584 2291 3584 \nQ 2894 3584 3203 3211 \nQ 3513 2838 3513 2113 \nz\n\" transform=\"scale(0.015625)\"/>\n        <path id=\"DejaVuSans-73\" d=\"M 2834 3397 \nL 2834 2853 \nQ 2591 2978 2328 3040 \nQ 2066 3103 1784 3103 \nQ 1356 3103 1142 2972 \nQ 928 2841 928 2578 \nQ 928 2378 1081 2264 \nQ 1234 2150 1697 2047 \nL 1894 2003 \nQ 2506 1872 2764 1633 \nQ 3022 1394 3022 966 \nQ 3022 478 2636 193 \nQ 2250 -91 1575 -91 \nQ 1294 -91 989 -36 \nQ 684 19 347 128 \nL 347 722 \nQ 666 556 975 473 \nQ 1284 391 1588 391 \nQ 1994 391 2212 530 \nQ 2431 669 2431 922 \nQ 2431 1156 2273 1281 \nQ 2116 1406 1581 1522 \nL 1381 1569 \nQ 847 1681 609 1914 \nQ 372 2147 372 2553 \nQ 372 3047 722 3315 \nQ 1072 3584 1716 3584 \nQ 2034 3584 2315 3537 \nQ 2597 3491 2834 3397 \nz\n\" transform=\"scale(0.015625)\"/>\n        <path id=\"DejaVuSans-6c\" d=\"M 603 4863 \nL 1178 4863 \nL 1178 0 \nL 603 0 \nL 603 4863 \nz\n\" transform=\"scale(0.015625)\"/>\n       </defs>\n       <use xlink:href=\"#DejaVuSans-6b\"/>\n       <use xlink:href=\"#DejaVuSans-6f\" x=\"54.285156\"/>\n       <use xlink:href=\"#DejaVuSans-69\" x=\"115.466797\"/>\n       <use xlink:href=\"#DejaVuSans-5f\" x=\"143.25\"/>\n       <use xlink:href=\"#DejaVuSans-69\" x=\"193.25\"/>\n       <use xlink:href=\"#DejaVuSans-6e\" x=\"221.033203\"/>\n       <use xlink:href=\"#DejaVuSans-73\" x=\"284.412109\"/>\n       <use xlink:href=\"#DejaVuSans-6f\" x=\"336.511719\"/>\n       <use xlink:href=\"#DejaVuSans-6c\" x=\"397.693359\"/>\n      </g>\n     </g>\n    </g>\n    <g id=\"ytick_2\">\n     <g id=\"line2d_4\">\n      <g>\n       <use xlink:href=\"#m458393ab0d\" x=\"68.404687\" y=\"20.237677\" style=\"stroke: #000000; stroke-width: 0.8\"/>\n      </g>\n     </g>\n     <g id=\"text_4\">\n      <!-- koi_duration -->\n      <g style=\"fill: #444443\" transform=\"translate(-0 24.036896) scale(0.1 -0.1)\">\n       <defs>\n        <path id=\"DejaVuSans-64\" d=\"M 2906 2969 \nL 2906 4863 \nL 3481 4863 \nL 3481 0 \nL 2906 0 \nL 2906 525 \nQ 2725 213 2448 61 \nQ 2172 -91 1784 -91 \nQ 1150 -91 751 415 \nQ 353 922 353 1747 \nQ 353 2572 751 3078 \nQ 1150 3584 1784 3584 \nQ 2172 3584 2448 3432 \nQ 2725 3281 2906 2969 \nz\nM 947 1747 \nQ 947 1113 1208 752 \nQ 1469 391 1925 391 \nQ 2381 391 2643 752 \nQ 2906 1113 2906 1747 \nQ 2906 2381 2643 2742 \nQ 2381 3103 1925 3103 \nQ 1469 3103 1208 2742 \nQ 947 2381 947 1747 \nz\n\" transform=\"scale(0.015625)\"/>\n        <path id=\"DejaVuSans-75\" d=\"M 544 1381 \nL 544 3500 \nL 1119 3500 \nL 1119 1403 \nQ 1119 906 1312 657 \nQ 1506 409 1894 409 \nQ 2359 409 2629 706 \nQ 2900 1003 2900 1516 \nL 2900 3500 \nL 3475 3500 \nL 3475 0 \nL 2900 0 \nL 2900 538 \nQ 2691 219 2414 64 \nQ 2138 -91 1772 -91 \nQ 1169 -91 856 284 \nQ 544 659 544 1381 \nz\nM 1991 3584 \nL 1991 3584 \nz\n\" transform=\"scale(0.015625)\"/>\n        <path id=\"DejaVuSans-72\" d=\"M 2631 2963 \nQ 2534 3019 2420 3045 \nQ 2306 3072 2169 3072 \nQ 1681 3072 1420 2755 \nQ 1159 2438 1159 1844 \nL 1159 0 \nL 581 0 \nL 581 3500 \nL 1159 3500 \nL 1159 2956 \nQ 1341 3275 1631 3429 \nQ 1922 3584 2338 3584 \nQ 2397 3584 2469 3576 \nQ 2541 3569 2628 3553 \nL 2631 2963 \nz\n\" transform=\"scale(0.015625)\"/>\n        <path id=\"DejaVuSans-61\" d=\"M 2194 1759 \nQ 1497 1759 1228 1600 \nQ 959 1441 959 1056 \nQ 959 750 1161 570 \nQ 1363 391 1709 391 \nQ 2188 391 2477 730 \nQ 2766 1069 2766 1631 \nL 2766 1759 \nL 2194 1759 \nz\nM 3341 1997 \nL 3341 0 \nL 2766 0 \nL 2766 531 \nQ 2569 213 2275 61 \nQ 1981 -91 1556 -91 \nQ 1019 -91 701 211 \nQ 384 513 384 1019 \nQ 384 1609 779 1909 \nQ 1175 2209 1959 2209 \nL 2766 2209 \nL 2766 2266 \nQ 2766 2663 2505 2880 \nQ 2244 3097 1772 3097 \nQ 1472 3097 1187 3025 \nQ 903 2953 641 2809 \nL 641 3341 \nQ 956 3463 1253 3523 \nQ 1550 3584 1831 3584 \nQ 2591 3584 2966 3190 \nQ 3341 2797 3341 1997 \nz\n\" transform=\"scale(0.015625)\"/>\n        <path id=\"DejaVuSans-74\" d=\"M 1172 4494 \nL 1172 3500 \nL 2356 3500 \nL 2356 3053 \nL 1172 3053 \nL 1172 1153 \nQ 1172 725 1289 603 \nQ 1406 481 1766 481 \nL 2356 481 \nL 2356 0 \nL 1766 0 \nQ 1100 0 847 248 \nQ 594 497 594 1153 \nL 594 3053 \nL 172 3053 \nL 172 3500 \nL 594 3500 \nL 594 4494 \nL 1172 4494 \nz\n\" transform=\"scale(0.015625)\"/>\n       </defs>\n       <use xlink:href=\"#DejaVuSans-6b\"/>\n       <use xlink:href=\"#DejaVuSans-6f\" x=\"54.285156\"/>\n       <use xlink:href=\"#DejaVuSans-69\" x=\"115.466797\"/>\n       <use xlink:href=\"#DejaVuSans-5f\" x=\"143.25\"/>\n       <use xlink:href=\"#DejaVuSans-64\" x=\"193.25\"/>\n       <use xlink:href=\"#DejaVuSans-75\" x=\"256.726562\"/>\n       <use xlink:href=\"#DejaVuSans-72\" x=\"320.105469\"/>\n       <use xlink:href=\"#DejaVuSans-61\" x=\"361.21875\"/>\n       <use xlink:href=\"#DejaVuSans-74\" x=\"422.498047\"/>\n       <use xlink:href=\"#DejaVuSans-69\" x=\"461.707031\"/>\n       <use xlink:href=\"#DejaVuSans-6f\" x=\"489.490234\"/>\n       <use xlink:href=\"#DejaVuSans-6e\" x=\"550.671875\"/>\n      </g>\n     </g>\n    </g>\n    <g id=\"ytick_3\">\n     <g id=\"line2d_5\">\n      <g>\n       <use xlink:href=\"#m458393ab0d\" x=\"68.404687\" y=\"33.332645\" style=\"stroke: #000000; stroke-width: 0.8\"/>\n      </g>\n     </g>\n     <g id=\"text_5\">\n      <!-- koi_teq -->\n      <g style=\"fill: #444443\" transform=\"translate(25.657812 37.131864) scale(0.1 -0.1)\">\n       <defs>\n        <path id=\"DejaVuSans-65\" d=\"M 3597 1894 \nL 3597 1613 \nL 953 1613 \nQ 991 1019 1311 708 \nQ 1631 397 2203 397 \nQ 2534 397 2845 478 \nQ 3156 559 3463 722 \nL 3463 178 \nQ 3153 47 2828 -22 \nQ 2503 -91 2169 -91 \nQ 1331 -91 842 396 \nQ 353 884 353 1716 \nQ 353 2575 817 3079 \nQ 1281 3584 2069 3584 \nQ 2775 3584 3186 3129 \nQ 3597 2675 3597 1894 \nz\nM 3022 2063 \nQ 3016 2534 2758 2815 \nQ 2500 3097 2075 3097 \nQ 1594 3097 1305 2825 \nQ 1016 2553 972 2059 \nL 3022 2063 \nz\n\" transform=\"scale(0.015625)\"/>\n        <path id=\"DejaVuSans-71\" d=\"M 947 1747 \nQ 947 1113 1208 752 \nQ 1469 391 1925 391 \nQ 2381 391 2643 752 \nQ 2906 1113 2906 1747 \nQ 2906 2381 2643 2742 \nQ 2381 3103 1925 3103 \nQ 1469 3103 1208 2742 \nQ 947 2381 947 1747 \nz\nM 2906 525 \nQ 2725 213 2448 61 \nQ 2172 -91 1784 -91 \nQ 1150 -91 751 415 \nQ 353 922 353 1747 \nQ 353 2572 751 3078 \nQ 1150 3584 1784 3584 \nQ 2172 3584 2448 3432 \nQ 2725 3281 2906 2969 \nL 2906 3500 \nL 3481 3500 \nL 3481 -1331 \nL 2906 -1331 \nL 2906 525 \nz\n\" transform=\"scale(0.015625)\"/>\n       </defs>\n       <use xlink:href=\"#DejaVuSans-6b\"/>\n       <use xlink:href=\"#DejaVuSans-6f\" x=\"54.285156\"/>\n       <use xlink:href=\"#DejaVuSans-69\" x=\"115.466797\"/>\n       <use xlink:href=\"#DejaVuSans-5f\" x=\"143.25\"/>\n       <use xlink:href=\"#DejaVuSans-74\" x=\"193.25\"/>\n       <use xlink:href=\"#DejaVuSans-65\" x=\"232.458984\"/>\n       <use xlink:href=\"#DejaVuSans-71\" x=\"293.982422\"/>\n      </g>\n     </g>\n    </g>\n    <g id=\"ytick_4\">\n     <g id=\"line2d_6\">\n      <g>\n       <use xlink:href=\"#m458393ab0d\" x=\"68.404687\" y=\"46.427613\" style=\"stroke: #000000; stroke-width: 0.8\"/>\n      </g>\n     </g>\n     <g id=\"text_6\">\n      <!-- koi_srad -->\n      <g style=\"fill: #444443\" transform=\"translate(20.282812 50.226832) scale(0.1 -0.1)\">\n       <use xlink:href=\"#DejaVuSans-6b\"/>\n       <use xlink:href=\"#DejaVuSans-6f\" x=\"54.285156\"/>\n       <use xlink:href=\"#DejaVuSans-69\" x=\"115.466797\"/>\n       <use xlink:href=\"#DejaVuSans-5f\" x=\"143.25\"/>\n       <use xlink:href=\"#DejaVuSans-73\" x=\"193.25\"/>\n       <use xlink:href=\"#DejaVuSans-72\" x=\"245.349609\"/>\n       <use xlink:href=\"#DejaVuSans-61\" x=\"286.462891\"/>\n       <use xlink:href=\"#DejaVuSans-64\" x=\"347.742188\"/>\n      </g>\n     </g>\n    </g>\n    <g id=\"ytick_5\">\n     <g id=\"line2d_7\">\n      <g>\n       <use xlink:href=\"#m458393ab0d\" x=\"68.404687\" y=\"59.522581\" style=\"stroke: #000000; stroke-width: 0.8\"/>\n      </g>\n     </g>\n     <g id=\"text_7\">\n      <!-- koi_steff -->\n      <g style=\"fill: #444443\" transform=\"translate(19.75625 63.321799) scale(0.1 -0.1)\">\n       <defs>\n        <path id=\"DejaVuSans-66\" d=\"M 2375 4863 \nL 2375 4384 \nL 1825 4384 \nQ 1516 4384 1395 4259 \nQ 1275 4134 1275 3809 \nL 1275 3500 \nL 2222 3500 \nL 2222 3053 \nL 1275 3053 \nL 1275 0 \nL 697 0 \nL 697 3053 \nL 147 3053 \nL 147 3500 \nL 697 3500 \nL 697 3744 \nQ 697 4328 969 4595 \nQ 1241 4863 1831 4863 \nL 2375 4863 \nz\n\" transform=\"scale(0.015625)\"/>\n       </defs>\n       <use xlink:href=\"#DejaVuSans-6b\"/>\n       <use xlink:href=\"#DejaVuSans-6f\" x=\"54.285156\"/>\n       <use xlink:href=\"#DejaVuSans-69\" x=\"115.466797\"/>\n       <use xlink:href=\"#DejaVuSans-5f\" x=\"143.25\"/>\n       <use xlink:href=\"#DejaVuSans-73\" x=\"193.25\"/>\n       <use xlink:href=\"#DejaVuSans-74\" x=\"245.349609\"/>\n       <use xlink:href=\"#DejaVuSans-65\" x=\"284.558594\"/>\n       <use xlink:href=\"#DejaVuSans-66\" x=\"346.082031\"/>\n       <use xlink:href=\"#DejaVuSans-66\" x=\"381.287109\"/>\n      </g>\n     </g>\n    </g>\n    <g id=\"ytick_6\">\n     <g id=\"line2d_8\">\n      <g>\n       <use xlink:href=\"#m458393ab0d\" x=\"68.404687\" y=\"72.617548\" style=\"stroke: #000000; stroke-width: 0.8\"/>\n      </g>\n     </g>\n     <g id=\"text_8\">\n      <!-- koi_depth -->\n      <g style=\"fill: #444443\" transform=\"translate(12.971875 76.416767) scale(0.1 -0.1)\">\n       <defs>\n        <path id=\"DejaVuSans-70\" d=\"M 1159 525 \nL 1159 -1331 \nL 581 -1331 \nL 581 3500 \nL 1159 3500 \nL 1159 2969 \nQ 1341 3281 1617 3432 \nQ 1894 3584 2278 3584 \nQ 2916 3584 3314 3078 \nQ 3713 2572 3713 1747 \nQ 3713 922 3314 415 \nQ 2916 -91 2278 -91 \nQ 1894 -91 1617 61 \nQ 1341 213 1159 525 \nz\nM 3116 1747 \nQ 3116 2381 2855 2742 \nQ 2594 3103 2138 3103 \nQ 1681 3103 1420 2742 \nQ 1159 2381 1159 1747 \nQ 1159 1113 1420 752 \nQ 1681 391 2138 391 \nQ 2594 391 2855 752 \nQ 3116 1113 3116 1747 \nz\n\" transform=\"scale(0.015625)\"/>\n        <path id=\"DejaVuSans-68\" d=\"M 3513 2113 \nL 3513 0 \nL 2938 0 \nL 2938 2094 \nQ 2938 2591 2744 2837 \nQ 2550 3084 2163 3084 \nQ 1697 3084 1428 2787 \nQ 1159 2491 1159 1978 \nL 1159 0 \nL 581 0 \nL 581 4863 \nL 1159 4863 \nL 1159 2956 \nQ 1366 3272 1645 3428 \nQ 1925 3584 2291 3584 \nQ 2894 3584 3203 3211 \nQ 3513 2838 3513 2113 \nz\n\" transform=\"scale(0.015625)\"/>\n       </defs>\n       <use xlink:href=\"#DejaVuSans-6b\"/>\n       <use xlink:href=\"#DejaVuSans-6f\" x=\"54.285156\"/>\n       <use xlink:href=\"#DejaVuSans-69\" x=\"115.466797\"/>\n       <use xlink:href=\"#DejaVuSans-5f\" x=\"143.25\"/>\n       <use xlink:href=\"#DejaVuSans-64\" x=\"193.25\"/>\n       <use xlink:href=\"#DejaVuSans-65\" x=\"256.726562\"/>\n       <use xlink:href=\"#DejaVuSans-70\" x=\"318.25\"/>\n       <use xlink:href=\"#DejaVuSans-74\" x=\"381.726562\"/>\n       <use xlink:href=\"#DejaVuSans-68\" x=\"420.935547\"/>\n      </g>\n     </g>\n    </g>\n    <g id=\"ytick_7\">\n     <g id=\"line2d_9\">\n      <g>\n       <use xlink:href=\"#m458393ab0d\" x=\"68.404687\" y=\"85.712516\" style=\"stroke: #000000; stroke-width: 0.8\"/>\n      </g>\n     </g>\n     <g id=\"text_9\">\n      <!-- koi_score -->\n      <g style=\"fill: #444443\" transform=\"translate(15.214062 89.511735) scale(0.1 -0.1)\">\n       <defs>\n        <path id=\"DejaVuSans-63\" d=\"M 3122 3366 \nL 3122 2828 \nQ 2878 2963 2633 3030 \nQ 2388 3097 2138 3097 \nQ 1578 3097 1268 2742 \nQ 959 2388 959 1747 \nQ 959 1106 1268 751 \nQ 1578 397 2138 397 \nQ 2388 397 2633 464 \nQ 2878 531 3122 666 \nL 3122 134 \nQ 2881 22 2623 -34 \nQ 2366 -91 2075 -91 \nQ 1284 -91 818 406 \nQ 353 903 353 1747 \nQ 353 2603 823 3093 \nQ 1294 3584 2113 3584 \nQ 2378 3584 2631 3529 \nQ 2884 3475 3122 3366 \nz\n\" transform=\"scale(0.015625)\"/>\n       </defs>\n       <use xlink:href=\"#DejaVuSans-6b\"/>\n       <use xlink:href=\"#DejaVuSans-6f\" x=\"54.285156\"/>\n       <use xlink:href=\"#DejaVuSans-69\" x=\"115.466797\"/>\n       <use xlink:href=\"#DejaVuSans-5f\" x=\"143.25\"/>\n       <use xlink:href=\"#DejaVuSans-73\" x=\"193.25\"/>\n       <use xlink:href=\"#DejaVuSans-63\" x=\"245.349609\"/>\n       <use xlink:href=\"#DejaVuSans-6f\" x=\"300.330078\"/>\n       <use xlink:href=\"#DejaVuSans-72\" x=\"361.511719\"/>\n       <use xlink:href=\"#DejaVuSans-65\" x=\"400.375\"/>\n      </g>\n     </g>\n    </g>\n    <g id=\"ytick_8\">\n     <g id=\"line2d_10\">\n      <g>\n       <use xlink:href=\"#m458393ab0d\" x=\"68.404687\" y=\"98.807484\" style=\"stroke: #000000; stroke-width: 0.8\"/>\n      </g>\n     </g>\n     <g id=\"text_10\">\n      <!-- koi_slogg -->\n      <g style=\"fill: #444443\" transform=\"translate(15.276562 102.606703) scale(0.1 -0.1)\">\n       <defs>\n        <path id=\"DejaVuSans-67\" d=\"M 2906 1791 \nQ 2906 2416 2648 2759 \nQ 2391 3103 1925 3103 \nQ 1463 3103 1205 2759 \nQ 947 2416 947 1791 \nQ 947 1169 1205 825 \nQ 1463 481 1925 481 \nQ 2391 481 2648 825 \nQ 2906 1169 2906 1791 \nz\nM 3481 434 \nQ 3481 -459 3084 -895 \nQ 2688 -1331 1869 -1331 \nQ 1566 -1331 1297 -1286 \nQ 1028 -1241 775 -1147 \nL 775 -588 \nQ 1028 -725 1275 -790 \nQ 1522 -856 1778 -856 \nQ 2344 -856 2625 -561 \nQ 2906 -266 2906 331 \nL 2906 616 \nQ 2728 306 2450 153 \nQ 2172 0 1784 0 \nQ 1141 0 747 490 \nQ 353 981 353 1791 \nQ 353 2603 747 3093 \nQ 1141 3584 1784 3584 \nQ 2172 3584 2450 3431 \nQ 2728 3278 2906 2969 \nL 2906 3500 \nL 3481 3500 \nL 3481 434 \nz\n\" transform=\"scale(0.015625)\"/>\n       </defs>\n       <use xlink:href=\"#DejaVuSans-6b\"/>\n       <use xlink:href=\"#DejaVuSans-6f\" x=\"54.285156\"/>\n       <use xlink:href=\"#DejaVuSans-69\" x=\"115.466797\"/>\n       <use xlink:href=\"#DejaVuSans-5f\" x=\"143.25\"/>\n       <use xlink:href=\"#DejaVuSans-73\" x=\"193.25\"/>\n       <use xlink:href=\"#DejaVuSans-6c\" x=\"245.349609\"/>\n       <use xlink:href=\"#DejaVuSans-6f\" x=\"273.132812\"/>\n       <use xlink:href=\"#DejaVuSans-67\" x=\"334.314453\"/>\n       <use xlink:href=\"#DejaVuSans-67\" x=\"397.791016\"/>\n      </g>\n     </g>\n    </g>\n    <g id=\"ytick_9\">\n     <g id=\"line2d_11\">\n      <g>\n       <use xlink:href=\"#m458393ab0d\" x=\"68.404687\" y=\"111.902452\" style=\"stroke: #000000; stroke-width: 0.8\"/>\n      </g>\n     </g>\n     <g id=\"text_11\">\n      <!-- koi_time0bk -->\n      <g style=\"fill: #444443\" transform=\"translate(0.985937 115.70167) scale(0.1 -0.1)\">\n       <defs>\n        <path id=\"DejaVuSans-6d\" d=\"M 3328 2828 \nQ 3544 3216 3844 3400 \nQ 4144 3584 4550 3584 \nQ 5097 3584 5394 3201 \nQ 5691 2819 5691 2113 \nL 5691 0 \nL 5113 0 \nL 5113 2094 \nQ 5113 2597 4934 2840 \nQ 4756 3084 4391 3084 \nQ 3944 3084 3684 2787 \nQ 3425 2491 3425 1978 \nL 3425 0 \nL 2847 0 \nL 2847 2094 \nQ 2847 2600 2669 2842 \nQ 2491 3084 2119 3084 \nQ 1678 3084 1418 2786 \nQ 1159 2488 1159 1978 \nL 1159 0 \nL 581 0 \nL 581 3500 \nL 1159 3500 \nL 1159 2956 \nQ 1356 3278 1631 3431 \nQ 1906 3584 2284 3584 \nQ 2666 3584 2933 3390 \nQ 3200 3197 3328 2828 \nz\n\" transform=\"scale(0.015625)\"/>\n        <path id=\"DejaVuSans-62\" d=\"M 3116 1747 \nQ 3116 2381 2855 2742 \nQ 2594 3103 2138 3103 \nQ 1681 3103 1420 2742 \nQ 1159 2381 1159 1747 \nQ 1159 1113 1420 752 \nQ 1681 391 2138 391 \nQ 2594 391 2855 752 \nQ 3116 1113 3116 1747 \nz\nM 1159 2969 \nQ 1341 3281 1617 3432 \nQ 1894 3584 2278 3584 \nQ 2916 3584 3314 3078 \nQ 3713 2572 3713 1747 \nQ 3713 922 3314 415 \nQ 2916 -91 2278 -91 \nQ 1894 -91 1617 61 \nQ 1341 213 1159 525 \nL 1159 0 \nL 581 0 \nL 581 4863 \nL 1159 4863 \nL 1159 2969 \nz\n\" transform=\"scale(0.015625)\"/>\n       </defs>\n       <use xlink:href=\"#DejaVuSans-6b\"/>\n       <use xlink:href=\"#DejaVuSans-6f\" x=\"54.285156\"/>\n       <use xlink:href=\"#DejaVuSans-69\" x=\"115.466797\"/>\n       <use xlink:href=\"#DejaVuSans-5f\" x=\"143.25\"/>\n       <use xlink:href=\"#DejaVuSans-74\" x=\"193.25\"/>\n       <use xlink:href=\"#DejaVuSans-69\" x=\"232.458984\"/>\n       <use xlink:href=\"#DejaVuSans-6d\" x=\"260.242188\"/>\n       <use xlink:href=\"#DejaVuSans-65\" x=\"357.654297\"/>\n       <use xlink:href=\"#DejaVuSans-30\" x=\"419.177734\"/>\n       <use xlink:href=\"#DejaVuSans-62\" x=\"482.800781\"/>\n       <use xlink:href=\"#DejaVuSans-6b\" x=\"546.277344\"/>\n      </g>\n     </g>\n    </g>\n    <g id=\"ytick_10\">\n     <g id=\"line2d_12\">\n      <g>\n       <use xlink:href=\"#m458393ab0d\" x=\"68.404687\" y=\"124.997419\" style=\"stroke: #000000; stroke-width: 0.8\"/>\n      </g>\n     </g>\n     <g id=\"text_12\">\n      <!-- koi_impact -->\n      <g style=\"fill: #444443\" transform=\"translate(7.665625 128.796638) scale(0.1 -0.1)\">\n       <use xlink:href=\"#DejaVuSans-6b\"/>\n       <use xlink:href=\"#DejaVuSans-6f\" x=\"54.285156\"/>\n       <use xlink:href=\"#DejaVuSans-69\" x=\"115.466797\"/>\n       <use xlink:href=\"#DejaVuSans-5f\" x=\"143.25\"/>\n       <use xlink:href=\"#DejaVuSans-69\" x=\"193.25\"/>\n       <use xlink:href=\"#DejaVuSans-6d\" x=\"221.033203\"/>\n       <use xlink:href=\"#DejaVuSans-70\" x=\"318.445312\"/>\n       <use xlink:href=\"#DejaVuSans-61\" x=\"381.921875\"/>\n       <use xlink:href=\"#DejaVuSans-63\" x=\"443.201172\"/>\n       <use xlink:href=\"#DejaVuSans-74\" x=\"498.181641\"/>\n      </g>\n     </g>\n    </g>\n    <g id=\"ytick_11\">\n     <g id=\"line2d_13\">\n      <g>\n       <use xlink:href=\"#m458393ab0d\" x=\"68.404687\" y=\"138.092387\" style=\"stroke: #000000; stroke-width: 0.8\"/>\n      </g>\n     </g>\n     <g id=\"text_13\">\n      <!-- koi_prad -->\n      <g style=\"fill: #444443\" transform=\"translate(19.14375 141.891606) scale(0.1 -0.1)\">\n       <use xlink:href=\"#DejaVuSans-6b\"/>\n       <use xlink:href=\"#DejaVuSans-6f\" x=\"54.285156\"/>\n       <use xlink:href=\"#DejaVuSans-69\" x=\"115.466797\"/>\n       <use xlink:href=\"#DejaVuSans-5f\" x=\"143.25\"/>\n       <use xlink:href=\"#DejaVuSans-70\" x=\"193.25\"/>\n       <use xlink:href=\"#DejaVuSans-72\" x=\"256.726562\"/>\n       <use xlink:href=\"#DejaVuSans-61\" x=\"297.839844\"/>\n       <use xlink:href=\"#DejaVuSans-64\" x=\"359.119141\"/>\n      </g>\n     </g>\n    </g>\n    <g id=\"ytick_12\">\n     <g id=\"line2d_14\">\n      <g>\n       <use xlink:href=\"#m458393ab0d\" x=\"68.404687\" y=\"151.187355\" style=\"stroke: #000000; stroke-width: 0.8\"/>\n      </g>\n     </g>\n     <g id=\"text_14\">\n      <!-- ra -->\n      <g style=\"fill: #444443\" transform=\"translate(51.165625 154.986574) scale(0.1 -0.1)\">\n       <use xlink:href=\"#DejaVuSans-72\"/>\n       <use xlink:href=\"#DejaVuSans-61\" x=\"41.113281\"/>\n      </g>\n     </g>\n    </g>\n    <g id=\"ytick_13\">\n     <g id=\"line2d_15\">\n      <g>\n       <use xlink:href=\"#m458393ab0d\" x=\"68.404687\" y=\"164.282323\" style=\"stroke: #000000; stroke-width: 0.8\"/>\n      </g>\n     </g>\n     <g id=\"text_15\">\n      <!-- dec -->\n      <g style=\"fill: #444443\" transform=\"translate(43.404687 168.081541) scale(0.1 -0.1)\">\n       <use xlink:href=\"#DejaVuSans-64\"/>\n       <use xlink:href=\"#DejaVuSans-65\" x=\"63.476562\"/>\n       <use xlink:href=\"#DejaVuSans-63\" x=\"125\"/>\n      </g>\n     </g>\n    </g>\n    <g id=\"ytick_14\">\n     <g id=\"line2d_16\">\n      <g>\n       <use xlink:href=\"#m458393ab0d\" x=\"68.404687\" y=\"177.37729\" style=\"stroke: #000000; stroke-width: 0.8\"/>\n      </g>\n     </g>\n     <g id=\"text_16\">\n      <!-- koi_kepmag -->\n      <g style=\"fill: #444443\" transform=\"translate(1.932812 181.176509) scale(0.1 -0.1)\">\n       <use xlink:href=\"#DejaVuSans-6b\"/>\n       <use xlink:href=\"#DejaVuSans-6f\" x=\"54.285156\"/>\n       <use xlink:href=\"#DejaVuSans-69\" x=\"115.466797\"/>\n       <use xlink:href=\"#DejaVuSans-5f\" x=\"143.25\"/>\n       <use xlink:href=\"#DejaVuSans-6b\" x=\"193.25\"/>\n       <use xlink:href=\"#DejaVuSans-65\" x=\"247.535156\"/>\n       <use xlink:href=\"#DejaVuSans-70\" x=\"309.058594\"/>\n       <use xlink:href=\"#DejaVuSans-6d\" x=\"372.535156\"/>\n       <use xlink:href=\"#DejaVuSans-61\" x=\"469.947266\"/>\n       <use xlink:href=\"#DejaVuSans-67\" x=\"531.226562\"/>\n      </g>\n     </g>\n    </g>\n   </g>\n   <g id=\"patch_17\">\n    <path d=\"M 68.404687 184.52 \nL 68.404687 0 \n\" style=\"fill: none; stroke: #000000; stroke-width: 0.3; stroke-linejoin: miter; stroke-linecap: square\"/>\n   </g>\n   <g id=\"patch_18\">\n    <path d=\"M 255.084687 184.52 \nL 255.084687 0 \n\" style=\"fill: none; stroke: #000000; stroke-width: 0.3; stroke-linejoin: miter; stroke-linecap: square\"/>\n   </g>\n   <g id=\"patch_19\">\n    <path d=\"M 68.404687 184.52 \nL 255.084687 184.52 \n\" style=\"fill: none; stroke: #000000; stroke-width: 0.3; stroke-linejoin: miter; stroke-linecap: square\"/>\n   </g>\n   <g id=\"patch_20\">\n    <path d=\"M 68.404687 0 \nL 255.084687 0 \n\" style=\"fill: none; stroke: #000000; stroke-width: 0.3; stroke-linejoin: miter; stroke-linecap: square\"/>\n   </g>\n  </g>\n </g>\n <defs>\n  <clipPath id=\"pfc99061847\">\n   <rect x=\"68.404687\" y=\"0\" width=\"186.68\" height=\"184.52\"/>\n  </clipPath>\n </defs>\n</svg>\n"
          },
          "metadata": {},
          "execution_count": 83
        }
      ]
    },
    {
      "cell_type": "markdown",
      "source": [
        "### Training the model after a Train Test Split"
      ],
      "metadata": {
        "id": "4NTX--rSsdyO"
      }
    },
    {
      "cell_type": "code",
      "source": [
        "from sklearn.model_selection import train_test_split\n",
        "\n",
        "X_train, X_test, y_train, y_test = train_test_split(features,target,test_size=0.2)"
      ],
      "metadata": {
        "id": "tiYVW9uwoxoN"
      },
      "execution_count": 84,
      "outputs": []
    },
    {
      "cell_type": "code",
      "source": [
        "from sklearn.ensemble import RandomForestRegressor\n",
        "\n",
        "model = RandomForestRegressor(n_estimators = 300, oob_score=True)\n",
        "model.fit(X_train,y_train)\n",
        "oob_score = model.oob_score_\n",
        "print(\"The Model OOB Score:\",oob_score)"
      ],
      "metadata": {
        "colab": {
          "base_uri": "https://localhost:8080/"
        },
        "id": "6FFj1MQEpBsN",
        "outputId": "7b62975c-ae29-4df7-eb0d-24e2169f7921"
      },
      "execution_count": 85,
      "outputs": [
        {
          "output_type": "stream",
          "name": "stderr",
          "text": [
            "/usr/local/lib/python3.10/dist-packages/sklearn/base.py:1152: DataConversionWarning: A column-vector y was passed when a 1d array was expected. Please change the shape of y to (n_samples,), for example using ravel().\n",
            "  return fit_method(estimator, *args, **kwargs)\n"
          ]
        },
        {
          "output_type": "stream",
          "name": "stdout",
          "text": [
            "The Model OOB Score: 0.8405726044739537\n"
          ]
        }
      ]
    },
    {
      "cell_type": "code",
      "source": [
        "from rfpimp import importances, plot_importances\n",
        "\n",
        "imp = importances(model, features, target)\n",
        "print(imp)\n",
        "plot_importances(imp)"
      ],
      "metadata": {
        "colab": {
          "base_uri": "https://localhost:8080/",
          "height": 567
        },
        "id": "SXOgVaa5pvwE",
        "outputId": "5503c884-9c38-4adf-f796-d82d3923eb11"
      },
      "execution_count": 86,
      "outputs": [
        {
          "output_type": "stream",
          "name": "stdout",
          "text": [
            "              Importance\n",
            "Feature                 \n",
            "koi_insol       0.831763\n",
            "koi_teq         0.177900\n",
            "koi_duration    0.158469\n",
            "koi_srad        0.112693\n",
            "koi_steff       0.035959\n",
            "koi_time0bk     0.031815\n",
            "koi_depth       0.021732\n",
            "koi_score       0.014917\n",
            "koi_slogg       0.011074\n",
            "koi_impact      0.004046\n",
            "koi_prad        0.003594\n",
            "dec             0.002276\n",
            "koi_kepmag      0.001718\n",
            "ra              0.001158\n"
          ]
        },
        {
          "output_type": "execute_result",
          "data": {
            "text/plain": [
              "<rfpimp.PimpViz at 0x7a291b4a3760>"
            ],
            "image/svg+xml": "<?xml version=\"1.0\" encoding=\"utf-8\" standalone=\"no\"?>\n<!DOCTYPE svg PUBLIC \"-//W3C//DTD SVG 1.1//EN\"\n  \"http://www.w3.org/Graphics/SVG/1.1/DTD/svg11.dtd\">\n<svg xmlns:xlink=\"http://www.w3.org/1999/xlink\" width=\"266.2175pt\" height=\"201.198125pt\" viewBox=\"0 0 266.2175 201.198125\" xmlns=\"http://www.w3.org/2000/svg\" version=\"1.1\">\n <metadata>\n  <rdf:RDF xmlns:dc=\"http://purl.org/dc/elements/1.1/\" xmlns:cc=\"http://creativecommons.org/ns#\" xmlns:rdf=\"http://www.w3.org/1999/02/22-rdf-syntax-ns#\">\n   <cc:Work>\n    <dc:type rdf:resource=\"http://purl.org/dc/dcmitype/StillImage\"/>\n    <dc:date>2024-08-13T03:26:46.777429</dc:date>\n    <dc:format>image/svg+xml</dc:format>\n    <dc:creator>\n     <cc:Agent>\n      <dc:title>Matplotlib v3.7.1, https://matplotlib.org/</dc:title>\n     </cc:Agent>\n    </dc:creator>\n   </cc:Work>\n  </rdf:RDF>\n </metadata>\n <defs>\n  <style type=\"text/css\">*{stroke-linejoin: round; stroke-linecap: butt}</style>\n </defs>\n <g id=\"figure_1\">\n  <g id=\"patch_1\">\n   <path d=\"M 0 201.198125 \nL 266.2175 201.198125 \nL 266.2175 0 \nL 0 0 \nz\n\" style=\"fill: #ffffff\"/>\n  </g>\n  <g id=\"axes_1\">\n   <g id=\"patch_2\">\n    <path d=\"M 68.404687 184.52 \nL 255.084687 184.52 \nL 255.084687 0 \nL 68.404687 0 \nz\n\" style=\"fill: #ffffff\"/>\n   </g>\n   <g id=\"patch_3\">\n    <path d=\"M 68.851417 1.190452 \nL 254.637958 1.190452 \nL 254.637958 13.094968 \nL 68.851417 13.094968 \nz\n\" clip-path=\"url(#p5a0ca09464)\" style=\"fill: #d9e6f5; stroke: #444443; stroke-width: 0.5; stroke-linejoin: miter\"/>\n   </g>\n   <g id=\"patch_4\">\n    <path d=\"M 68.851417 14.285419 \nL 108.588088 14.285419 \nL 108.588088 26.189935 \nL 68.851417 26.189935 \nz\n\" clip-path=\"url(#p5a0ca09464)\" style=\"fill: #d9e6f5; stroke: #444443; stroke-width: 0.5; stroke-linejoin: miter\"/>\n   </g>\n   <g id=\"patch_5\">\n    <path d=\"M 68.851417 27.380387 \nL 104.247897 27.380387 \nL 104.247897 39.284903 \nL 68.851417 39.284903 \nz\n\" clip-path=\"url(#p5a0ca09464)\" style=\"fill: #d9e6f5; stroke: #444443; stroke-width: 0.5; stroke-linejoin: miter\"/>\n   </g>\n   <g id=\"patch_6\">\n    <path d=\"M 68.851417 40.475355 \nL 94.023086 40.475355 \nL 94.023086 52.379871 \nL 68.851417 52.379871 \nz\n\" clip-path=\"url(#p5a0ca09464)\" style=\"fill: #d9e6f5; stroke: #444443; stroke-width: 0.5; stroke-linejoin: miter\"/>\n   </g>\n   <g id=\"patch_7\">\n    <path d=\"M 68.851417 53.570323 \nL 76.883321 53.570323 \nL 76.883321 65.474839 \nL 68.851417 65.474839 \nz\n\" clip-path=\"url(#p5a0ca09464)\" style=\"fill: #d9e6f5; stroke: #444443; stroke-width: 0.5; stroke-linejoin: miter\"/>\n   </g>\n   <g id=\"patch_8\">\n    <path d=\"M 68.851417 66.66529 \nL 75.957872 66.66529 \nL 75.957872 78.569806 \nL 68.851417 78.569806 \nz\n\" clip-path=\"url(#p5a0ca09464)\" style=\"fill: #d9e6f5; stroke: #444443; stroke-width: 0.5; stroke-linejoin: miter\"/>\n   </g>\n   <g id=\"patch_9\">\n    <path d=\"M 68.851417 79.760258 \nL 73.70556 79.760258 \nL 73.70556 91.664774 \nL 68.851417 91.664774 \nz\n\" clip-path=\"url(#p5a0ca09464)\" style=\"fill: #d9e6f5; stroke: #444443; stroke-width: 0.5; stroke-linejoin: miter\"/>\n   </g>\n   <g id=\"patch_10\">\n    <path d=\"M 68.851417 92.855226 \nL 72.183317 92.855226 \nL 72.183317 104.759742 \nL 68.851417 104.759742 \nz\n\" clip-path=\"url(#p5a0ca09464)\" style=\"fill: #d9e6f5; stroke: #444443; stroke-width: 0.5; stroke-linejoin: miter\"/>\n   </g>\n   <g id=\"patch_11\">\n    <path d=\"M 68.851417 105.950194 \nL 71.324902 105.950194 \nL 71.324902 117.85471 \nL 68.851417 117.85471 \nz\n\" clip-path=\"url(#p5a0ca09464)\" style=\"fill: #d9e6f5; stroke: #444443; stroke-width: 0.5; stroke-linejoin: miter\"/>\n   </g>\n   <g id=\"patch_12\">\n    <path d=\"M 68.851417 119.045161 \nL 69.755181 119.045161 \nL 69.755181 130.949677 \nL 68.851417 130.949677 \nz\n\" clip-path=\"url(#p5a0ca09464)\" style=\"fill: #d9e6f5; stroke: #444443; stroke-width: 0.5; stroke-linejoin: miter\"/>\n   </g>\n   <g id=\"patch_13\">\n    <path d=\"M 68.851417 132.140129 \nL 69.65427 132.140129 \nL 69.65427 144.044645 \nL 68.851417 144.044645 \nz\n\" clip-path=\"url(#p5a0ca09464)\" style=\"fill: #d9e6f5; stroke: #444443; stroke-width: 0.5; stroke-linejoin: miter\"/>\n   </g>\n   <g id=\"patch_14\">\n    <path d=\"M 68.851417 145.235097 \nL 69.359751 145.235097 \nL 69.359751 157.139613 \nL 68.851417 157.139613 \nz\n\" clip-path=\"url(#p5a0ca09464)\" style=\"fill: #d9e6f5; stroke: #444443; stroke-width: 0.5; stroke-linejoin: miter\"/>\n   </g>\n   <g id=\"patch_15\">\n    <path d=\"M 68.851417 158.330065 \nL 69.235224 158.330065 \nL 69.235224 170.234581 \nL 68.851417 170.234581 \nz\n\" clip-path=\"url(#p5a0ca09464)\" style=\"fill: #d9e6f5; stroke: #444443; stroke-width: 0.5; stroke-linejoin: miter\"/>\n   </g>\n   <g id=\"patch_16\">\n    <path d=\"M 68.851417 171.425032 \nL 69.109979 171.425032 \nL 69.109979 183.329548 \nL 68.851417 183.329548 \nz\n\" clip-path=\"url(#p5a0ca09464)\" style=\"fill: #d9e6f5; stroke: #444443; stroke-width: 0.5; stroke-linejoin: miter\"/>\n   </g>\n   <g id=\"matplotlib.axis_1\">\n    <g id=\"xtick_1\">\n     <g id=\"line2d_1\">\n      <defs>\n       <path id=\"ma97d767c12\" d=\"M 0 0 \nL 0 3.5 \n\" style=\"stroke: #000000; stroke-width: 0.8\"/>\n      </defs>\n      <g>\n       <use xlink:href=\"#ma97d767c12\" x=\"68.851417\" y=\"184.52\" style=\"stroke: #000000; stroke-width: 0.8\"/>\n      </g>\n     </g>\n     <g id=\"text_1\">\n      <!-- 0.00 -->\n      <g style=\"fill: #444443\" transform=\"translate(57.718605 199.118438) scale(0.1 -0.1)\">\n       <defs>\n        <path id=\"DejaVuSans-30\" d=\"M 2034 4250 \nQ 1547 4250 1301 3770 \nQ 1056 3291 1056 2328 \nQ 1056 1369 1301 889 \nQ 1547 409 2034 409 \nQ 2525 409 2770 889 \nQ 3016 1369 3016 2328 \nQ 3016 3291 2770 3770 \nQ 2525 4250 2034 4250 \nz\nM 2034 4750 \nQ 2819 4750 3233 4129 \nQ 3647 3509 3647 2328 \nQ 3647 1150 3233 529 \nQ 2819 -91 2034 -91 \nQ 1250 -91 836 529 \nQ 422 1150 422 2328 \nQ 422 3509 836 4129 \nQ 1250 4750 2034 4750 \nz\n\" transform=\"scale(0.015625)\"/>\n        <path id=\"DejaVuSans-2e\" d=\"M 684 794 \nL 1344 794 \nL 1344 0 \nL 684 0 \nL 684 794 \nz\n\" transform=\"scale(0.015625)\"/>\n       </defs>\n       <use xlink:href=\"#DejaVuSans-30\"/>\n       <use xlink:href=\"#DejaVuSans-2e\" x=\"63.623047\"/>\n       <use xlink:href=\"#DejaVuSans-30\" x=\"95.410156\"/>\n       <use xlink:href=\"#DejaVuSans-30\" x=\"159.033203\"/>\n      </g>\n     </g>\n    </g>\n    <g id=\"xtick_2\">\n     <g id=\"line2d_2\">\n      <g>\n       <use xlink:href=\"#ma97d767c12\" x=\"255.084687\" y=\"184.52\" style=\"stroke: #000000; stroke-width: 0.8\"/>\n      </g>\n     </g>\n     <g id=\"text_2\">\n      <!-- 0.83 -->\n      <g style=\"fill: #444443\" transform=\"translate(243.951875 199.118438) scale(0.1 -0.1)\">\n       <defs>\n        <path id=\"DejaVuSans-38\" d=\"M 2034 2216 \nQ 1584 2216 1326 1975 \nQ 1069 1734 1069 1313 \nQ 1069 891 1326 650 \nQ 1584 409 2034 409 \nQ 2484 409 2743 651 \nQ 3003 894 3003 1313 \nQ 3003 1734 2745 1975 \nQ 2488 2216 2034 2216 \nz\nM 1403 2484 \nQ 997 2584 770 2862 \nQ 544 3141 544 3541 \nQ 544 4100 942 4425 \nQ 1341 4750 2034 4750 \nQ 2731 4750 3128 4425 \nQ 3525 4100 3525 3541 \nQ 3525 3141 3298 2862 \nQ 3072 2584 2669 2484 \nQ 3125 2378 3379 2068 \nQ 3634 1759 3634 1313 \nQ 3634 634 3220 271 \nQ 2806 -91 2034 -91 \nQ 1263 -91 848 271 \nQ 434 634 434 1313 \nQ 434 1759 690 2068 \nQ 947 2378 1403 2484 \nz\nM 1172 3481 \nQ 1172 3119 1398 2916 \nQ 1625 2713 2034 2713 \nQ 2441 2713 2670 2916 \nQ 2900 3119 2900 3481 \nQ 2900 3844 2670 4047 \nQ 2441 4250 2034 4250 \nQ 1625 4250 1398 4047 \nQ 1172 3844 1172 3481 \nz\n\" transform=\"scale(0.015625)\"/>\n        <path id=\"DejaVuSans-33\" d=\"M 2597 2516 \nQ 3050 2419 3304 2112 \nQ 3559 1806 3559 1356 \nQ 3559 666 3084 287 \nQ 2609 -91 1734 -91 \nQ 1441 -91 1130 -33 \nQ 819 25 488 141 \nL 488 750 \nQ 750 597 1062 519 \nQ 1375 441 1716 441 \nQ 2309 441 2620 675 \nQ 2931 909 2931 1356 \nQ 2931 1769 2642 2001 \nQ 2353 2234 1838 2234 \nL 1294 2234 \nL 1294 2753 \nL 1863 2753 \nQ 2328 2753 2575 2939 \nQ 2822 3125 2822 3475 \nQ 2822 3834 2567 4026 \nQ 2313 4219 1838 4219 \nQ 1578 4219 1281 4162 \nQ 984 4106 628 3988 \nL 628 4550 \nQ 988 4650 1302 4700 \nQ 1616 4750 1894 4750 \nQ 2613 4750 3031 4423 \nQ 3450 4097 3450 3541 \nQ 3450 3153 3228 2886 \nQ 3006 2619 2597 2516 \nz\n\" transform=\"scale(0.015625)\"/>\n       </defs>\n       <use xlink:href=\"#DejaVuSans-30\"/>\n       <use xlink:href=\"#DejaVuSans-2e\" x=\"63.623047\"/>\n       <use xlink:href=\"#DejaVuSans-38\" x=\"95.410156\"/>\n       <use xlink:href=\"#DejaVuSans-33\" x=\"159.033203\"/>\n      </g>\n     </g>\n    </g>\n   </g>\n   <g id=\"matplotlib.axis_2\">\n    <g id=\"ytick_1\">\n     <g id=\"line2d_3\">\n      <defs>\n       <path id=\"m2c7b6798dc\" d=\"M 0 0 \nL -3.5 0 \n\" style=\"stroke: #000000; stroke-width: 0.8\"/>\n      </defs>\n      <g>\n       <use xlink:href=\"#m2c7b6798dc\" x=\"68.404687\" y=\"7.14271\" style=\"stroke: #000000; stroke-width: 0.8\"/>\n      </g>\n     </g>\n     <g id=\"text_3\">\n      <!-- koi_insol -->\n      <g style=\"fill: #444443\" transform=\"translate(18.857812 10.941928) scale(0.1 -0.1)\">\n       <defs>\n        <path id=\"DejaVuSans-6b\" d=\"M 581 4863 \nL 1159 4863 \nL 1159 1991 \nL 2875 3500 \nL 3609 3500 \nL 1753 1863 \nL 3688 0 \nL 2938 0 \nL 1159 1709 \nL 1159 0 \nL 581 0 \nL 581 4863 \nz\n\" transform=\"scale(0.015625)\"/>\n        <path id=\"DejaVuSans-6f\" d=\"M 1959 3097 \nQ 1497 3097 1228 2736 \nQ 959 2375 959 1747 \nQ 959 1119 1226 758 \nQ 1494 397 1959 397 \nQ 2419 397 2687 759 \nQ 2956 1122 2956 1747 \nQ 2956 2369 2687 2733 \nQ 2419 3097 1959 3097 \nz\nM 1959 3584 \nQ 2709 3584 3137 3096 \nQ 3566 2609 3566 1747 \nQ 3566 888 3137 398 \nQ 2709 -91 1959 -91 \nQ 1206 -91 779 398 \nQ 353 888 353 1747 \nQ 353 2609 779 3096 \nQ 1206 3584 1959 3584 \nz\n\" transform=\"scale(0.015625)\"/>\n        <path id=\"DejaVuSans-69\" d=\"M 603 3500 \nL 1178 3500 \nL 1178 0 \nL 603 0 \nL 603 3500 \nz\nM 603 4863 \nL 1178 4863 \nL 1178 4134 \nL 603 4134 \nL 603 4863 \nz\n\" transform=\"scale(0.015625)\"/>\n        <path id=\"DejaVuSans-5f\" d=\"M 3263 -1063 \nL 3263 -1509 \nL -63 -1509 \nL -63 -1063 \nL 3263 -1063 \nz\n\" transform=\"scale(0.015625)\"/>\n        <path id=\"DejaVuSans-6e\" d=\"M 3513 2113 \nL 3513 0 \nL 2938 0 \nL 2938 2094 \nQ 2938 2591 2744 2837 \nQ 2550 3084 2163 3084 \nQ 1697 3084 1428 2787 \nQ 1159 2491 1159 1978 \nL 1159 0 \nL 581 0 \nL 581 3500 \nL 1159 3500 \nL 1159 2956 \nQ 1366 3272 1645 3428 \nQ 1925 3584 2291 3584 \nQ 2894 3584 3203 3211 \nQ 3513 2838 3513 2113 \nz\n\" transform=\"scale(0.015625)\"/>\n        <path id=\"DejaVuSans-73\" d=\"M 2834 3397 \nL 2834 2853 \nQ 2591 2978 2328 3040 \nQ 2066 3103 1784 3103 \nQ 1356 3103 1142 2972 \nQ 928 2841 928 2578 \nQ 928 2378 1081 2264 \nQ 1234 2150 1697 2047 \nL 1894 2003 \nQ 2506 1872 2764 1633 \nQ 3022 1394 3022 966 \nQ 3022 478 2636 193 \nQ 2250 -91 1575 -91 \nQ 1294 -91 989 -36 \nQ 684 19 347 128 \nL 347 722 \nQ 666 556 975 473 \nQ 1284 391 1588 391 \nQ 1994 391 2212 530 \nQ 2431 669 2431 922 \nQ 2431 1156 2273 1281 \nQ 2116 1406 1581 1522 \nL 1381 1569 \nQ 847 1681 609 1914 \nQ 372 2147 372 2553 \nQ 372 3047 722 3315 \nQ 1072 3584 1716 3584 \nQ 2034 3584 2315 3537 \nQ 2597 3491 2834 3397 \nz\n\" transform=\"scale(0.015625)\"/>\n        <path id=\"DejaVuSans-6c\" d=\"M 603 4863 \nL 1178 4863 \nL 1178 0 \nL 603 0 \nL 603 4863 \nz\n\" transform=\"scale(0.015625)\"/>\n       </defs>\n       <use xlink:href=\"#DejaVuSans-6b\"/>\n       <use xlink:href=\"#DejaVuSans-6f\" x=\"54.285156\"/>\n       <use xlink:href=\"#DejaVuSans-69\" x=\"115.466797\"/>\n       <use xlink:href=\"#DejaVuSans-5f\" x=\"143.25\"/>\n       <use xlink:href=\"#DejaVuSans-69\" x=\"193.25\"/>\n       <use xlink:href=\"#DejaVuSans-6e\" x=\"221.033203\"/>\n       <use xlink:href=\"#DejaVuSans-73\" x=\"284.412109\"/>\n       <use xlink:href=\"#DejaVuSans-6f\" x=\"336.511719\"/>\n       <use xlink:href=\"#DejaVuSans-6c\" x=\"397.693359\"/>\n      </g>\n     </g>\n    </g>\n    <g id=\"ytick_2\">\n     <g id=\"line2d_4\">\n      <g>\n       <use xlink:href=\"#m2c7b6798dc\" x=\"68.404687\" y=\"20.237677\" style=\"stroke: #000000; stroke-width: 0.8\"/>\n      </g>\n     </g>\n     <g id=\"text_4\">\n      <!-- koi_teq -->\n      <g style=\"fill: #444443\" transform=\"translate(25.657812 24.036896) scale(0.1 -0.1)\">\n       <defs>\n        <path id=\"DejaVuSans-74\" d=\"M 1172 4494 \nL 1172 3500 \nL 2356 3500 \nL 2356 3053 \nL 1172 3053 \nL 1172 1153 \nQ 1172 725 1289 603 \nQ 1406 481 1766 481 \nL 2356 481 \nL 2356 0 \nL 1766 0 \nQ 1100 0 847 248 \nQ 594 497 594 1153 \nL 594 3053 \nL 172 3053 \nL 172 3500 \nL 594 3500 \nL 594 4494 \nL 1172 4494 \nz\n\" transform=\"scale(0.015625)\"/>\n        <path id=\"DejaVuSans-65\" d=\"M 3597 1894 \nL 3597 1613 \nL 953 1613 \nQ 991 1019 1311 708 \nQ 1631 397 2203 397 \nQ 2534 397 2845 478 \nQ 3156 559 3463 722 \nL 3463 178 \nQ 3153 47 2828 -22 \nQ 2503 -91 2169 -91 \nQ 1331 -91 842 396 \nQ 353 884 353 1716 \nQ 353 2575 817 3079 \nQ 1281 3584 2069 3584 \nQ 2775 3584 3186 3129 \nQ 3597 2675 3597 1894 \nz\nM 3022 2063 \nQ 3016 2534 2758 2815 \nQ 2500 3097 2075 3097 \nQ 1594 3097 1305 2825 \nQ 1016 2553 972 2059 \nL 3022 2063 \nz\n\" transform=\"scale(0.015625)\"/>\n        <path id=\"DejaVuSans-71\" d=\"M 947 1747 \nQ 947 1113 1208 752 \nQ 1469 391 1925 391 \nQ 2381 391 2643 752 \nQ 2906 1113 2906 1747 \nQ 2906 2381 2643 2742 \nQ 2381 3103 1925 3103 \nQ 1469 3103 1208 2742 \nQ 947 2381 947 1747 \nz\nM 2906 525 \nQ 2725 213 2448 61 \nQ 2172 -91 1784 -91 \nQ 1150 -91 751 415 \nQ 353 922 353 1747 \nQ 353 2572 751 3078 \nQ 1150 3584 1784 3584 \nQ 2172 3584 2448 3432 \nQ 2725 3281 2906 2969 \nL 2906 3500 \nL 3481 3500 \nL 3481 -1331 \nL 2906 -1331 \nL 2906 525 \nz\n\" transform=\"scale(0.015625)\"/>\n       </defs>\n       <use xlink:href=\"#DejaVuSans-6b\"/>\n       <use xlink:href=\"#DejaVuSans-6f\" x=\"54.285156\"/>\n       <use xlink:href=\"#DejaVuSans-69\" x=\"115.466797\"/>\n       <use xlink:href=\"#DejaVuSans-5f\" x=\"143.25\"/>\n       <use xlink:href=\"#DejaVuSans-74\" x=\"193.25\"/>\n       <use xlink:href=\"#DejaVuSans-65\" x=\"232.458984\"/>\n       <use xlink:href=\"#DejaVuSans-71\" x=\"293.982422\"/>\n      </g>\n     </g>\n    </g>\n    <g id=\"ytick_3\">\n     <g id=\"line2d_5\">\n      <g>\n       <use xlink:href=\"#m2c7b6798dc\" x=\"68.404687\" y=\"33.332645\" style=\"stroke: #000000; stroke-width: 0.8\"/>\n      </g>\n     </g>\n     <g id=\"text_5\">\n      <!-- koi_duration -->\n      <g style=\"fill: #444443\" transform=\"translate(-0 37.131864) scale(0.1 -0.1)\">\n       <defs>\n        <path id=\"DejaVuSans-64\" d=\"M 2906 2969 \nL 2906 4863 \nL 3481 4863 \nL 3481 0 \nL 2906 0 \nL 2906 525 \nQ 2725 213 2448 61 \nQ 2172 -91 1784 -91 \nQ 1150 -91 751 415 \nQ 353 922 353 1747 \nQ 353 2572 751 3078 \nQ 1150 3584 1784 3584 \nQ 2172 3584 2448 3432 \nQ 2725 3281 2906 2969 \nz\nM 947 1747 \nQ 947 1113 1208 752 \nQ 1469 391 1925 391 \nQ 2381 391 2643 752 \nQ 2906 1113 2906 1747 \nQ 2906 2381 2643 2742 \nQ 2381 3103 1925 3103 \nQ 1469 3103 1208 2742 \nQ 947 2381 947 1747 \nz\n\" transform=\"scale(0.015625)\"/>\n        <path id=\"DejaVuSans-75\" d=\"M 544 1381 \nL 544 3500 \nL 1119 3500 \nL 1119 1403 \nQ 1119 906 1312 657 \nQ 1506 409 1894 409 \nQ 2359 409 2629 706 \nQ 2900 1003 2900 1516 \nL 2900 3500 \nL 3475 3500 \nL 3475 0 \nL 2900 0 \nL 2900 538 \nQ 2691 219 2414 64 \nQ 2138 -91 1772 -91 \nQ 1169 -91 856 284 \nQ 544 659 544 1381 \nz\nM 1991 3584 \nL 1991 3584 \nz\n\" transform=\"scale(0.015625)\"/>\n        <path id=\"DejaVuSans-72\" d=\"M 2631 2963 \nQ 2534 3019 2420 3045 \nQ 2306 3072 2169 3072 \nQ 1681 3072 1420 2755 \nQ 1159 2438 1159 1844 \nL 1159 0 \nL 581 0 \nL 581 3500 \nL 1159 3500 \nL 1159 2956 \nQ 1341 3275 1631 3429 \nQ 1922 3584 2338 3584 \nQ 2397 3584 2469 3576 \nQ 2541 3569 2628 3553 \nL 2631 2963 \nz\n\" transform=\"scale(0.015625)\"/>\n        <path id=\"DejaVuSans-61\" d=\"M 2194 1759 \nQ 1497 1759 1228 1600 \nQ 959 1441 959 1056 \nQ 959 750 1161 570 \nQ 1363 391 1709 391 \nQ 2188 391 2477 730 \nQ 2766 1069 2766 1631 \nL 2766 1759 \nL 2194 1759 \nz\nM 3341 1997 \nL 3341 0 \nL 2766 0 \nL 2766 531 \nQ 2569 213 2275 61 \nQ 1981 -91 1556 -91 \nQ 1019 -91 701 211 \nQ 384 513 384 1019 \nQ 384 1609 779 1909 \nQ 1175 2209 1959 2209 \nL 2766 2209 \nL 2766 2266 \nQ 2766 2663 2505 2880 \nQ 2244 3097 1772 3097 \nQ 1472 3097 1187 3025 \nQ 903 2953 641 2809 \nL 641 3341 \nQ 956 3463 1253 3523 \nQ 1550 3584 1831 3584 \nQ 2591 3584 2966 3190 \nQ 3341 2797 3341 1997 \nz\n\" transform=\"scale(0.015625)\"/>\n       </defs>\n       <use xlink:href=\"#DejaVuSans-6b\"/>\n       <use xlink:href=\"#DejaVuSans-6f\" x=\"54.285156\"/>\n       <use xlink:href=\"#DejaVuSans-69\" x=\"115.466797\"/>\n       <use xlink:href=\"#DejaVuSans-5f\" x=\"143.25\"/>\n       <use xlink:href=\"#DejaVuSans-64\" x=\"193.25\"/>\n       <use xlink:href=\"#DejaVuSans-75\" x=\"256.726562\"/>\n       <use xlink:href=\"#DejaVuSans-72\" x=\"320.105469\"/>\n       <use xlink:href=\"#DejaVuSans-61\" x=\"361.21875\"/>\n       <use xlink:href=\"#DejaVuSans-74\" x=\"422.498047\"/>\n       <use xlink:href=\"#DejaVuSans-69\" x=\"461.707031\"/>\n       <use xlink:href=\"#DejaVuSans-6f\" x=\"489.490234\"/>\n       <use xlink:href=\"#DejaVuSans-6e\" x=\"550.671875\"/>\n      </g>\n     </g>\n    </g>\n    <g id=\"ytick_4\">\n     <g id=\"line2d_6\">\n      <g>\n       <use xlink:href=\"#m2c7b6798dc\" x=\"68.404687\" y=\"46.427613\" style=\"stroke: #000000; stroke-width: 0.8\"/>\n      </g>\n     </g>\n     <g id=\"text_6\">\n      <!-- koi_srad -->\n      <g style=\"fill: #444443\" transform=\"translate(20.282812 50.226832) scale(0.1 -0.1)\">\n       <use xlink:href=\"#DejaVuSans-6b\"/>\n       <use xlink:href=\"#DejaVuSans-6f\" x=\"54.285156\"/>\n       <use xlink:href=\"#DejaVuSans-69\" x=\"115.466797\"/>\n       <use xlink:href=\"#DejaVuSans-5f\" x=\"143.25\"/>\n       <use xlink:href=\"#DejaVuSans-73\" x=\"193.25\"/>\n       <use xlink:href=\"#DejaVuSans-72\" x=\"245.349609\"/>\n       <use xlink:href=\"#DejaVuSans-61\" x=\"286.462891\"/>\n       <use xlink:href=\"#DejaVuSans-64\" x=\"347.742188\"/>\n      </g>\n     </g>\n    </g>\n    <g id=\"ytick_5\">\n     <g id=\"line2d_7\">\n      <g>\n       <use xlink:href=\"#m2c7b6798dc\" x=\"68.404687\" y=\"59.522581\" style=\"stroke: #000000; stroke-width: 0.8\"/>\n      </g>\n     </g>\n     <g id=\"text_7\">\n      <!-- koi_steff -->\n      <g style=\"fill: #444443\" transform=\"translate(19.75625 63.321799) scale(0.1 -0.1)\">\n       <defs>\n        <path id=\"DejaVuSans-66\" d=\"M 2375 4863 \nL 2375 4384 \nL 1825 4384 \nQ 1516 4384 1395 4259 \nQ 1275 4134 1275 3809 \nL 1275 3500 \nL 2222 3500 \nL 2222 3053 \nL 1275 3053 \nL 1275 0 \nL 697 0 \nL 697 3053 \nL 147 3053 \nL 147 3500 \nL 697 3500 \nL 697 3744 \nQ 697 4328 969 4595 \nQ 1241 4863 1831 4863 \nL 2375 4863 \nz\n\" transform=\"scale(0.015625)\"/>\n       </defs>\n       <use xlink:href=\"#DejaVuSans-6b\"/>\n       <use xlink:href=\"#DejaVuSans-6f\" x=\"54.285156\"/>\n       <use xlink:href=\"#DejaVuSans-69\" x=\"115.466797\"/>\n       <use xlink:href=\"#DejaVuSans-5f\" x=\"143.25\"/>\n       <use xlink:href=\"#DejaVuSans-73\" x=\"193.25\"/>\n       <use xlink:href=\"#DejaVuSans-74\" x=\"245.349609\"/>\n       <use xlink:href=\"#DejaVuSans-65\" x=\"284.558594\"/>\n       <use xlink:href=\"#DejaVuSans-66\" x=\"346.082031\"/>\n       <use xlink:href=\"#DejaVuSans-66\" x=\"381.287109\"/>\n      </g>\n     </g>\n    </g>\n    <g id=\"ytick_6\">\n     <g id=\"line2d_8\">\n      <g>\n       <use xlink:href=\"#m2c7b6798dc\" x=\"68.404687\" y=\"72.617548\" style=\"stroke: #000000; stroke-width: 0.8\"/>\n      </g>\n     </g>\n     <g id=\"text_8\">\n      <!-- koi_time0bk -->\n      <g style=\"fill: #444443\" transform=\"translate(0.985937 76.416767) scale(0.1 -0.1)\">\n       <defs>\n        <path id=\"DejaVuSans-6d\" d=\"M 3328 2828 \nQ 3544 3216 3844 3400 \nQ 4144 3584 4550 3584 \nQ 5097 3584 5394 3201 \nQ 5691 2819 5691 2113 \nL 5691 0 \nL 5113 0 \nL 5113 2094 \nQ 5113 2597 4934 2840 \nQ 4756 3084 4391 3084 \nQ 3944 3084 3684 2787 \nQ 3425 2491 3425 1978 \nL 3425 0 \nL 2847 0 \nL 2847 2094 \nQ 2847 2600 2669 2842 \nQ 2491 3084 2119 3084 \nQ 1678 3084 1418 2786 \nQ 1159 2488 1159 1978 \nL 1159 0 \nL 581 0 \nL 581 3500 \nL 1159 3500 \nL 1159 2956 \nQ 1356 3278 1631 3431 \nQ 1906 3584 2284 3584 \nQ 2666 3584 2933 3390 \nQ 3200 3197 3328 2828 \nz\n\" transform=\"scale(0.015625)\"/>\n        <path id=\"DejaVuSans-62\" d=\"M 3116 1747 \nQ 3116 2381 2855 2742 \nQ 2594 3103 2138 3103 \nQ 1681 3103 1420 2742 \nQ 1159 2381 1159 1747 \nQ 1159 1113 1420 752 \nQ 1681 391 2138 391 \nQ 2594 391 2855 752 \nQ 3116 1113 3116 1747 \nz\nM 1159 2969 \nQ 1341 3281 1617 3432 \nQ 1894 3584 2278 3584 \nQ 2916 3584 3314 3078 \nQ 3713 2572 3713 1747 \nQ 3713 922 3314 415 \nQ 2916 -91 2278 -91 \nQ 1894 -91 1617 61 \nQ 1341 213 1159 525 \nL 1159 0 \nL 581 0 \nL 581 4863 \nL 1159 4863 \nL 1159 2969 \nz\n\" transform=\"scale(0.015625)\"/>\n       </defs>\n       <use xlink:href=\"#DejaVuSans-6b\"/>\n       <use xlink:href=\"#DejaVuSans-6f\" x=\"54.285156\"/>\n       <use xlink:href=\"#DejaVuSans-69\" x=\"115.466797\"/>\n       <use xlink:href=\"#DejaVuSans-5f\" x=\"143.25\"/>\n       <use xlink:href=\"#DejaVuSans-74\" x=\"193.25\"/>\n       <use xlink:href=\"#DejaVuSans-69\" x=\"232.458984\"/>\n       <use xlink:href=\"#DejaVuSans-6d\" x=\"260.242188\"/>\n       <use xlink:href=\"#DejaVuSans-65\" x=\"357.654297\"/>\n       <use xlink:href=\"#DejaVuSans-30\" x=\"419.177734\"/>\n       <use xlink:href=\"#DejaVuSans-62\" x=\"482.800781\"/>\n       <use xlink:href=\"#DejaVuSans-6b\" x=\"546.277344\"/>\n      </g>\n     </g>\n    </g>\n    <g id=\"ytick_7\">\n     <g id=\"line2d_9\">\n      <g>\n       <use xlink:href=\"#m2c7b6798dc\" x=\"68.404687\" y=\"85.712516\" style=\"stroke: #000000; stroke-width: 0.8\"/>\n      </g>\n     </g>\n     <g id=\"text_9\">\n      <!-- koi_depth -->\n      <g style=\"fill: #444443\" transform=\"translate(12.971875 89.511735) scale(0.1 -0.1)\">\n       <defs>\n        <path id=\"DejaVuSans-70\" d=\"M 1159 525 \nL 1159 -1331 \nL 581 -1331 \nL 581 3500 \nL 1159 3500 \nL 1159 2969 \nQ 1341 3281 1617 3432 \nQ 1894 3584 2278 3584 \nQ 2916 3584 3314 3078 \nQ 3713 2572 3713 1747 \nQ 3713 922 3314 415 \nQ 2916 -91 2278 -91 \nQ 1894 -91 1617 61 \nQ 1341 213 1159 525 \nz\nM 3116 1747 \nQ 3116 2381 2855 2742 \nQ 2594 3103 2138 3103 \nQ 1681 3103 1420 2742 \nQ 1159 2381 1159 1747 \nQ 1159 1113 1420 752 \nQ 1681 391 2138 391 \nQ 2594 391 2855 752 \nQ 3116 1113 3116 1747 \nz\n\" transform=\"scale(0.015625)\"/>\n        <path id=\"DejaVuSans-68\" d=\"M 3513 2113 \nL 3513 0 \nL 2938 0 \nL 2938 2094 \nQ 2938 2591 2744 2837 \nQ 2550 3084 2163 3084 \nQ 1697 3084 1428 2787 \nQ 1159 2491 1159 1978 \nL 1159 0 \nL 581 0 \nL 581 4863 \nL 1159 4863 \nL 1159 2956 \nQ 1366 3272 1645 3428 \nQ 1925 3584 2291 3584 \nQ 2894 3584 3203 3211 \nQ 3513 2838 3513 2113 \nz\n\" transform=\"scale(0.015625)\"/>\n       </defs>\n       <use xlink:href=\"#DejaVuSans-6b\"/>\n       <use xlink:href=\"#DejaVuSans-6f\" x=\"54.285156\"/>\n       <use xlink:href=\"#DejaVuSans-69\" x=\"115.466797\"/>\n       <use xlink:href=\"#DejaVuSans-5f\" x=\"143.25\"/>\n       <use xlink:href=\"#DejaVuSans-64\" x=\"193.25\"/>\n       <use xlink:href=\"#DejaVuSans-65\" x=\"256.726562\"/>\n       <use xlink:href=\"#DejaVuSans-70\" x=\"318.25\"/>\n       <use xlink:href=\"#DejaVuSans-74\" x=\"381.726562\"/>\n       <use xlink:href=\"#DejaVuSans-68\" x=\"420.935547\"/>\n      </g>\n     </g>\n    </g>\n    <g id=\"ytick_8\">\n     <g id=\"line2d_10\">\n      <g>\n       <use xlink:href=\"#m2c7b6798dc\" x=\"68.404687\" y=\"98.807484\" style=\"stroke: #000000; stroke-width: 0.8\"/>\n      </g>\n     </g>\n     <g id=\"text_10\">\n      <!-- koi_score -->\n      <g style=\"fill: #444443\" transform=\"translate(15.214062 102.606703) scale(0.1 -0.1)\">\n       <defs>\n        <path id=\"DejaVuSans-63\" d=\"M 3122 3366 \nL 3122 2828 \nQ 2878 2963 2633 3030 \nQ 2388 3097 2138 3097 \nQ 1578 3097 1268 2742 \nQ 959 2388 959 1747 \nQ 959 1106 1268 751 \nQ 1578 397 2138 397 \nQ 2388 397 2633 464 \nQ 2878 531 3122 666 \nL 3122 134 \nQ 2881 22 2623 -34 \nQ 2366 -91 2075 -91 \nQ 1284 -91 818 406 \nQ 353 903 353 1747 \nQ 353 2603 823 3093 \nQ 1294 3584 2113 3584 \nQ 2378 3584 2631 3529 \nQ 2884 3475 3122 3366 \nz\n\" transform=\"scale(0.015625)\"/>\n       </defs>\n       <use xlink:href=\"#DejaVuSans-6b\"/>\n       <use xlink:href=\"#DejaVuSans-6f\" x=\"54.285156\"/>\n       <use xlink:href=\"#DejaVuSans-69\" x=\"115.466797\"/>\n       <use xlink:href=\"#DejaVuSans-5f\" x=\"143.25\"/>\n       <use xlink:href=\"#DejaVuSans-73\" x=\"193.25\"/>\n       <use xlink:href=\"#DejaVuSans-63\" x=\"245.349609\"/>\n       <use xlink:href=\"#DejaVuSans-6f\" x=\"300.330078\"/>\n       <use xlink:href=\"#DejaVuSans-72\" x=\"361.511719\"/>\n       <use xlink:href=\"#DejaVuSans-65\" x=\"400.375\"/>\n      </g>\n     </g>\n    </g>\n    <g id=\"ytick_9\">\n     <g id=\"line2d_11\">\n      <g>\n       <use xlink:href=\"#m2c7b6798dc\" x=\"68.404687\" y=\"111.902452\" style=\"stroke: #000000; stroke-width: 0.8\"/>\n      </g>\n     </g>\n     <g id=\"text_11\">\n      <!-- koi_slogg -->\n      <g style=\"fill: #444443\" transform=\"translate(15.276562 115.70167) scale(0.1 -0.1)\">\n       <defs>\n        <path id=\"DejaVuSans-67\" d=\"M 2906 1791 \nQ 2906 2416 2648 2759 \nQ 2391 3103 1925 3103 \nQ 1463 3103 1205 2759 \nQ 947 2416 947 1791 \nQ 947 1169 1205 825 \nQ 1463 481 1925 481 \nQ 2391 481 2648 825 \nQ 2906 1169 2906 1791 \nz\nM 3481 434 \nQ 3481 -459 3084 -895 \nQ 2688 -1331 1869 -1331 \nQ 1566 -1331 1297 -1286 \nQ 1028 -1241 775 -1147 \nL 775 -588 \nQ 1028 -725 1275 -790 \nQ 1522 -856 1778 -856 \nQ 2344 -856 2625 -561 \nQ 2906 -266 2906 331 \nL 2906 616 \nQ 2728 306 2450 153 \nQ 2172 0 1784 0 \nQ 1141 0 747 490 \nQ 353 981 353 1791 \nQ 353 2603 747 3093 \nQ 1141 3584 1784 3584 \nQ 2172 3584 2450 3431 \nQ 2728 3278 2906 2969 \nL 2906 3500 \nL 3481 3500 \nL 3481 434 \nz\n\" transform=\"scale(0.015625)\"/>\n       </defs>\n       <use xlink:href=\"#DejaVuSans-6b\"/>\n       <use xlink:href=\"#DejaVuSans-6f\" x=\"54.285156\"/>\n       <use xlink:href=\"#DejaVuSans-69\" x=\"115.466797\"/>\n       <use xlink:href=\"#DejaVuSans-5f\" x=\"143.25\"/>\n       <use xlink:href=\"#DejaVuSans-73\" x=\"193.25\"/>\n       <use xlink:href=\"#DejaVuSans-6c\" x=\"245.349609\"/>\n       <use xlink:href=\"#DejaVuSans-6f\" x=\"273.132812\"/>\n       <use xlink:href=\"#DejaVuSans-67\" x=\"334.314453\"/>\n       <use xlink:href=\"#DejaVuSans-67\" x=\"397.791016\"/>\n      </g>\n     </g>\n    </g>\n    <g id=\"ytick_10\">\n     <g id=\"line2d_12\">\n      <g>\n       <use xlink:href=\"#m2c7b6798dc\" x=\"68.404687\" y=\"124.997419\" style=\"stroke: #000000; stroke-width: 0.8\"/>\n      </g>\n     </g>\n     <g id=\"text_12\">\n      <!-- koi_impact -->\n      <g style=\"fill: #444443\" transform=\"translate(7.665625 128.796638) scale(0.1 -0.1)\">\n       <use xlink:href=\"#DejaVuSans-6b\"/>\n       <use xlink:href=\"#DejaVuSans-6f\" x=\"54.285156\"/>\n       <use xlink:href=\"#DejaVuSans-69\" x=\"115.466797\"/>\n       <use xlink:href=\"#DejaVuSans-5f\" x=\"143.25\"/>\n       <use xlink:href=\"#DejaVuSans-69\" x=\"193.25\"/>\n       <use xlink:href=\"#DejaVuSans-6d\" x=\"221.033203\"/>\n       <use xlink:href=\"#DejaVuSans-70\" x=\"318.445312\"/>\n       <use xlink:href=\"#DejaVuSans-61\" x=\"381.921875\"/>\n       <use xlink:href=\"#DejaVuSans-63\" x=\"443.201172\"/>\n       <use xlink:href=\"#DejaVuSans-74\" x=\"498.181641\"/>\n      </g>\n     </g>\n    </g>\n    <g id=\"ytick_11\">\n     <g id=\"line2d_13\">\n      <g>\n       <use xlink:href=\"#m2c7b6798dc\" x=\"68.404687\" y=\"138.092387\" style=\"stroke: #000000; stroke-width: 0.8\"/>\n      </g>\n     </g>\n     <g id=\"text_13\">\n      <!-- koi_prad -->\n      <g style=\"fill: #444443\" transform=\"translate(19.14375 141.891606) scale(0.1 -0.1)\">\n       <use xlink:href=\"#DejaVuSans-6b\"/>\n       <use xlink:href=\"#DejaVuSans-6f\" x=\"54.285156\"/>\n       <use xlink:href=\"#DejaVuSans-69\" x=\"115.466797\"/>\n       <use xlink:href=\"#DejaVuSans-5f\" x=\"143.25\"/>\n       <use xlink:href=\"#DejaVuSans-70\" x=\"193.25\"/>\n       <use xlink:href=\"#DejaVuSans-72\" x=\"256.726562\"/>\n       <use xlink:href=\"#DejaVuSans-61\" x=\"297.839844\"/>\n       <use xlink:href=\"#DejaVuSans-64\" x=\"359.119141\"/>\n      </g>\n     </g>\n    </g>\n    <g id=\"ytick_12\">\n     <g id=\"line2d_14\">\n      <g>\n       <use xlink:href=\"#m2c7b6798dc\" x=\"68.404687\" y=\"151.187355\" style=\"stroke: #000000; stroke-width: 0.8\"/>\n      </g>\n     </g>\n     <g id=\"text_14\">\n      <!-- dec -->\n      <g style=\"fill: #444443\" transform=\"translate(43.404687 154.986574) scale(0.1 -0.1)\">\n       <use xlink:href=\"#DejaVuSans-64\"/>\n       <use xlink:href=\"#DejaVuSans-65\" x=\"63.476562\"/>\n       <use xlink:href=\"#DejaVuSans-63\" x=\"125\"/>\n      </g>\n     </g>\n    </g>\n    <g id=\"ytick_13\">\n     <g id=\"line2d_15\">\n      <g>\n       <use xlink:href=\"#m2c7b6798dc\" x=\"68.404687\" y=\"164.282323\" style=\"stroke: #000000; stroke-width: 0.8\"/>\n      </g>\n     </g>\n     <g id=\"text_15\">\n      <!-- koi_kepmag -->\n      <g style=\"fill: #444443\" transform=\"translate(1.932812 168.081541) scale(0.1 -0.1)\">\n       <use xlink:href=\"#DejaVuSans-6b\"/>\n       <use xlink:href=\"#DejaVuSans-6f\" x=\"54.285156\"/>\n       <use xlink:href=\"#DejaVuSans-69\" x=\"115.466797\"/>\n       <use xlink:href=\"#DejaVuSans-5f\" x=\"143.25\"/>\n       <use xlink:href=\"#DejaVuSans-6b\" x=\"193.25\"/>\n       <use xlink:href=\"#DejaVuSans-65\" x=\"247.535156\"/>\n       <use xlink:href=\"#DejaVuSans-70\" x=\"309.058594\"/>\n       <use xlink:href=\"#DejaVuSans-6d\" x=\"372.535156\"/>\n       <use xlink:href=\"#DejaVuSans-61\" x=\"469.947266\"/>\n       <use xlink:href=\"#DejaVuSans-67\" x=\"531.226562\"/>\n      </g>\n     </g>\n    </g>\n    <g id=\"ytick_14\">\n     <g id=\"line2d_16\">\n      <g>\n       <use xlink:href=\"#m2c7b6798dc\" x=\"68.404687\" y=\"177.37729\" style=\"stroke: #000000; stroke-width: 0.8\"/>\n      </g>\n     </g>\n     <g id=\"text_16\">\n      <!-- ra -->\n      <g style=\"fill: #444443\" transform=\"translate(51.165625 181.176509) scale(0.1 -0.1)\">\n       <use xlink:href=\"#DejaVuSans-72\"/>\n       <use xlink:href=\"#DejaVuSans-61\" x=\"41.113281\"/>\n      </g>\n     </g>\n    </g>\n   </g>\n   <g id=\"patch_17\">\n    <path d=\"M 68.404687 184.52 \nL 68.404687 0 \n\" style=\"fill: none; stroke: #000000; stroke-width: 0.3; stroke-linejoin: miter; stroke-linecap: square\"/>\n   </g>\n   <g id=\"patch_18\">\n    <path d=\"M 255.084687 184.52 \nL 255.084687 0 \n\" style=\"fill: none; stroke: #000000; stroke-width: 0.3; stroke-linejoin: miter; stroke-linecap: square\"/>\n   </g>\n   <g id=\"patch_19\">\n    <path d=\"M 68.404687 184.52 \nL 255.084687 184.52 \n\" style=\"fill: none; stroke: #000000; stroke-width: 0.3; stroke-linejoin: miter; stroke-linecap: square\"/>\n   </g>\n   <g id=\"patch_20\">\n    <path d=\"M 68.404687 0 \nL 255.084687 0 \n\" style=\"fill: none; stroke: #000000; stroke-width: 0.3; stroke-linejoin: miter; stroke-linecap: square\"/>\n   </g>\n  </g>\n </g>\n <defs>\n  <clipPath id=\"p5a0ca09464\">\n   <rect x=\"68.404687\" y=\"0\" width=\"186.68\" height=\"184.52\"/>\n  </clipPath>\n </defs>\n</svg>\n"
          },
          "metadata": {},
          "execution_count": 86
        }
      ]
    },
    {
      "cell_type": "code",
      "source": [
        "model.predict(X_test)"
      ],
      "metadata": {
        "colab": {
          "base_uri": "https://localhost:8080/"
        },
        "id": "3LXcJ0JevrCl",
        "outputId": "18fbb9cf-3389-46ef-edb6-95406b9d757c"
      },
      "execution_count": 87,
      "outputs": [
        {
          "output_type": "execute_result",
          "data": {
            "text/plain": [
              "array([  2.51370926,   0.97566225,   8.25035804,  10.75336273,\n",
              "         5.51892836,   4.31446176,  13.73497565,   7.28556756,\n",
              "         5.66750639,   6.97093543,   1.96603205,   4.03876771,\n",
              "         6.40370385,  20.94581761,  23.37207087,  12.49508367,\n",
              "        32.69331435,   3.17281095,   8.91739357,  14.71732816,\n",
              "        20.83079391,  10.41008434,  16.54670391,  31.85868645,\n",
              "         5.95279688,   6.739295  ,  23.36535425,   5.84577245,\n",
              "         4.25923695,   2.63380152,  10.23310356,  49.71090002,\n",
              "         3.0260479 ,  13.54909528,  19.65181809,   3.3809986 ,\n",
              "         8.20087001,  28.76227355,   3.6916251 ,  12.69439312,\n",
              "       228.74754556,  18.24790331,  11.72869379,   3.96605349,\n",
              "        11.90676972,  26.88674213,   4.45896522,   0.64265467,\n",
              "       118.62399679,  70.27949368,   4.33352472,  94.40119168,\n",
              "         1.10770225,   6.01687174,  26.58460801,   7.49253857,\n",
              "         4.5832807 ,  36.68497865,   4.65301787,   4.78268586,\n",
              "        10.67986727,  10.77450774,  37.64692846,  37.79531695,\n",
              "        24.8807665 ,   9.72952461,   1.35448293,   9.00267152,\n",
              "         3.60588006,   3.76554254,   6.52173883,   2.92921585,\n",
              "        13.14297256,  31.38399961,   0.99233972,   7.64697296,\n",
              "        21.34594068,  46.34139452,  64.41620922,  16.22585287,\n",
              "         6.23677156,   6.94690153,  17.09347234,   0.86231845,\n",
              "        14.37051914,  20.3149576 ,   4.38835169,  11.71636335,\n",
              "        32.09662622,  97.99435101,   2.92967588,  25.42563896,\n",
              "         6.33216293,  20.42863709,  14.59871072,   3.70365279,\n",
              "         2.89509749,   0.9632426 ,  13.65446244,  12.18780846,\n",
              "         1.28854544,   6.97160174,  26.57707617,   4.96984208,\n",
              "         2.79914932,  22.89092246,  53.70312066,   3.9938018 ,\n",
              "        39.90502976,  43.23734711,  11.72220762,   7.05970186,\n",
              "        58.32330124,   1.94973034,   4.3104298 ,  20.78110933,\n",
              "         5.00288598,  92.43536634,  11.44999338,   7.23288145,\n",
              "         9.69981156,  13.1273385 ,   1.95269939,   3.67405337,\n",
              "         9.78679347,  92.83360672,   3.1385728 ,  39.39714131,\n",
              "        39.70656782,  19.16696109,   8.59902686,   3.93428846,\n",
              "        12.24617319,   6.36619911,  27.48163195, 107.19587229,\n",
              "        20.41140779,  27.34418259,  24.76013556,   5.03523539,\n",
              "        12.41840422,  67.55590461,  10.99724859,  16.27323143,\n",
              "         6.19284504,   3.4918055 ,  51.54362609,   8.20568656,\n",
              "        27.69188441, 248.15610176,   3.74614905,   2.77066875,\n",
              "         1.85393092,   9.23920216,   7.11172743,  16.53063453,\n",
              "        27.4539803 ,  48.22739851,   4.68935174,   8.45651321,\n",
              "         4.52919678,   7.28787021,   5.30139903, 114.10341856,\n",
              "        16.05522657,   2.47652944,   2.82078588,  18.64253928,\n",
              "        15.76600332,   9.77566369,   8.3845784 ,  16.61251482,\n",
              "        26.89106626,  41.21948084,   7.8207259 ,   3.13877156,\n",
              "        41.66233236,  35.19250758,   8.3513369 ,  10.61094355,\n",
              "         2.47414426,   4.22284339,   5.74035389,  41.04166025,\n",
              "        12.3949078 ,   1.95868245,  18.25565771,   2.29221678,\n",
              "         2.49256406,   3.55591748,  10.76554131,  10.63344887,\n",
              "        13.06082099,  13.88117928,   7.20068707,  27.8783477 ,\n",
              "        21.21532446,  23.1623922 ,   1.21447354,  12.80054463,\n",
              "         7.27580404,  78.93559004,  20.91398539,  13.9679533 ,\n",
              "         0.99454433, 139.60373562, 181.94341401,   3.08764301,\n",
              "        26.65594481,  20.14946372,  12.55512309,  16.85136172,\n",
              "         7.02290494,  40.21180999,   8.12213602,  16.57311816,\n",
              "        84.86545973,  10.45710006,  28.43552601,  41.07108757,\n",
              "        18.89435056,  10.51806416,  56.87868349, 194.88074167,\n",
              "        62.76041411,  28.9644688 ,   7.83972586,   5.34266413,\n",
              "        32.60282269,  13.64315721, 293.18011116,  16.04634059,\n",
              "         0.71481078,   3.28611685,   4.77314976,   1.37809923,\n",
              "        21.3507883 ,   1.89397537,  11.93832532,  10.76187714,\n",
              "        10.68023394,   4.49060116,   2.02910945,   9.56900747,\n",
              "        16.13195178,   7.84475073,  16.41623673,  17.03779103,\n",
              "         9.35189972,  10.30253356,   7.37480724,   8.76897019,\n",
              "         2.68068643,   1.3779504 ,   2.62544511,   1.21908187,\n",
              "        54.35059571,  97.73236825,  71.69538724,   4.4958759 ,\n",
              "         5.63193335,   6.07468533,   3.69514841,  38.79693503,\n",
              "         5.35928008,  14.25131303, 179.17312521,  10.12238006,\n",
              "         9.17365611,   7.82525292,   4.43221805,  82.89852157,\n",
              "        15.91055438,  13.43681727,   6.25448657,   8.71959221,\n",
              "         3.35613002,  42.99585599,  20.1594659 , 213.64944795,\n",
              "         1.9218661 ,   2.03328967,   2.04476113,  40.31366751,\n",
              "         9.9001296 ,  10.71101827,  38.69274274,   4.21910217,\n",
              "        21.01788454,  11.17566956,   1.91011445,   3.27743442,\n",
              "        11.52781336,   2.50574328,   6.18182044,  16.68555122,\n",
              "         0.7045492 ,   5.73764006,  71.05241568,   4.96309781,\n",
              "        10.38809051,  75.09325708,  19.47506823,  39.14707758,\n",
              "         5.33844136,   8.94130854,  10.05591021,   3.44059499,\n",
              "         3.96077407,   2.81144756,  11.57203111,   2.8366298 ,\n",
              "        12.95061294,   1.24580115,   9.78996116,   0.70589985,\n",
              "         2.82358864,  11.65500265,  16.17963162,  68.97585053,\n",
              "        11.00489544,   4.74616537,  23.12129257, 290.50825592,\n",
              "         4.81677403,   7.38405555,  28.21629162,  98.28489756,\n",
              "        18.18112199,   4.1492262 ,  14.6907641 ,   8.73609624,\n",
              "        38.89012477,  27.56467661,  26.0155761 ,  22.34507839,\n",
              "         9.05562118,  15.61729729,   2.17112726,  20.86364809,\n",
              "         3.98173807,  27.58038878,  37.02125034,   2.22803985,\n",
              "        24.55297513,   2.9514281 ,   3.50829709,  12.39624957,\n",
              "       183.45883132,   7.63652954,  26.38035658,  11.03404922,\n",
              "        22.54938241,   3.51042356,   0.83070773, 174.40742858,\n",
              "        16.18511618,  12.51361503,  41.35806251,  48.80659086,\n",
              "        49.10702125, 100.73359954,   0.94627286,  24.27313083,\n",
              "        59.59409459,   5.13826818,   3.32498568,  11.29791291,\n",
              "        26.83060644,  14.57248618,   3.94543947,  33.60173254,\n",
              "        16.60000542,   3.64917827,  16.33841955,  61.33928311,\n",
              "       284.67620126,  37.77849373,  16.90741915,  11.50459309,\n",
              "       152.53451769,   2.32059193,  14.70781252, 117.38406037,\n",
              "        16.22773378, 133.25220766,  28.05764287,   3.43267424,\n",
              "        11.65387714,   4.61741863,   4.59219028,  17.52389737,\n",
              "        10.29881073,   6.94744706,   9.89277709,   2.24784024,\n",
              "       361.53315509,   4.26491581,  29.49242843,  26.49861553,\n",
              "        25.62625747,  29.13399259,   7.4529771 ,  33.54239492,\n",
              "        12.67513154,  10.85740465,   5.41896425,   3.37990834,\n",
              "        19.70685536,  21.84588514,  82.23253332,   5.17104109,\n",
              "        17.07924062,  89.93233117,   5.32820445,   1.18541686,\n",
              "        10.15692972,   7.8013362 ,   3.74488404,   6.15199444,\n",
              "        43.05344546,   8.08644319,   2.76879038,   5.95321101,\n",
              "        33.46979628,  24.17991815,  34.82480596,  13.97802047,\n",
              "        11.97110848,   3.11242207,  21.88734615,  16.20868442,\n",
              "        75.2128915 ,   6.62034263,   6.29972484,   9.43295099,\n",
              "         1.43893227, 237.03724222,  11.34841944, 211.8437494 ,\n",
              "        20.23505607,   6.83569286,  44.69431715,   6.98990979,\n",
              "        75.30685286,  12.70271331,   8.94328446,  14.67609926,\n",
              "        12.78388437,   1.2139636 ,   7.2241709 ,  89.618709  ,\n",
              "        21.0422865 ,  22.50673078,   8.85818991,   6.73540655,\n",
              "        13.36845887,  28.77371915,   3.21683412,  57.94821927,\n",
              "        37.28807255,  32.04122962,  13.52911889,  38.38766429,\n",
              "       120.6001658 ,   3.16531603,  18.49333118,   7.27921479,\n",
              "         7.02875813,   6.6914802 , 124.0353063 ,  58.73838419,\n",
              "         4.07067512,  11.19831085,  20.58398673,  38.92596322,\n",
              "         8.25988903,   9.12461902,   2.996176  ,   6.02576323,\n",
              "        20.30322343,   4.76239071,   1.33602977,   3.37128649,\n",
              "       197.92648889,  13.78416087,   8.10193925,   5.7439273 ,\n",
              "         7.93954911,  44.4664394 ,   7.61560604,  49.35996561,\n",
              "        18.26363284,   6.19949778,  24.21096434,  13.23508589,\n",
              "        21.1597414 ,  21.7948662 ,   2.65087406,   1.7417786 ,\n",
              "        44.52133963,   9.56108353,  15.41891793,   6.31604084,\n",
              "         8.03514673,   2.14110154,   5.98808426,  46.84454385,\n",
              "        14.74833217,   6.57138593,  13.84901918,   2.47531213,\n",
              "         3.3478489 ,   5.83318181,  30.82834429,   8.1430768 ,\n",
              "         4.33762116,  31.95835815,  24.86256616,  51.76162599,\n",
              "        14.4497416 ,   4.66865705,  23.61037617,   3.04200228,\n",
              "         7.95591233,  64.575494  ,   6.20109413,  16.76592736,\n",
              "         5.00025223,   6.9299606 ,   2.39240673,   6.15688798,\n",
              "         6.90968631,   3.53791166,   8.44157361,   7.79854957,\n",
              "        93.43726259,   7.53667167,  35.53163332,   3.27694265,\n",
              "       291.30840977,  19.38908032,  12.17638198,  83.94364007,\n",
              "        16.8584828 ,  34.60578135])"
            ]
          },
          "metadata": {},
          "execution_count": 87
        }
      ]
    },
    {
      "cell_type": "code",
      "source": [
        "model.score(X_train,y_train)"
      ],
      "metadata": {
        "colab": {
          "base_uri": "https://localhost:8080/"
        },
        "id": "7dbo4r1Iv4rn",
        "outputId": "322d3294-3f34-48b4-fad8-be050c82a5f3"
      },
      "execution_count": 88,
      "outputs": [
        {
          "output_type": "execute_result",
          "data": {
            "text/plain": [
              "0.9758491988998392"
            ]
          },
          "metadata": {},
          "execution_count": 88
        }
      ]
    },
    {
      "cell_type": "code",
      "source": [
        "model.score(X_test,y_test)"
      ],
      "metadata": {
        "colab": {
          "base_uri": "https://localhost:8080/"
        },
        "id": "NBMyZtaSv7pD",
        "outputId": "37463ccc-5bc4-47ca-bc6e-b0ab936f7441"
      },
      "execution_count": 89,
      "outputs": [
        {
          "output_type": "execute_result",
          "data": {
            "text/plain": [
              "0.9382521573365479"
            ]
          },
          "metadata": {},
          "execution_count": 89
        }
      ]
    },
    {
      "cell_type": "markdown",
      "source": [
        "### K-Cross Validation"
      ],
      "metadata": {
        "id": "IFXSdFSUsv-Q"
      }
    },
    {
      "cell_type": "code",
      "source": [
        "from sklearn.model_selection import cross_val_score\n",
        "\n",
        "kcross_validation = cross_val_score(model, features, target, cv=5, scoring='r2')\n",
        "mean_cv_score_r2 = kcross_validation.mean()\n",
        "print(\"Mean Cross-Validated R-squared:\",mean_cv_score_r2)"
      ],
      "metadata": {
        "colab": {
          "base_uri": "https://localhost:8080/"
        },
        "id": "Vm7OebHptRov",
        "outputId": "4af042d3-3faa-4d0f-82bd-9aea08da56c9"
      },
      "execution_count": 90,
      "outputs": [
        {
          "output_type": "stream",
          "name": "stderr",
          "text": [
            "/usr/local/lib/python3.10/dist-packages/sklearn/base.py:1152: DataConversionWarning: A column-vector y was passed when a 1d array was expected. Please change the shape of y to (n_samples,), for example using ravel().\n",
            "  return fit_method(estimator, *args, **kwargs)\n",
            "/usr/local/lib/python3.10/dist-packages/sklearn/base.py:1152: DataConversionWarning: A column-vector y was passed when a 1d array was expected. Please change the shape of y to (n_samples,), for example using ravel().\n",
            "  return fit_method(estimator, *args, **kwargs)\n",
            "/usr/local/lib/python3.10/dist-packages/sklearn/base.py:1152: DataConversionWarning: A column-vector y was passed when a 1d array was expected. Please change the shape of y to (n_samples,), for example using ravel().\n",
            "  return fit_method(estimator, *args, **kwargs)\n",
            "/usr/local/lib/python3.10/dist-packages/sklearn/base.py:1152: DataConversionWarning: A column-vector y was passed when a 1d array was expected. Please change the shape of y to (n_samples,), for example using ravel().\n",
            "  return fit_method(estimator, *args, **kwargs)\n",
            "/usr/local/lib/python3.10/dist-packages/sklearn/base.py:1152: DataConversionWarning: A column-vector y was passed when a 1d array was expected. Please change the shape of y to (n_samples,), for example using ravel().\n",
            "  return fit_method(estimator, *args, **kwargs)\n"
          ]
        },
        {
          "output_type": "stream",
          "name": "stdout",
          "text": [
            "Mean Cross-Validated R-squared: 0.8727643551674493\n"
          ]
        }
      ]
    },
    {
      "cell_type": "markdown",
      "source": [
        "### Creating a Final Model"
      ],
      "metadata": {
        "id": "oDqLDF4PsRUq"
      }
    },
    {
      "cell_type": "code",
      "source": [
        "imp_df = pd.DataFrame(imp)"
      ],
      "metadata": {
        "id": "iGlSOM2Wqmcz"
      },
      "execution_count": 91,
      "outputs": []
    },
    {
      "cell_type": "code",
      "source": [
        "imp_df[imp_df[\"Importance\"]>=0.1]"
      ],
      "metadata": {
        "colab": {
          "base_uri": "https://localhost:8080/",
          "height": 206
        },
        "id": "Y8stJH9tq41I",
        "outputId": "71ed6255-0787-40b9-b67f-b0a9bdba4baa"
      },
      "execution_count": 92,
      "outputs": [
        {
          "output_type": "execute_result",
          "data": {
            "text/plain": [
              "              Importance\n",
              "Feature                 \n",
              "koi_insol       0.831763\n",
              "koi_teq         0.177900\n",
              "koi_duration    0.158469\n",
              "koi_srad        0.112693"
            ],
            "text/html": [
              "\n",
              "  <div id=\"df-bfcd53b5-9e87-48c6-b5ca-51ee5515f84a\" class=\"colab-df-container\">\n",
              "    <div>\n",
              "<style scoped>\n",
              "    .dataframe tbody tr th:only-of-type {\n",
              "        vertical-align: middle;\n",
              "    }\n",
              "\n",
              "    .dataframe tbody tr th {\n",
              "        vertical-align: top;\n",
              "    }\n",
              "\n",
              "    .dataframe thead th {\n",
              "        text-align: right;\n",
              "    }\n",
              "</style>\n",
              "<table border=\"1\" class=\"dataframe\">\n",
              "  <thead>\n",
              "    <tr style=\"text-align: right;\">\n",
              "      <th></th>\n",
              "      <th>Importance</th>\n",
              "    </tr>\n",
              "    <tr>\n",
              "      <th>Feature</th>\n",
              "      <th></th>\n",
              "    </tr>\n",
              "  </thead>\n",
              "  <tbody>\n",
              "    <tr>\n",
              "      <th>koi_insol</th>\n",
              "      <td>0.831763</td>\n",
              "    </tr>\n",
              "    <tr>\n",
              "      <th>koi_teq</th>\n",
              "      <td>0.177900</td>\n",
              "    </tr>\n",
              "    <tr>\n",
              "      <th>koi_duration</th>\n",
              "      <td>0.158469</td>\n",
              "    </tr>\n",
              "    <tr>\n",
              "      <th>koi_srad</th>\n",
              "      <td>0.112693</td>\n",
              "    </tr>\n",
              "  </tbody>\n",
              "</table>\n",
              "</div>\n",
              "    <div class=\"colab-df-buttons\">\n",
              "\n",
              "  <div class=\"colab-df-container\">\n",
              "    <button class=\"colab-df-convert\" onclick=\"convertToInteractive('df-bfcd53b5-9e87-48c6-b5ca-51ee5515f84a')\"\n",
              "            title=\"Convert this dataframe to an interactive table.\"\n",
              "            style=\"display:none;\">\n",
              "\n",
              "  <svg xmlns=\"http://www.w3.org/2000/svg\" height=\"24px\" viewBox=\"0 -960 960 960\">\n",
              "    <path d=\"M120-120v-720h720v720H120Zm60-500h600v-160H180v160Zm220 220h160v-160H400v160Zm0 220h160v-160H400v160ZM180-400h160v-160H180v160Zm440 0h160v-160H620v160ZM180-180h160v-160H180v160Zm440 0h160v-160H620v160Z\"/>\n",
              "  </svg>\n",
              "    </button>\n",
              "\n",
              "  <style>\n",
              "    .colab-df-container {\n",
              "      display:flex;\n",
              "      gap: 12px;\n",
              "    }\n",
              "\n",
              "    .colab-df-convert {\n",
              "      background-color: #E8F0FE;\n",
              "      border: none;\n",
              "      border-radius: 50%;\n",
              "      cursor: pointer;\n",
              "      display: none;\n",
              "      fill: #1967D2;\n",
              "      height: 32px;\n",
              "      padding: 0 0 0 0;\n",
              "      width: 32px;\n",
              "    }\n",
              "\n",
              "    .colab-df-convert:hover {\n",
              "      background-color: #E2EBFA;\n",
              "      box-shadow: 0px 1px 2px rgba(60, 64, 67, 0.3), 0px 1px 3px 1px rgba(60, 64, 67, 0.15);\n",
              "      fill: #174EA6;\n",
              "    }\n",
              "\n",
              "    .colab-df-buttons div {\n",
              "      margin-bottom: 4px;\n",
              "    }\n",
              "\n",
              "    [theme=dark] .colab-df-convert {\n",
              "      background-color: #3B4455;\n",
              "      fill: #D2E3FC;\n",
              "    }\n",
              "\n",
              "    [theme=dark] .colab-df-convert:hover {\n",
              "      background-color: #434B5C;\n",
              "      box-shadow: 0px 1px 3px 1px rgba(0, 0, 0, 0.15);\n",
              "      filter: drop-shadow(0px 1px 2px rgba(0, 0, 0, 0.3));\n",
              "      fill: #FFFFFF;\n",
              "    }\n",
              "  </style>\n",
              "\n",
              "    <script>\n",
              "      const buttonEl =\n",
              "        document.querySelector('#df-bfcd53b5-9e87-48c6-b5ca-51ee5515f84a button.colab-df-convert');\n",
              "      buttonEl.style.display =\n",
              "        google.colab.kernel.accessAllowed ? 'block' : 'none';\n",
              "\n",
              "      async function convertToInteractive(key) {\n",
              "        const element = document.querySelector('#df-bfcd53b5-9e87-48c6-b5ca-51ee5515f84a');\n",
              "        const dataTable =\n",
              "          await google.colab.kernel.invokeFunction('convertToInteractive',\n",
              "                                                    [key], {});\n",
              "        if (!dataTable) return;\n",
              "\n",
              "        const docLinkHtml = 'Like what you see? Visit the ' +\n",
              "          '<a target=\"_blank\" href=https://colab.research.google.com/notebooks/data_table.ipynb>data table notebook</a>'\n",
              "          + ' to learn more about interactive tables.';\n",
              "        element.innerHTML = '';\n",
              "        dataTable['output_type'] = 'display_data';\n",
              "        await google.colab.output.renderOutput(dataTable, element);\n",
              "        const docLink = document.createElement('div');\n",
              "        docLink.innerHTML = docLinkHtml;\n",
              "        element.appendChild(docLink);\n",
              "      }\n",
              "    </script>\n",
              "  </div>\n",
              "\n",
              "\n",
              "<div id=\"df-fb0bb722-f867-44b8-9bfa-7826a5b882ba\">\n",
              "  <button class=\"colab-df-quickchart\" onclick=\"quickchart('df-fb0bb722-f867-44b8-9bfa-7826a5b882ba')\"\n",
              "            title=\"Suggest charts\"\n",
              "            style=\"display:none;\">\n",
              "\n",
              "<svg xmlns=\"http://www.w3.org/2000/svg\" height=\"24px\"viewBox=\"0 0 24 24\"\n",
              "     width=\"24px\">\n",
              "    <g>\n",
              "        <path d=\"M19 3H5c-1.1 0-2 .9-2 2v14c0 1.1.9 2 2 2h14c1.1 0 2-.9 2-2V5c0-1.1-.9-2-2-2zM9 17H7v-7h2v7zm4 0h-2V7h2v10zm4 0h-2v-4h2v4z\"/>\n",
              "    </g>\n",
              "</svg>\n",
              "  </button>\n",
              "\n",
              "<style>\n",
              "  .colab-df-quickchart {\n",
              "      --bg-color: #E8F0FE;\n",
              "      --fill-color: #1967D2;\n",
              "      --hover-bg-color: #E2EBFA;\n",
              "      --hover-fill-color: #174EA6;\n",
              "      --disabled-fill-color: #AAA;\n",
              "      --disabled-bg-color: #DDD;\n",
              "  }\n",
              "\n",
              "  [theme=dark] .colab-df-quickchart {\n",
              "      --bg-color: #3B4455;\n",
              "      --fill-color: #D2E3FC;\n",
              "      --hover-bg-color: #434B5C;\n",
              "      --hover-fill-color: #FFFFFF;\n",
              "      --disabled-bg-color: #3B4455;\n",
              "      --disabled-fill-color: #666;\n",
              "  }\n",
              "\n",
              "  .colab-df-quickchart {\n",
              "    background-color: var(--bg-color);\n",
              "    border: none;\n",
              "    border-radius: 50%;\n",
              "    cursor: pointer;\n",
              "    display: none;\n",
              "    fill: var(--fill-color);\n",
              "    height: 32px;\n",
              "    padding: 0;\n",
              "    width: 32px;\n",
              "  }\n",
              "\n",
              "  .colab-df-quickchart:hover {\n",
              "    background-color: var(--hover-bg-color);\n",
              "    box-shadow: 0 1px 2px rgba(60, 64, 67, 0.3), 0 1px 3px 1px rgba(60, 64, 67, 0.15);\n",
              "    fill: var(--button-hover-fill-color);\n",
              "  }\n",
              "\n",
              "  .colab-df-quickchart-complete:disabled,\n",
              "  .colab-df-quickchart-complete:disabled:hover {\n",
              "    background-color: var(--disabled-bg-color);\n",
              "    fill: var(--disabled-fill-color);\n",
              "    box-shadow: none;\n",
              "  }\n",
              "\n",
              "  .colab-df-spinner {\n",
              "    border: 2px solid var(--fill-color);\n",
              "    border-color: transparent;\n",
              "    border-bottom-color: var(--fill-color);\n",
              "    animation:\n",
              "      spin 1s steps(1) infinite;\n",
              "  }\n",
              "\n",
              "  @keyframes spin {\n",
              "    0% {\n",
              "      border-color: transparent;\n",
              "      border-bottom-color: var(--fill-color);\n",
              "      border-left-color: var(--fill-color);\n",
              "    }\n",
              "    20% {\n",
              "      border-color: transparent;\n",
              "      border-left-color: var(--fill-color);\n",
              "      border-top-color: var(--fill-color);\n",
              "    }\n",
              "    30% {\n",
              "      border-color: transparent;\n",
              "      border-left-color: var(--fill-color);\n",
              "      border-top-color: var(--fill-color);\n",
              "      border-right-color: var(--fill-color);\n",
              "    }\n",
              "    40% {\n",
              "      border-color: transparent;\n",
              "      border-right-color: var(--fill-color);\n",
              "      border-top-color: var(--fill-color);\n",
              "    }\n",
              "    60% {\n",
              "      border-color: transparent;\n",
              "      border-right-color: var(--fill-color);\n",
              "    }\n",
              "    80% {\n",
              "      border-color: transparent;\n",
              "      border-right-color: var(--fill-color);\n",
              "      border-bottom-color: var(--fill-color);\n",
              "    }\n",
              "    90% {\n",
              "      border-color: transparent;\n",
              "      border-bottom-color: var(--fill-color);\n",
              "    }\n",
              "  }\n",
              "</style>\n",
              "\n",
              "  <script>\n",
              "    async function quickchart(key) {\n",
              "      const quickchartButtonEl =\n",
              "        document.querySelector('#' + key + ' button');\n",
              "      quickchartButtonEl.disabled = true;  // To prevent multiple clicks.\n",
              "      quickchartButtonEl.classList.add('colab-df-spinner');\n",
              "      try {\n",
              "        const charts = await google.colab.kernel.invokeFunction(\n",
              "            'suggestCharts', [key], {});\n",
              "      } catch (error) {\n",
              "        console.error('Error during call to suggestCharts:', error);\n",
              "      }\n",
              "      quickchartButtonEl.classList.remove('colab-df-spinner');\n",
              "      quickchartButtonEl.classList.add('colab-df-quickchart-complete');\n",
              "    }\n",
              "    (() => {\n",
              "      let quickchartButtonEl =\n",
              "        document.querySelector('#df-fb0bb722-f867-44b8-9bfa-7826a5b882ba button');\n",
              "      quickchartButtonEl.style.display =\n",
              "        google.colab.kernel.accessAllowed ? 'block' : 'none';\n",
              "    })();\n",
              "  </script>\n",
              "</div>\n",
              "\n",
              "    </div>\n",
              "  </div>\n"
            ],
            "application/vnd.google.colaboratory.intrinsic+json": {
              "type": "dataframe",
              "summary": "{\n  \"name\": \"imp_df[imp_df[\\\"Importance\\\"]>=0\",\n  \"rows\": 4,\n  \"fields\": [\n    {\n      \"column\": \"Feature\",\n      \"properties\": {\n        \"dtype\": \"string\",\n        \"num_unique_values\": 4,\n        \"samples\": [\n          \"koi_teq\",\n          \"koi_srad\",\n          \"koi_insol\"\n        ],\n        \"semantic_type\": \"\",\n        \"description\": \"\"\n      }\n    },\n    {\n      \"column\": \"Importance\",\n      \"properties\": {\n        \"dtype\": \"number\",\n        \"std\": 0.34213130486104726,\n        \"min\": 0.112693059113951,\n        \"max\": 0.8317626469070953,\n        \"num_unique_values\": 4,\n        \"samples\": [\n          0.17790028368181543,\n          0.112693059113951,\n          0.8317626469070953\n        ],\n        \"semantic_type\": \"\",\n        \"description\": \"\"\n      }\n    }\n  ]\n}"
            }
          },
          "metadata": {},
          "execution_count": 92
        }
      ]
    },
    {
      "cell_type": "code",
      "source": [
        "features = data[[\"koi_insol\",\"koi_duration\",\"koi_teq\",\"koi_srad\"]]"
      ],
      "metadata": {
        "id": "NaEzpiXnr5va"
      },
      "execution_count": 93,
      "outputs": []
    },
    {
      "cell_type": "code",
      "source": [
        "target = data[[\"koi_period\"]]"
      ],
      "metadata": {
        "id": "9PD-uSclwfY7"
      },
      "execution_count": 94,
      "outputs": []
    },
    {
      "cell_type": "code",
      "source": [
        "from sklearn.model_selection import train_test_split\n",
        "X_train, X_test, y_train, y_test = train_test_split(features,target,test_size=0.2)"
      ],
      "metadata": {
        "id": "lc7xR1r5w1nx"
      },
      "execution_count": 95,
      "outputs": []
    },
    {
      "cell_type": "code",
      "source": [
        "from sklearn.ensemble import RandomForestRegressor\n",
        "model = RandomForestRegressor(n_estimators = 300, oob_score=True)\n",
        "model.fit(X_train,y_train)\n",
        "oob_score = model.oob_score_\n",
        "print(\"The Final Model OOB Score:\",oob_score)"
      ],
      "metadata": {
        "colab": {
          "base_uri": "https://localhost:8080/"
        },
        "id": "BWQljtyYw_1y",
        "outputId": "49428a1f-cfaf-4082-f7e1-d3061d31bea1"
      },
      "execution_count": 96,
      "outputs": [
        {
          "output_type": "stream",
          "name": "stderr",
          "text": [
            "/usr/local/lib/python3.10/dist-packages/sklearn/base.py:1152: DataConversionWarning: A column-vector y was passed when a 1d array was expected. Please change the shape of y to (n_samples,), for example using ravel().\n",
            "  return fit_method(estimator, *args, **kwargs)\n"
          ]
        },
        {
          "output_type": "stream",
          "name": "stdout",
          "text": [
            "The Final Model OOB Score: 0.8649139466240625\n"
          ]
        }
      ]
    },
    {
      "cell_type": "code",
      "source": [
        "from rfpimp import importances, plot_importances\n",
        "\n",
        "imp = importances(model, features, target)\n",
        "print(imp)\n",
        "plot_importances(imp)"
      ],
      "metadata": {
        "colab": {
          "base_uri": "https://localhost:8080/",
          "height": 240
        },
        "id": "vbbmliR0xHTN",
        "outputId": "cebb36cc-f36b-42b9-8aa1-764468ceae5f"
      },
      "execution_count": 97,
      "outputs": [
        {
          "output_type": "stream",
          "name": "stdout",
          "text": [
            "              Importance\n",
            "Feature                 \n",
            "koi_insol       0.758250\n",
            "koi_duration    0.299791\n",
            "koi_srad        0.244183\n",
            "koi_teq         0.201011\n"
          ]
        },
        {
          "output_type": "execute_result",
          "data": {
            "text/plain": [
              "<rfpimp.PimpViz at 0x7a291dd760e0>"
            ],
            "image/svg+xml": "<?xml version=\"1.0\" encoding=\"utf-8\" standalone=\"no\"?>\n<!DOCTYPE svg PUBLIC \"-//W3C//DTD SVG 1.1//EN\"\n  \"http://www.w3.org/Graphics/SVG/1.1/DTD/svg11.dtd\">\n<svg xmlns:xlink=\"http://www.w3.org/1999/xlink\" width=\"266.2175pt\" height=\"85.998125pt\" viewBox=\"0 0 266.2175 85.998125\" xmlns=\"http://www.w3.org/2000/svg\" version=\"1.1\">\n <metadata>\n  <rdf:RDF xmlns:dc=\"http://purl.org/dc/elements/1.1/\" xmlns:cc=\"http://creativecommons.org/ns#\" xmlns:rdf=\"http://www.w3.org/1999/02/22-rdf-syntax-ns#\">\n   <cc:Work>\n    <dc:type rdf:resource=\"http://purl.org/dc/dcmitype/StillImage\"/>\n    <dc:date>2024-08-13T03:27:42.676508</dc:date>\n    <dc:format>image/svg+xml</dc:format>\n    <dc:creator>\n     <cc:Agent>\n      <dc:title>Matplotlib v3.7.1, https://matplotlib.org/</dc:title>\n     </cc:Agent>\n    </dc:creator>\n   </cc:Work>\n  </rdf:RDF>\n </metadata>\n <defs>\n  <style type=\"text/css\">*{stroke-linejoin: round; stroke-linecap: butt}</style>\n </defs>\n <g id=\"figure_1\">\n  <g id=\"patch_1\">\n   <path d=\"M 0 85.998125 \nL 266.2175 85.998125 \nL 266.2175 0 \nL 0 0 \nz\n\" style=\"fill: #ffffff\"/>\n  </g>\n  <g id=\"axes_1\">\n   <g id=\"patch_2\">\n    <path d=\"M 68.404687 69.32 \nL 255.084687 69.32 \nL 255.084687 0 \nL 68.404687 0 \nz\n\" style=\"fill: #ffffff\"/>\n   </g>\n   <g id=\"patch_3\">\n    <path d=\"M 68.894501 1.540444 \nL 254.594874 1.540444 \nL 254.594874 16.944889 \nL 68.894501 16.944889 \nz\n\" clip-path=\"url(#p7120120ddb)\" style=\"fill: #d9e6f5; stroke: #444443; stroke-width: 0.5; stroke-linejoin: miter\"/>\n   </g>\n   <g id=\"patch_4\">\n    <path d=\"M 68.894501 18.485333 \nL 142.315436 18.485333 \nL 142.315436 33.889778 \nL 68.894501 33.889778 \nz\n\" clip-path=\"url(#p7120120ddb)\" style=\"fill: #d9e6f5; stroke: #444443; stroke-width: 0.5; stroke-linejoin: miter\"/>\n   </g>\n   <g id=\"patch_5\">\n    <path d=\"M 68.894501 35.430222 \nL 128.696537 35.430222 \nL 128.696537 50.834667 \nL 68.894501 50.834667 \nz\n\" clip-path=\"url(#p7120120ddb)\" style=\"fill: #d9e6f5; stroke: #444443; stroke-width: 0.5; stroke-linejoin: miter\"/>\n   </g>\n   <g id=\"patch_6\">\n    <path d=\"M 68.894501 52.375111 \nL 118.123519 52.375111 \nL 118.123519 67.779556 \nL 68.894501 67.779556 \nz\n\" clip-path=\"url(#p7120120ddb)\" style=\"fill: #d9e6f5; stroke: #444443; stroke-width: 0.5; stroke-linejoin: miter\"/>\n   </g>\n   <g id=\"matplotlib.axis_1\">\n    <g id=\"xtick_1\">\n     <g id=\"line2d_1\">\n      <defs>\n       <path id=\"m149b6b4f45\" d=\"M 0 0 \nL 0 3.5 \n\" style=\"stroke: #000000; stroke-width: 0.8\"/>\n      </defs>\n      <g>\n       <use xlink:href=\"#m149b6b4f45\" x=\"68.894501\" y=\"69.32\" style=\"stroke: #000000; stroke-width: 0.8\"/>\n      </g>\n     </g>\n     <g id=\"text_1\">\n      <!-- 0.00 -->\n      <g style=\"fill: #444443\" transform=\"translate(57.761688 83.918437) scale(0.1 -0.1)\">\n       <defs>\n        <path id=\"DejaVuSans-30\" d=\"M 2034 4250 \nQ 1547 4250 1301 3770 \nQ 1056 3291 1056 2328 \nQ 1056 1369 1301 889 \nQ 1547 409 2034 409 \nQ 2525 409 2770 889 \nQ 3016 1369 3016 2328 \nQ 3016 3291 2770 3770 \nQ 2525 4250 2034 4250 \nz\nM 2034 4750 \nQ 2819 4750 3233 4129 \nQ 3647 3509 3647 2328 \nQ 3647 1150 3233 529 \nQ 2819 -91 2034 -91 \nQ 1250 -91 836 529 \nQ 422 1150 422 2328 \nQ 422 3509 836 4129 \nQ 1250 4750 2034 4750 \nz\n\" transform=\"scale(0.015625)\"/>\n        <path id=\"DejaVuSans-2e\" d=\"M 684 794 \nL 1344 794 \nL 1344 0 \nL 684 0 \nL 684 794 \nz\n\" transform=\"scale(0.015625)\"/>\n       </defs>\n       <use xlink:href=\"#DejaVuSans-30\"/>\n       <use xlink:href=\"#DejaVuSans-2e\" x=\"63.623047\"/>\n       <use xlink:href=\"#DejaVuSans-30\" x=\"95.410156\"/>\n       <use xlink:href=\"#DejaVuSans-30\" x=\"159.033203\"/>\n      </g>\n     </g>\n    </g>\n    <g id=\"xtick_2\">\n     <g id=\"line2d_2\">\n      <g>\n       <use xlink:href=\"#m149b6b4f45\" x=\"255.084687\" y=\"69.32\" style=\"stroke: #000000; stroke-width: 0.8\"/>\n      </g>\n     </g>\n     <g id=\"text_2\">\n      <!-- 0.76 -->\n      <g style=\"fill: #444443\" transform=\"translate(243.951875 83.918437) scale(0.1 -0.1)\">\n       <defs>\n        <path id=\"DejaVuSans-37\" d=\"M 525 4666 \nL 3525 4666 \nL 3525 4397 \nL 1831 0 \nL 1172 0 \nL 2766 4134 \nL 525 4134 \nL 525 4666 \nz\n\" transform=\"scale(0.015625)\"/>\n        <path id=\"DejaVuSans-36\" d=\"M 2113 2584 \nQ 1688 2584 1439 2293 \nQ 1191 2003 1191 1497 \nQ 1191 994 1439 701 \nQ 1688 409 2113 409 \nQ 2538 409 2786 701 \nQ 3034 994 3034 1497 \nQ 3034 2003 2786 2293 \nQ 2538 2584 2113 2584 \nz\nM 3366 4563 \nL 3366 3988 \nQ 3128 4100 2886 4159 \nQ 2644 4219 2406 4219 \nQ 1781 4219 1451 3797 \nQ 1122 3375 1075 2522 \nQ 1259 2794 1537 2939 \nQ 1816 3084 2150 3084 \nQ 2853 3084 3261 2657 \nQ 3669 2231 3669 1497 \nQ 3669 778 3244 343 \nQ 2819 -91 2113 -91 \nQ 1303 -91 875 529 \nQ 447 1150 447 2328 \nQ 447 3434 972 4092 \nQ 1497 4750 2381 4750 \nQ 2619 4750 2861 4703 \nQ 3103 4656 3366 4563 \nz\n\" transform=\"scale(0.015625)\"/>\n       </defs>\n       <use xlink:href=\"#DejaVuSans-30\"/>\n       <use xlink:href=\"#DejaVuSans-2e\" x=\"63.623047\"/>\n       <use xlink:href=\"#DejaVuSans-37\" x=\"95.410156\"/>\n       <use xlink:href=\"#DejaVuSans-36\" x=\"159.033203\"/>\n      </g>\n     </g>\n    </g>\n   </g>\n   <g id=\"matplotlib.axis_2\">\n    <g id=\"ytick_1\">\n     <g id=\"line2d_3\">\n      <defs>\n       <path id=\"mee67073bcb\" d=\"M 0 0 \nL -3.5 0 \n\" style=\"stroke: #000000; stroke-width: 0.8\"/>\n      </defs>\n      <g>\n       <use xlink:href=\"#mee67073bcb\" x=\"68.404687\" y=\"9.242667\" style=\"stroke: #000000; stroke-width: 0.8\"/>\n      </g>\n     </g>\n     <g id=\"text_3\">\n      <!-- koi_insol -->\n      <g style=\"fill: #444443\" transform=\"translate(18.857812 13.041885) scale(0.1 -0.1)\">\n       <defs>\n        <path id=\"DejaVuSans-6b\" d=\"M 581 4863 \nL 1159 4863 \nL 1159 1991 \nL 2875 3500 \nL 3609 3500 \nL 1753 1863 \nL 3688 0 \nL 2938 0 \nL 1159 1709 \nL 1159 0 \nL 581 0 \nL 581 4863 \nz\n\" transform=\"scale(0.015625)\"/>\n        <path id=\"DejaVuSans-6f\" d=\"M 1959 3097 \nQ 1497 3097 1228 2736 \nQ 959 2375 959 1747 \nQ 959 1119 1226 758 \nQ 1494 397 1959 397 \nQ 2419 397 2687 759 \nQ 2956 1122 2956 1747 \nQ 2956 2369 2687 2733 \nQ 2419 3097 1959 3097 \nz\nM 1959 3584 \nQ 2709 3584 3137 3096 \nQ 3566 2609 3566 1747 \nQ 3566 888 3137 398 \nQ 2709 -91 1959 -91 \nQ 1206 -91 779 398 \nQ 353 888 353 1747 \nQ 353 2609 779 3096 \nQ 1206 3584 1959 3584 \nz\n\" transform=\"scale(0.015625)\"/>\n        <path id=\"DejaVuSans-69\" d=\"M 603 3500 \nL 1178 3500 \nL 1178 0 \nL 603 0 \nL 603 3500 \nz\nM 603 4863 \nL 1178 4863 \nL 1178 4134 \nL 603 4134 \nL 603 4863 \nz\n\" transform=\"scale(0.015625)\"/>\n        <path id=\"DejaVuSans-5f\" d=\"M 3263 -1063 \nL 3263 -1509 \nL -63 -1509 \nL -63 -1063 \nL 3263 -1063 \nz\n\" transform=\"scale(0.015625)\"/>\n        <path id=\"DejaVuSans-6e\" d=\"M 3513 2113 \nL 3513 0 \nL 2938 0 \nL 2938 2094 \nQ 2938 2591 2744 2837 \nQ 2550 3084 2163 3084 \nQ 1697 3084 1428 2787 \nQ 1159 2491 1159 1978 \nL 1159 0 \nL 581 0 \nL 581 3500 \nL 1159 3500 \nL 1159 2956 \nQ 1366 3272 1645 3428 \nQ 1925 3584 2291 3584 \nQ 2894 3584 3203 3211 \nQ 3513 2838 3513 2113 \nz\n\" transform=\"scale(0.015625)\"/>\n        <path id=\"DejaVuSans-73\" d=\"M 2834 3397 \nL 2834 2853 \nQ 2591 2978 2328 3040 \nQ 2066 3103 1784 3103 \nQ 1356 3103 1142 2972 \nQ 928 2841 928 2578 \nQ 928 2378 1081 2264 \nQ 1234 2150 1697 2047 \nL 1894 2003 \nQ 2506 1872 2764 1633 \nQ 3022 1394 3022 966 \nQ 3022 478 2636 193 \nQ 2250 -91 1575 -91 \nQ 1294 -91 989 -36 \nQ 684 19 347 128 \nL 347 722 \nQ 666 556 975 473 \nQ 1284 391 1588 391 \nQ 1994 391 2212 530 \nQ 2431 669 2431 922 \nQ 2431 1156 2273 1281 \nQ 2116 1406 1581 1522 \nL 1381 1569 \nQ 847 1681 609 1914 \nQ 372 2147 372 2553 \nQ 372 3047 722 3315 \nQ 1072 3584 1716 3584 \nQ 2034 3584 2315 3537 \nQ 2597 3491 2834 3397 \nz\n\" transform=\"scale(0.015625)\"/>\n        <path id=\"DejaVuSans-6c\" d=\"M 603 4863 \nL 1178 4863 \nL 1178 0 \nL 603 0 \nL 603 4863 \nz\n\" transform=\"scale(0.015625)\"/>\n       </defs>\n       <use xlink:href=\"#DejaVuSans-6b\"/>\n       <use xlink:href=\"#DejaVuSans-6f\" x=\"54.285156\"/>\n       <use xlink:href=\"#DejaVuSans-69\" x=\"115.466797\"/>\n       <use xlink:href=\"#DejaVuSans-5f\" x=\"143.25\"/>\n       <use xlink:href=\"#DejaVuSans-69\" x=\"193.25\"/>\n       <use xlink:href=\"#DejaVuSans-6e\" x=\"221.033203\"/>\n       <use xlink:href=\"#DejaVuSans-73\" x=\"284.412109\"/>\n       <use xlink:href=\"#DejaVuSans-6f\" x=\"336.511719\"/>\n       <use xlink:href=\"#DejaVuSans-6c\" x=\"397.693359\"/>\n      </g>\n     </g>\n    </g>\n    <g id=\"ytick_2\">\n     <g id=\"line2d_4\">\n      <g>\n       <use xlink:href=\"#mee67073bcb\" x=\"68.404687\" y=\"26.187556\" style=\"stroke: #000000; stroke-width: 0.8\"/>\n      </g>\n     </g>\n     <g id=\"text_4\">\n      <!-- koi_duration -->\n      <g style=\"fill: #444443\" transform=\"translate(-0 29.986774) scale(0.1 -0.1)\">\n       <defs>\n        <path id=\"DejaVuSans-64\" d=\"M 2906 2969 \nL 2906 4863 \nL 3481 4863 \nL 3481 0 \nL 2906 0 \nL 2906 525 \nQ 2725 213 2448 61 \nQ 2172 -91 1784 -91 \nQ 1150 -91 751 415 \nQ 353 922 353 1747 \nQ 353 2572 751 3078 \nQ 1150 3584 1784 3584 \nQ 2172 3584 2448 3432 \nQ 2725 3281 2906 2969 \nz\nM 947 1747 \nQ 947 1113 1208 752 \nQ 1469 391 1925 391 \nQ 2381 391 2643 752 \nQ 2906 1113 2906 1747 \nQ 2906 2381 2643 2742 \nQ 2381 3103 1925 3103 \nQ 1469 3103 1208 2742 \nQ 947 2381 947 1747 \nz\n\" transform=\"scale(0.015625)\"/>\n        <path id=\"DejaVuSans-75\" d=\"M 544 1381 \nL 544 3500 \nL 1119 3500 \nL 1119 1403 \nQ 1119 906 1312 657 \nQ 1506 409 1894 409 \nQ 2359 409 2629 706 \nQ 2900 1003 2900 1516 \nL 2900 3500 \nL 3475 3500 \nL 3475 0 \nL 2900 0 \nL 2900 538 \nQ 2691 219 2414 64 \nQ 2138 -91 1772 -91 \nQ 1169 -91 856 284 \nQ 544 659 544 1381 \nz\nM 1991 3584 \nL 1991 3584 \nz\n\" transform=\"scale(0.015625)\"/>\n        <path id=\"DejaVuSans-72\" d=\"M 2631 2963 \nQ 2534 3019 2420 3045 \nQ 2306 3072 2169 3072 \nQ 1681 3072 1420 2755 \nQ 1159 2438 1159 1844 \nL 1159 0 \nL 581 0 \nL 581 3500 \nL 1159 3500 \nL 1159 2956 \nQ 1341 3275 1631 3429 \nQ 1922 3584 2338 3584 \nQ 2397 3584 2469 3576 \nQ 2541 3569 2628 3553 \nL 2631 2963 \nz\n\" transform=\"scale(0.015625)\"/>\n        <path id=\"DejaVuSans-61\" d=\"M 2194 1759 \nQ 1497 1759 1228 1600 \nQ 959 1441 959 1056 \nQ 959 750 1161 570 \nQ 1363 391 1709 391 \nQ 2188 391 2477 730 \nQ 2766 1069 2766 1631 \nL 2766 1759 \nL 2194 1759 \nz\nM 3341 1997 \nL 3341 0 \nL 2766 0 \nL 2766 531 \nQ 2569 213 2275 61 \nQ 1981 -91 1556 -91 \nQ 1019 -91 701 211 \nQ 384 513 384 1019 \nQ 384 1609 779 1909 \nQ 1175 2209 1959 2209 \nL 2766 2209 \nL 2766 2266 \nQ 2766 2663 2505 2880 \nQ 2244 3097 1772 3097 \nQ 1472 3097 1187 3025 \nQ 903 2953 641 2809 \nL 641 3341 \nQ 956 3463 1253 3523 \nQ 1550 3584 1831 3584 \nQ 2591 3584 2966 3190 \nQ 3341 2797 3341 1997 \nz\n\" transform=\"scale(0.015625)\"/>\n        <path id=\"DejaVuSans-74\" d=\"M 1172 4494 \nL 1172 3500 \nL 2356 3500 \nL 2356 3053 \nL 1172 3053 \nL 1172 1153 \nQ 1172 725 1289 603 \nQ 1406 481 1766 481 \nL 2356 481 \nL 2356 0 \nL 1766 0 \nQ 1100 0 847 248 \nQ 594 497 594 1153 \nL 594 3053 \nL 172 3053 \nL 172 3500 \nL 594 3500 \nL 594 4494 \nL 1172 4494 \nz\n\" transform=\"scale(0.015625)\"/>\n       </defs>\n       <use xlink:href=\"#DejaVuSans-6b\"/>\n       <use xlink:href=\"#DejaVuSans-6f\" x=\"54.285156\"/>\n       <use xlink:href=\"#DejaVuSans-69\" x=\"115.466797\"/>\n       <use xlink:href=\"#DejaVuSans-5f\" x=\"143.25\"/>\n       <use xlink:href=\"#DejaVuSans-64\" x=\"193.25\"/>\n       <use xlink:href=\"#DejaVuSans-75\" x=\"256.726562\"/>\n       <use xlink:href=\"#DejaVuSans-72\" x=\"320.105469\"/>\n       <use xlink:href=\"#DejaVuSans-61\" x=\"361.21875\"/>\n       <use xlink:href=\"#DejaVuSans-74\" x=\"422.498047\"/>\n       <use xlink:href=\"#DejaVuSans-69\" x=\"461.707031\"/>\n       <use xlink:href=\"#DejaVuSans-6f\" x=\"489.490234\"/>\n       <use xlink:href=\"#DejaVuSans-6e\" x=\"550.671875\"/>\n      </g>\n     </g>\n    </g>\n    <g id=\"ytick_3\">\n     <g id=\"line2d_5\">\n      <g>\n       <use xlink:href=\"#mee67073bcb\" x=\"68.404687\" y=\"43.132444\" style=\"stroke: #000000; stroke-width: 0.8\"/>\n      </g>\n     </g>\n     <g id=\"text_5\">\n      <!-- koi_srad -->\n      <g style=\"fill: #444443\" transform=\"translate(20.282812 46.931663) scale(0.1 -0.1)\">\n       <use xlink:href=\"#DejaVuSans-6b\"/>\n       <use xlink:href=\"#DejaVuSans-6f\" x=\"54.285156\"/>\n       <use xlink:href=\"#DejaVuSans-69\" x=\"115.466797\"/>\n       <use xlink:href=\"#DejaVuSans-5f\" x=\"143.25\"/>\n       <use xlink:href=\"#DejaVuSans-73\" x=\"193.25\"/>\n       <use xlink:href=\"#DejaVuSans-72\" x=\"245.349609\"/>\n       <use xlink:href=\"#DejaVuSans-61\" x=\"286.462891\"/>\n       <use xlink:href=\"#DejaVuSans-64\" x=\"347.742188\"/>\n      </g>\n     </g>\n    </g>\n    <g id=\"ytick_4\">\n     <g id=\"line2d_6\">\n      <g>\n       <use xlink:href=\"#mee67073bcb\" x=\"68.404687\" y=\"60.077333\" style=\"stroke: #000000; stroke-width: 0.8\"/>\n      </g>\n     </g>\n     <g id=\"text_6\">\n      <!-- koi_teq -->\n      <g style=\"fill: #444443\" transform=\"translate(25.657812 63.876552) scale(0.1 -0.1)\">\n       <defs>\n        <path id=\"DejaVuSans-65\" d=\"M 3597 1894 \nL 3597 1613 \nL 953 1613 \nQ 991 1019 1311 708 \nQ 1631 397 2203 397 \nQ 2534 397 2845 478 \nQ 3156 559 3463 722 \nL 3463 178 \nQ 3153 47 2828 -22 \nQ 2503 -91 2169 -91 \nQ 1331 -91 842 396 \nQ 353 884 353 1716 \nQ 353 2575 817 3079 \nQ 1281 3584 2069 3584 \nQ 2775 3584 3186 3129 \nQ 3597 2675 3597 1894 \nz\nM 3022 2063 \nQ 3016 2534 2758 2815 \nQ 2500 3097 2075 3097 \nQ 1594 3097 1305 2825 \nQ 1016 2553 972 2059 \nL 3022 2063 \nz\n\" transform=\"scale(0.015625)\"/>\n        <path id=\"DejaVuSans-71\" d=\"M 947 1747 \nQ 947 1113 1208 752 \nQ 1469 391 1925 391 \nQ 2381 391 2643 752 \nQ 2906 1113 2906 1747 \nQ 2906 2381 2643 2742 \nQ 2381 3103 1925 3103 \nQ 1469 3103 1208 2742 \nQ 947 2381 947 1747 \nz\nM 2906 525 \nQ 2725 213 2448 61 \nQ 2172 -91 1784 -91 \nQ 1150 -91 751 415 \nQ 353 922 353 1747 \nQ 353 2572 751 3078 \nQ 1150 3584 1784 3584 \nQ 2172 3584 2448 3432 \nQ 2725 3281 2906 2969 \nL 2906 3500 \nL 3481 3500 \nL 3481 -1331 \nL 2906 -1331 \nL 2906 525 \nz\n\" transform=\"scale(0.015625)\"/>\n       </defs>\n       <use xlink:href=\"#DejaVuSans-6b\"/>\n       <use xlink:href=\"#DejaVuSans-6f\" x=\"54.285156\"/>\n       <use xlink:href=\"#DejaVuSans-69\" x=\"115.466797\"/>\n       <use xlink:href=\"#DejaVuSans-5f\" x=\"143.25\"/>\n       <use xlink:href=\"#DejaVuSans-74\" x=\"193.25\"/>\n       <use xlink:href=\"#DejaVuSans-65\" x=\"232.458984\"/>\n       <use xlink:href=\"#DejaVuSans-71\" x=\"293.982422\"/>\n      </g>\n     </g>\n    </g>\n   </g>\n   <g id=\"patch_7\">\n    <path d=\"M 68.404687 69.32 \nL 68.404687 0 \n\" style=\"fill: none; stroke: #000000; stroke-width: 0.3; stroke-linejoin: miter; stroke-linecap: square\"/>\n   </g>\n   <g id=\"patch_8\">\n    <path d=\"M 255.084687 69.32 \nL 255.084687 0 \n\" style=\"fill: none; stroke: #000000; stroke-width: 0.3; stroke-linejoin: miter; stroke-linecap: square\"/>\n   </g>\n   <g id=\"patch_9\">\n    <path d=\"M 68.404687 69.32 \nL 255.084687 69.32 \n\" style=\"fill: none; stroke: #000000; stroke-width: 0.3; stroke-linejoin: miter; stroke-linecap: square\"/>\n   </g>\n   <g id=\"patch_10\">\n    <path d=\"M 68.404687 0 \nL 255.084687 0 \n\" style=\"fill: none; stroke: #000000; stroke-width: 0.3; stroke-linejoin: miter; stroke-linecap: square\"/>\n   </g>\n  </g>\n </g>\n <defs>\n  <clipPath id=\"p7120120ddb\">\n   <rect x=\"68.404687\" y=\"0\" width=\"186.68\" height=\"69.32\"/>\n  </clipPath>\n </defs>\n</svg>\n"
          },
          "metadata": {},
          "execution_count": 97
        }
      ]
    },
    {
      "cell_type": "code",
      "source": [
        "model.predict(X_test)"
      ],
      "metadata": {
        "colab": {
          "base_uri": "https://localhost:8080/"
        },
        "id": "eKP44CMyxNoe",
        "outputId": "2a48e6c6-45fa-4fc8-f0c6-b305dcce61ab"
      },
      "execution_count": 98,
      "outputs": [
        {
          "output_type": "execute_result",
          "data": {
            "text/plain": [
              "array([  9.40140485,   7.57265712,  14.85984619, 182.70127892,\n",
              "        36.41004747,  14.25655275,   1.7812745 ,  19.75640546,\n",
              "         1.13414864,   8.2065066 ,   3.7103815 ,   0.68017693,\n",
              "        57.94092448,   2.8040507 ,  20.52692588,   6.18481909,\n",
              "        65.88728733,  29.75747492,   8.90315662,   6.36120434,\n",
              "       151.62004967,  12.00997574,   4.17220173,  11.47216971,\n",
              "        23.97340785,   6.45698233,   2.12488304,   8.33067661,\n",
              "        11.35787917,  13.64975614,  26.62215037,   5.02573366,\n",
              "        14.06032862,  38.65965039,  10.9923171 ,  13.25759938,\n",
              "       126.01319507,  12.63879831,  10.21808387,  25.34043751,\n",
              "         7.45372651,   1.88372869,  10.11000163,  16.12947815,\n",
              "        33.90350696,  55.41165092,  43.80954617,   9.03740927,\n",
              "         1.47923497,   5.42961858,  37.70775237,  23.95768554,\n",
              "        14.71368119,   2.81154543,   2.95114328,   3.71716728,\n",
              "        25.9828247 ,  15.98527886,  26.80640241,  39.50044886,\n",
              "         6.58742278,  28.99258639,   2.38652542,  16.85650301,\n",
              "        48.62853893,   8.67331508,  47.23048487,  10.62076119,\n",
              "        33.33790014,  13.10109258, 128.35660113,   1.0369475 ,\n",
              "        12.29342633,   1.85838665,   3.95709966,   9.07376308,\n",
              "         4.01889883,   4.80367945,  24.25608557,   4.6560056 ,\n",
              "         6.19664993,  12.9326846 ,   6.01487697,   5.51712032,\n",
              "         8.37239756, 145.41959207,   9.36082226,  35.62293674,\n",
              "        99.92925012,   8.89335894,   7.27201497,   6.96010469,\n",
              "        38.11020436,   4.38972978,  10.61695634,  11.15206657,\n",
              "        15.41818944,   4.20057319,  13.9035141 ,   3.87710728,\n",
              "        92.79078399, 185.86013876, 101.41548253,   8.52196715,\n",
              "         4.04184858,   4.70726759,  44.36157462,   6.95211823,\n",
              "        60.02844691,   0.93007751,  45.49445102,   4.04432256,\n",
              "         3.64527526,   6.44469325,   4.84833909, 180.12189   ,\n",
              "        18.74892828,  23.25398715,   2.25685857,  73.89210248,\n",
              "        11.3831122 ,  10.42129325,  17.39224406,  19.43264062,\n",
              "        21.66935413,  14.0747117 ,  32.8907292 ,   2.51628811,\n",
              "         6.32070785,   1.15754071,   5.64928105,   2.66567608,\n",
              "        19.87540202,   4.19780135,  26.86145302,   8.30461824,\n",
              "         6.65992252,  25.69087473,   3.11885368,   3.40712913,\n",
              "        27.96738305,  45.63576082,  11.19173134,   3.2717528 ,\n",
              "        13.65891615,  17.78401405,   4.40055802,  10.09847252,\n",
              "        33.77535663,   3.05561653,  99.30651253,  51.58071077,\n",
              "        27.77983948,  12.48470133,   6.68407355,   5.90926488,\n",
              "         3.83382775,  87.77707938,   1.83048554,   4.88824107,\n",
              "        13.47655644,   0.78613534,   3.49627589,  40.42438153,\n",
              "        12.63429644,  32.15903177,   4.62496412,  13.63194543,\n",
              "        13.3462466 ,   9.92583075,   3.71289917,   5.95242094,\n",
              "        17.40372239,  13.96091504,  63.29701599,   2.74005086,\n",
              "        14.80065212,   3.32101259,  17.65170571,   5.18583703,\n",
              "         6.00396163,   7.71399572,   2.57576461,  18.29135028,\n",
              "         1.04101254,  15.36459261,  16.52641501,   7.59050839,\n",
              "         4.24379587,   7.20274098,   4.69998525,   3.06601023,\n",
              "        37.36519775,   3.54786075,   0.64874916,   7.9527641 ,\n",
              "        50.7752629 ,  31.4367518 ,  13.99290905,  46.49406229,\n",
              "        15.12292532,  64.94088678, 345.8222106 ,  13.27278259,\n",
              "         6.75042835,   0.70117361,   2.69007069,   5.5963016 ,\n",
              "         4.43340169,   3.16960303,   5.72281663,   9.6658875 ,\n",
              "        29.47013221,  11.68980263,  39.22276205,   8.44237566,\n",
              "         6.66978774,  17.98849179,   9.97477597,   5.31005815,\n",
              "        39.31690005,  17.25356144,  17.87633159,   1.90754999,\n",
              "         7.2227209 ,  19.93647345,  26.34304123,  11.67866505,\n",
              "         6.4348995 ,  12.80042118,  12.46817838,  37.61266315,\n",
              "        75.79630353,  10.22248421,   6.87651357,  22.61690036,\n",
              "         1.60009966,   6.43928502,  53.99388558,   2.58622437,\n",
              "         6.86975772,  40.12276464,   3.56375144,  96.1506535 ,\n",
              "       222.47436094,   5.68360211,   1.76896998,   4.95769983,\n",
              "        16.55315961,  13.18797335,   4.25857509,  40.95243252,\n",
              "        10.33823576,  29.49387395,   8.22193796,   1.01759025,\n",
              "        21.42493263,   7.14486265,   6.92126629,  17.72821626,\n",
              "        12.78501002,   6.03649941,   6.87725064,   7.60577352,\n",
              "         7.00265082, 116.64452732,  17.09525633,   6.30691994,\n",
              "         2.02111112,   6.86408767,   0.92805864,  37.64237397,\n",
              "         4.9280995 ,  31.79309837,  17.13855476,  13.542908  ,\n",
              "        11.97730897, 167.60207845,  20.32128488,   9.06376243,\n",
              "         7.72493868,   9.00882103,  42.49430245,  98.18600155,\n",
              "        20.86703805,   4.36263668,   4.1217628 ,   2.40281627,\n",
              "         8.72293626,   6.18138506,  24.3596639 ,  12.61032497,\n",
              "         6.77214455,   9.4770677 ,  38.22140189,   5.7787673 ,\n",
              "        20.19587559,   5.21145861,  17.53835263,  39.16781542,\n",
              "        89.26118763,  13.22638153,  16.66660057,  37.49810983,\n",
              "         0.9628693 ,  21.70757145,   7.0640417 ,  24.28392064,\n",
              "         9.20063628,   4.57989549,  70.28021168,  12.65778391,\n",
              "         3.52205177,  62.11627299,  27.32819898,   3.10816413,\n",
              "        64.17591439,   2.02041382,  17.12276583, 212.07004497,\n",
              "        60.0911401 ,   5.02259634,  11.80935028,  29.73320577,\n",
              "         8.75317483, 124.74176425,  23.7840473 ,   4.78695571,\n",
              "         5.3462294 ,   6.70897415,   1.3438268 ,  38.78557085,\n",
              "         1.13450841,  93.59760814,   1.61909259,   3.00069548,\n",
              "        97.32398525,  20.9410193 ,   7.09207798,  22.02514762,\n",
              "         9.90527518,  14.49067641,  83.82685342,  10.33957832,\n",
              "         8.72466269,  15.72734514,  11.11638657,   3.29615248,\n",
              "       252.74350003,   4.93765678,   4.29825127, 161.13787584,\n",
              "         5.04589354,   0.73081436,  10.54880302,   7.59045173,\n",
              "        75.45294146,  38.31164733,   2.0166275 ,   8.43414703,\n",
              "         0.93081367, 204.49671279,  21.75235441,   2.75013269,\n",
              "         4.74766435,   1.24309091,   5.76555028,   5.30649384,\n",
              "       259.4076373 ,   5.89595779,   3.6227015 ,   9.26304965,\n",
              "         2.26984427,  47.53784452,  25.75788146,   3.49822293,\n",
              "        26.39336768,   5.99157573,   8.86473766,  14.65931528,\n",
              "        11.02081159,   1.26594505,  31.61400481,  23.85937198,\n",
              "         6.15029807,   2.71056338,  10.15483772,  27.54906297,\n",
              "        88.77101534,  12.03743211,  65.56293486,   8.05799997,\n",
              "       108.09349758,  46.76372921,   6.81814835,   8.9746331 ,\n",
              "         7.06950868,   2.27127902,   0.90920054,  13.52077162,\n",
              "        13.04706344,  18.50016804,  23.48445802,  18.86192501,\n",
              "         9.22949017,   4.5583342 ,  14.45481325,  14.83377902,\n",
              "         1.08675905,  51.77041119,   1.05122456,  17.91241513,\n",
              "        72.41012749,   8.46677719,  22.66437468,  52.79495648,\n",
              "         1.84438073,   3.66318615,   1.83041326,   5.95789733,\n",
              "         9.97710032,  23.9422696 ,   8.73198419,  26.85814901,\n",
              "        22.96280674,  10.41562843,   4.26389255,  15.60350723,\n",
              "        73.65534814,   1.74983515,   3.3159519 ,  53.1288962 ,\n",
              "        11.36063686,   2.61915423,   1.49253453,  38.81440593,\n",
              "         4.63644808,  10.83745414,   4.04711829,  22.36539957,\n",
              "        18.63445601,  16.7443007 ,   2.70429182,   6.17742569,\n",
              "        14.53877064,   9.20678802,  15.75207635,   1.56732682,\n",
              "         2.58711893,   2.8557746 ,   7.65801872,   3.23604626,\n",
              "        53.29382796,   2.15528743,   1.64366673,  37.52635664,\n",
              "         9.23857257,   8.6282375 , 134.47405061,  15.06480296,\n",
              "        16.65686409,  11.04487908,  48.80892834,   0.65745899,\n",
              "        11.41885027,  35.80841379,  21.82848706,  15.4737914 ,\n",
              "         4.19179507,  66.86849229,  36.29702237,  11.18798397,\n",
              "        24.22907817,   0.64727482,   8.80785472,  11.14284295,\n",
              "         3.60531397,  16.35717031,   7.10990426,  17.19557329,\n",
              "        15.78344864, 116.5903582 ,   3.86775909,  32.7536131 ,\n",
              "        76.12351881,  17.45168394,   5.27839319,   0.92125312,\n",
              "       206.64482434,  21.75201045,  13.0988036 ,   8.65296147,\n",
              "         3.8818976 ,  68.2997474 ,  59.30570571,   1.05769754,\n",
              "        15.99260413,  77.42714037,   2.69105611,  10.40666987,\n",
              "        31.72000386,  12.24445177,  59.92520133,  71.70331451,\n",
              "         3.20534256,   5.50943483,   2.68458165,  21.15466037,\n",
              "        25.27854553,  17.78173504,   4.7304167 ,   2.96167922,\n",
              "        12.9445433 ,   3.67985493,  79.92436505,   2.45465875,\n",
              "         8.32813298,  27.4869029 ,  16.97926922,   3.0181128 ,\n",
              "       183.95226393,  88.37187099,   9.76668405,   5.96785417,\n",
              "        11.09458852,   5.08666948,   1.08937524,   2.39278982,\n",
              "        14.41269287,  39.55611093,   5.82106847,   5.09382128,\n",
              "       126.67332868,  16.34918877,   1.61927148,  34.86548801,\n",
              "         7.1387792 ,  54.38527947,   2.29232172,   4.33281595,\n",
              "        33.23222762,   8.86844049,   6.07025289,  55.4888467 ,\n",
              "         1.13156042,   2.33056658])"
            ]
          },
          "metadata": {},
          "execution_count": 98
        }
      ]
    },
    {
      "cell_type": "code",
      "source": [
        "model.score(X_train,y_train)"
      ],
      "metadata": {
        "colab": {
          "base_uri": "https://localhost:8080/"
        },
        "id": "-Cs2A36BxRla",
        "outputId": "9bb15796-8d66-4a97-a7bd-23a3e0666168"
      },
      "execution_count": 99,
      "outputs": [
        {
          "output_type": "execute_result",
          "data": {
            "text/plain": [
              "0.9813678769411217"
            ]
          },
          "metadata": {},
          "execution_count": 99
        }
      ]
    },
    {
      "cell_type": "code",
      "source": [
        "model.score(X_test,y_test)"
      ],
      "metadata": {
        "colab": {
          "base_uri": "https://localhost:8080/"
        },
        "id": "eAzkFsjVxaBi",
        "outputId": "6b1fc2e5-bfeb-45bd-92b3-fcde1d9877e9"
      },
      "execution_count": 100,
      "outputs": [
        {
          "output_type": "execute_result",
          "data": {
            "text/plain": [
              "0.9220620550499868"
            ]
          },
          "metadata": {},
          "execution_count": 100
        }
      ]
    },
    {
      "cell_type": "code",
      "source": [
        "from sklearn.model_selection import cross_val_score\n",
        "\n",
        "kcross_validation = cross_val_score(model, features, target, cv=5, scoring='r2')\n",
        "mean_cv_score_r2 = kcross_validation.mean()\n",
        "print(\"Mean Cross-Validated R-squared:\",mean_cv_score_r2)"
      ],
      "metadata": {
        "colab": {
          "base_uri": "https://localhost:8080/"
        },
        "id": "Uv1_ilPWxhWi",
        "outputId": "68346b52-d3da-42b1-c059-2bb51cffb5e1"
      },
      "execution_count": 101,
      "outputs": [
        {
          "output_type": "stream",
          "name": "stderr",
          "text": [
            "/usr/local/lib/python3.10/dist-packages/sklearn/base.py:1152: DataConversionWarning: A column-vector y was passed when a 1d array was expected. Please change the shape of y to (n_samples,), for example using ravel().\n",
            "  return fit_method(estimator, *args, **kwargs)\n",
            "/usr/local/lib/python3.10/dist-packages/sklearn/base.py:1152: DataConversionWarning: A column-vector y was passed when a 1d array was expected. Please change the shape of y to (n_samples,), for example using ravel().\n",
            "  return fit_method(estimator, *args, **kwargs)\n",
            "/usr/local/lib/python3.10/dist-packages/sklearn/base.py:1152: DataConversionWarning: A column-vector y was passed when a 1d array was expected. Please change the shape of y to (n_samples,), for example using ravel().\n",
            "  return fit_method(estimator, *args, **kwargs)\n",
            "/usr/local/lib/python3.10/dist-packages/sklearn/base.py:1152: DataConversionWarning: A column-vector y was passed when a 1d array was expected. Please change the shape of y to (n_samples,), for example using ravel().\n",
            "  return fit_method(estimator, *args, **kwargs)\n",
            "/usr/local/lib/python3.10/dist-packages/sklearn/base.py:1152: DataConversionWarning: A column-vector y was passed when a 1d array was expected. Please change the shape of y to (n_samples,), for example using ravel().\n",
            "  return fit_method(estimator, *args, **kwargs)\n"
          ]
        },
        {
          "output_type": "stream",
          "name": "stdout",
          "text": [
            "Mean Cross-Validated R-squared: 0.8783934277428482\n"
          ]
        }
      ]
    }
  ]
}